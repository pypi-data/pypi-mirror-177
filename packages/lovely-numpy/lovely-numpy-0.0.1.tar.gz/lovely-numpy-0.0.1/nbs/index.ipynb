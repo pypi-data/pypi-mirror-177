{
 "cells": [
  {
   "cell_type": "markdown",
   "metadata": {},
   "source": [
    "# 💟 Lovely NumPy\n",
    "\n",
    "> After all, you are only human."
   ]
  },
  {
   "cell_type": "markdown",
   "metadata": {},
   "source": [
    "## [Read full docs](https://xl0.github.io/lovely-numpy) | ❤️ [Lovely Tensors](https://github.com/xl0/lovely-tensors) | ❤️‍🔥 [ Lovely `JAX`](https://github.com/xl0/lovely-jax) |"
   ]
  },
  {
   "cell_type": "markdown",
   "metadata": {},
   "source": [
    "## Install\n",
    "\n",
    "```sh\n",
    "pip install lovely-numpy\n",
    "```"
   ]
  },
  {
   "cell_type": "markdown",
   "metadata": {},
   "source": [
    "## How to use"
   ]
  },
  {
   "cell_type": "code",
   "execution_count": null,
   "metadata": {},
   "outputs": [],
   "source": [
    "# |hide\n",
    "import numpy as np\n",
    "from PIL import Image\n",
    "from fastcore.test import test_eq"
   ]
  },
  {
   "cell_type": "code",
   "execution_count": null,
   "metadata": {},
   "outputs": [],
   "source": [
    "# |hide\n",
    "np.set_printoptions(precision=4)\n",
    "numbers = np.load(\"mysteryman.npy\")"
   ]
  },
  {
   "cell_type": "markdown",
   "metadata": {},
   "source": [
    "How often do you find yourself debugging NumPy code? You dump a tensor to the cell output, and see this:"
   ]
  },
  {
   "cell_type": "code",
   "execution_count": null,
   "metadata": {},
   "outputs": [
    {
     "data": {
      "text/plain": [
       "array([[[-0.3541, -0.3369, -0.4054, ..., -0.5596, -0.4739,  2.2489],\n",
       "        [-0.4054, -0.4226, -0.4911, ..., -0.9192, -0.8507,  2.1633],\n",
       "        [-0.4739, -0.4739, -0.5424, ..., -1.039 , -1.039 ,  2.1975],\n",
       "        ...,\n",
       "        [-0.902 , -0.8335, -0.9363, ..., -1.4672, -1.2959,  2.2318],\n",
       "        [-0.8507, -0.7822, -0.9363, ..., -1.6042, -1.5014,  2.1804],\n",
       "        [-0.8335, -0.8164, -0.9705, ..., -1.6555, -1.5528,  2.1119]],\n",
       "\n",
       "       [[-0.1975, -0.1975, -0.3025, ..., -0.4776, -0.3725,  2.4111],\n",
       "        [-0.25  , -0.2325, -0.3375, ..., -0.7052, -0.6702,  2.3585],\n",
       "        [-0.3025, -0.285 , -0.3901, ..., -0.7402, -0.8102,  2.3761],\n",
       "        ...,\n",
       "        [-0.4251, -0.2325, -0.3725, ..., -1.0903, -1.0203,  2.4286],\n",
       "        [-0.3901, -0.2325, -0.4251, ..., -1.2304, -1.2304,  2.4111],\n",
       "        [-0.4076, -0.285 , -0.4776, ..., -1.2829, -1.2829,  2.341 ]],\n",
       "\n",
       "       [[-0.6715, -0.9853, -0.8807, ..., -0.9678, -0.689 ,  2.396 ],\n",
       "        [-0.7238, -1.0724, -0.9678, ..., -1.2467, -1.0201,  2.3263],\n",
       "        [-0.8284, -1.1247, -1.0201, ..., -1.2641, -1.1596,  2.3786],\n",
       "        ...,\n",
       "        [-1.2293, -1.4733, -1.3861, ..., -1.5081, -1.2641,  2.518 ],\n",
       "        [-1.1944, -1.4559, -1.421 , ..., -1.6476, -1.4733,  2.4308],\n",
       "        [-1.2293, -1.5256, -1.5081, ..., -1.6824, -1.5256,  2.3611]]],\n",
       "      dtype=float32)"
      ]
     },
     "execution_count": null,
     "metadata": {},
     "output_type": "execute_result"
    }
   ],
   "source": [
    "numbers "
   ]
  },
  {
   "cell_type": "markdown",
   "metadata": {},
   "source": [
    "Was it really useful for you, as a human, to see all these numbers?\n",
    "\n",
    "What is the shape? The size?\\\n",
    "What are the statistics?\\\n",
    "Are any of the values `nan` or `inf`?\\\n",
    "Is it an image of a man holding a tench?"
   ]
  },
  {
   "cell_type": "code",
   "execution_count": null,
   "metadata": {},
   "outputs": [],
   "source": [
    "from lovely_numpy import lovely"
   ]
  },
  {
   "cell_type": "markdown",
   "metadata": {},
   "source": [
    "## `lovely()`"
   ]
  },
  {
   "cell_type": "code",
   "execution_count": null,
   "metadata": {},
   "outputs": [
    {
     "data": {
      "text/plain": [
       "ndarray[3, 196, 196] f32 n=115248 x∈[-2.118, 2.640] μ=-0.388 σ=1.073"
      ]
     },
     "execution_count": null,
     "metadata": {},
     "output_type": "execute_result"
    }
   ],
   "source": [
    "lovely(numbers)"
   ]
  },
  {
   "cell_type": "markdown",
   "metadata": {},
   "source": [
    "Better, huh?"
   ]
  },
  {
   "cell_type": "code",
   "execution_count": null,
   "metadata": {},
   "outputs": [
    {
     "data": {
      "text/plain": [
       "ndarray[6] f32 x∈[-0.443, -0.197] μ=-0.311 σ=0.083 [-0.197, -0.232, -0.285, -0.373, -0.443, -0.338]"
      ]
     },
     "execution_count": null,
     "metadata": {},
     "output_type": "execute_result"
    }
   ],
   "source": [
    "lovely(numbers[1,:6,1]) # Still shows values if there are not too many."
   ]
  },
  {
   "cell_type": "code",
   "execution_count": null,
   "metadata": {},
   "outputs": [
    {
     "data": {
      "text/plain": [
       "ndarray[2, 6] f32 n=12 x∈[-3.541e+03, -4.054e-05] μ=-393.842 σ=1.113e+03 \u001b[31m+Inf!\u001b[0m \u001b[31m-Inf!\u001b[0m \u001b[31mNaN!\u001b[0m"
      ]
     },
     "execution_count": null,
     "metadata": {},
     "output_type": "execute_result"
    }
   ],
   "source": [
    "spicy = numbers[0,:12,0].copy()\n",
    "\n",
    "spicy[0] *= 10000\n",
    "spicy[1] /= 10000\n",
    "spicy[2] = float('inf')\n",
    "spicy[3] = float('-inf')\n",
    "spicy[4] = float('nan')\n",
    "\n",
    "spicy = spicy.reshape((2,6))\n",
    "lovely(spicy) # Spicy stuff"
   ]
  },
  {
   "cell_type": "code",
   "execution_count": null,
   "metadata": {},
   "outputs": [
    {
     "data": {
      "text/plain": [
       "ndarray[10, 10] \u001b[38;2;127;127;127mall_zeros\u001b[0m"
      ]
     },
     "execution_count": null,
     "metadata": {},
     "output_type": "execute_result"
    }
   ],
   "source": [
    "lovely(np.zeros((10, 10))) # A zero array - make it obvious"
   ]
  },
  {
   "cell_type": "code",
   "execution_count": null,
   "metadata": {},
   "outputs": [
    {
     "data": {
      "text/plain": [
       "ndarray[2, 6] f32 n=12 x∈[-3.541e+03, -4.054e-05] μ=-393.842 σ=1.113e+03 \u001b[31m+Inf!\u001b[0m \u001b[31m-Inf!\u001b[0m \u001b[31mNaN!\u001b[0m\n",
       "array([[-3.5405e+03, -4.0543e-05,         inf,        -inf,         nan,\n",
       "        -6.1093e-01],\n",
       "       [-6.1093e-01, -5.9380e-01, -5.9380e-01, -5.4243e-01, -5.4243e-01,\n",
       "        -5.4243e-01]], dtype=float32)"
      ]
     },
     "execution_count": null,
     "metadata": {},
     "output_type": "execute_result"
    }
   ],
   "source": [
    "lovely(spicy, verbose=True)"
   ]
  },
  {
   "cell_type": "markdown",
   "metadata": {},
   "source": [
    "## Going `.deeper`"
   ]
  },
  {
   "cell_type": "code",
   "execution_count": null,
   "metadata": {},
   "outputs": [
    {
     "data": {
      "text/plain": [
       "ndarray[3, 196, 196] f32 n=115248 x∈[-2.118, 2.640] μ=-0.388 σ=1.073\n",
       "  ndarray[196, 196] f32 n=38416 x∈[-2.118, 2.249] μ=-0.324 σ=1.036\n",
       "  ndarray[196, 196] f32 n=38416 x∈[-1.966, 2.429] μ=-0.274 σ=0.973\n",
       "  ndarray[196, 196] f32 n=38416 x∈[-1.804, 2.640] μ=-0.567 σ=1.178"
      ]
     },
     "execution_count": null,
     "metadata": {},
     "output_type": "execute_result"
    }
   ],
   "source": [
    "lovely(numbers, depth=1)"
   ]
  },
  {
   "cell_type": "code",
   "execution_count": null,
   "metadata": {},
   "outputs": [
    {
     "data": {
      "text/plain": [
       "ndarray[3, 3, 5] f32 n=45 x∈[-1.316, -0.197] μ=-0.593 σ=0.302\n",
       "  ndarray[3, 5] f32 n=15 x∈[-0.765, -0.337] μ=-0.492 σ=0.119\n",
       "    ndarray[5] f32 x∈[-0.440, -0.337] μ=-0.385 σ=0.037 [-0.354, -0.337, -0.405, -0.440, -0.388]\n",
       "    ndarray[5] f32 x∈[-0.662, -0.405] μ=-0.512 σ=0.097 [-0.405, -0.423, -0.491, -0.577, -0.662]\n",
       "    ndarray[5] f32 x∈[-0.765, -0.474] μ=-0.580 σ=0.112 [-0.474, -0.474, -0.542, -0.645, -0.765]\n",
       "  ndarray[3, 5] f32 n=15 x∈[-0.513, -0.197] μ=-0.321 σ=0.096\n",
       "    ndarray[5] f32 x∈[-0.303, -0.197] μ=-0.243 σ=0.049 [-0.197, -0.197, -0.303, -0.303, -0.215]\n",
       "    ndarray[5] f32 x∈[-0.408, -0.232] μ=-0.327 σ=0.075 [-0.250, -0.232, -0.338, -0.408, -0.408]\n",
       "    ndarray[5] f32 x∈[-0.513, -0.285] μ=-0.394 σ=0.091 [-0.303, -0.285, -0.390, -0.478, -0.513]\n",
       "  ndarray[3, 5] f32 n=15 x∈[-1.316, -0.672] μ=-0.964 σ=0.170\n",
       "    ndarray[5] f32 x∈[-0.985, -0.672] μ=-0.846 σ=0.110 [-0.672, -0.985, -0.881, -0.776, -0.916]\n",
       "    ndarray[5] f32 x∈[-1.212, -0.724] μ=-0.989 σ=0.160 [-0.724, -1.072, -0.968, -0.968, -1.212]\n",
       "    ndarray[5] f32 x∈[-1.316, -0.828] μ=-1.058 σ=0.160 [-0.828, -1.125, -1.020, -1.003, -1.316]"
      ]
     },
     "execution_count": null,
     "metadata": {},
     "output_type": "execute_result"
    }
   ],
   "source": [
    "# You can go deeper if you need to\n",
    "lovely(numbers[:,:3,:5], depth=2)"
   ]
  }
 ],
 "metadata": {
  "kernelspec": {
   "display_name": "Python 3.10.6 ('torch')",
   "language": "python",
   "name": "python3"
  }
 },
 "nbformat": 4,
 "nbformat_minor": 4
}
