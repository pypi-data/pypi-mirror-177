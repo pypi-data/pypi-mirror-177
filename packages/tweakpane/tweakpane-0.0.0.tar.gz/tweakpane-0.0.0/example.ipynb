{
 "cells": [
  {
   "cell_type": "code",
   "execution_count": null,
   "id": "870707da-dc0c-4992-b071-d275c9e29055",
   "metadata": {},
   "outputs": [],
   "source": [
    "%load_ext autoreload\n",
    "%autoreload 2"
   ]
  },
  {
   "cell_type": "code",
   "execution_count": null,
   "id": "299f38b3-008a-4835-b94e-94b9c9257872",
   "metadata": {},
   "outputs": [],
   "source": [
    "from tweakpane import Pane\n",
    "import ipywidgets\n",
    "        \n",
    "pane = Pane(layout=ipywidgets.Layout(width=\"50%\"))\n",
    "\n",
    "pane.add_input(\"count\", 10, step=10)\n",
    "pane.add_input(\"counts\", 10, step=10)\n",
    "pane.add_input(\"color\", dict(r=255, g=200, b=100))\n",
    "\n",
    "with pane.folder(title=\"Parameters\") as folder:\n",
    "    folder.add_input(\"test\", 100)\n",
    "    \n",
    "    with pane.folder(title=\"Inner Folder\") as inner:\n",
    "        inner.add_monitor(\"something\", 0, view=\"graph\")\n",
    "\n",
    "pane"
   ]
  },
  {
   "cell_type": "code",
   "execution_count": 2,
   "id": "392b5ca4-0b5e-4bc0-be95-e194811e7472",
   "metadata": {},
   "outputs": [
    {
     "data": {
      "application/vnd.jupyter.widget-view+json": {
       "model_id": "9dfecdb1e31444779355bf7fcbd02edb",
       "version_major": 2,
       "version_minor": 0
      },
      "text/plain": [
       "Pane()"
      ]
     },
     "execution_count": 2,
     "metadata": {},
     "output_type": "execute_result"
    }
   ],
   "source": [
    "import tweakpane\n",
    "\n",
    "pane = tweakpane.Pane()\n",
    "\n",
    "pane.add_input(\"checkbox\", True)\n",
    "pane.add_input(\"number\", 10.00)\n",
    "pane.add_input(\"slider\", 10, min=0, max=200)\n",
    "\n",
    "with pane.folder(title=\"Folder\") as f:\n",
    "    f.add_input(\"color\", dict(r=255, g=200, b=100))\n",
    "    f.add_input(\"text\", \"Tweakpane\")\n",
    "    \n",
    "pane"
   ]
  },
  {
   "cell_type": "code",
   "execution_count": 3,
   "id": "d26aeac5-f7ec-405c-ac85-bfa04d8bbb13",
   "metadata": {},
   "outputs": [],
   "source": [
    "import ipywidgets\n",
    "\n",
    "\n",
    "pane"
   ]
  },
  {
   "cell_type": "code",
   "execution_count": null,
   "id": "eb1f229b-513c-4b3c-9191-66a09302726f",
   "metadata": {},
   "outputs": [],
   "source": []
  }
 ],
 "metadata": {
  "kernelspec": {
   "display_name": "Python 3 (ipykernel)",
   "language": "python",
   "name": "python3"
  },
  "language_info": {
   "codemirror_mode": {
    "name": "ipython",
    "version": 3
   },
   "file_extension": ".py",
   "mimetype": "text/x-python",
   "name": "python",
   "nbconvert_exporter": "python",
   "pygments_lexer": "ipython3",
   "version": "3.10.6"
  }
 },
 "nbformat": 4,
 "nbformat_minor": 5
}
