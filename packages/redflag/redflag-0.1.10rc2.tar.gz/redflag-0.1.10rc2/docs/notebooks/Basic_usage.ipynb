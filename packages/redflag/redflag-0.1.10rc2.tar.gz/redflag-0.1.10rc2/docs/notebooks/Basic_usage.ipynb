{
 "cells": [
  {
   "cell_type": "markdown",
   "metadata": {},
   "source": [
    "# 🚩 Basic usage\n",
    "\n",
    "**Welcome to `redflag`.** It's still early days for this library, but there are a few things you can do:\n",
    "\n",
    "- Outlier detection\n",
    "- Clipping detection\n",
    "- Imbalance metrics (for labels and any other categorical variables)\n",
    "- Distribution shape\n",
    "- Identical distribution assumption\n",
    "- Independence assumption\n",
    "- Feature importance metrics"
   ]
  },
  {
   "cell_type": "code",
   "execution_count": 1,
   "metadata": {},
   "outputs": [
    {
     "data": {
      "text/plain": [
       "'0.1.8.dev40+gc30452b.d20220831'"
      ]
     },
     "execution_count": 1,
     "metadata": {},
     "output_type": "execute_result"
    }
   ],
   "source": [
    "import redflag as rf\n",
    "\n",
    "rf.__version__"
   ]
  },
  {
   "cell_type": "markdown",
   "metadata": {},
   "source": [
    "## Load some data"
   ]
  },
  {
   "cell_type": "code",
   "execution_count": 2,
   "metadata": {},
   "outputs": [
    {
     "data": {
      "text/html": [
       "<div>\n",
       "<style scoped>\n",
       "    .dataframe tbody tr th:only-of-type {\n",
       "        vertical-align: middle;\n",
       "    }\n",
       "\n",
       "    .dataframe tbody tr th {\n",
       "        vertical-align: top;\n",
       "    }\n",
       "\n",
       "    .dataframe thead th {\n",
       "        text-align: right;\n",
       "    }\n",
       "</style>\n",
       "<table border=\"1\" class=\"dataframe\">\n",
       "  <thead>\n",
       "    <tr style=\"text-align: right;\">\n",
       "      <th></th>\n",
       "      <th>count</th>\n",
       "      <th>mean</th>\n",
       "      <th>std</th>\n",
       "      <th>min</th>\n",
       "      <th>25%</th>\n",
       "      <th>50%</th>\n",
       "      <th>75%</th>\n",
       "      <th>max</th>\n",
       "    </tr>\n",
       "  </thead>\n",
       "  <tbody>\n",
       "    <tr>\n",
       "      <th>Depth</th>\n",
       "      <td>3966.0</td>\n",
       "      <td>882.674555</td>\n",
       "      <td>40.150056</td>\n",
       "      <td>784.402800</td>\n",
       "      <td>858.012000</td>\n",
       "      <td>888.339600</td>\n",
       "      <td>913.028400</td>\n",
       "      <td>963.320400</td>\n",
       "    </tr>\n",
       "    <tr>\n",
       "      <th>RelPos</th>\n",
       "      <td>3966.0</td>\n",
       "      <td>0.524999</td>\n",
       "      <td>0.286375</td>\n",
       "      <td>0.010000</td>\n",
       "      <td>0.282000</td>\n",
       "      <td>0.531000</td>\n",
       "      <td>0.773000</td>\n",
       "      <td>1.000000</td>\n",
       "    </tr>\n",
       "    <tr>\n",
       "      <th>Marine</th>\n",
       "      <td>3966.0</td>\n",
       "      <td>1.325013</td>\n",
       "      <td>0.589539</td>\n",
       "      <td>0.000000</td>\n",
       "      <td>1.000000</td>\n",
       "      <td>1.000000</td>\n",
       "      <td>2.000000</td>\n",
       "      <td>2.000000</td>\n",
       "    </tr>\n",
       "    <tr>\n",
       "      <th>GR</th>\n",
       "      <td>3966.0</td>\n",
       "      <td>64.367899</td>\n",
       "      <td>28.414603</td>\n",
       "      <td>12.036000</td>\n",
       "      <td>45.311250</td>\n",
       "      <td>64.840000</td>\n",
       "      <td>78.809750</td>\n",
       "      <td>200.000000</td>\n",
       "    </tr>\n",
       "    <tr>\n",
       "      <th>ILD</th>\n",
       "      <td>3966.0</td>\n",
       "      <td>5.240308</td>\n",
       "      <td>3.190416</td>\n",
       "      <td>0.340408</td>\n",
       "      <td>3.169567</td>\n",
       "      <td>4.305266</td>\n",
       "      <td>6.664234</td>\n",
       "      <td>32.136605</td>\n",
       "    </tr>\n",
       "    <tr>\n",
       "      <th>DeltaPHI</th>\n",
       "      <td>3966.0</td>\n",
       "      <td>3.469088</td>\n",
       "      <td>4.922310</td>\n",
       "      <td>-21.832000</td>\n",
       "      <td>1.000000</td>\n",
       "      <td>3.292500</td>\n",
       "      <td>6.124750</td>\n",
       "      <td>18.600000</td>\n",
       "    </tr>\n",
       "    <tr>\n",
       "      <th>PHIND</th>\n",
       "      <td>3966.0</td>\n",
       "      <td>13.008807</td>\n",
       "      <td>6.936391</td>\n",
       "      <td>0.550000</td>\n",
       "      <td>8.196250</td>\n",
       "      <td>11.781500</td>\n",
       "      <td>16.050000</td>\n",
       "      <td>52.369000</td>\n",
       "    </tr>\n",
       "    <tr>\n",
       "      <th>PE</th>\n",
       "      <td>3966.0</td>\n",
       "      <td>3.686427</td>\n",
       "      <td>0.815113</td>\n",
       "      <td>0.200000</td>\n",
       "      <td>3.123000</td>\n",
       "      <td>3.514500</td>\n",
       "      <td>4.241750</td>\n",
       "      <td>8.094000</td>\n",
       "    </tr>\n",
       "    <tr>\n",
       "      <th>Facies</th>\n",
       "      <td>3966.0</td>\n",
       "      <td>4.471004</td>\n",
       "      <td>2.406180</td>\n",
       "      <td>1.000000</td>\n",
       "      <td>2.000000</td>\n",
       "      <td>4.000000</td>\n",
       "      <td>6.000000</td>\n",
       "      <td>9.000000</td>\n",
       "    </tr>\n",
       "    <tr>\n",
       "      <th>LATITUDE</th>\n",
       "      <td>3966.0</td>\n",
       "      <td>37.632575</td>\n",
       "      <td>0.299398</td>\n",
       "      <td>37.180732</td>\n",
       "      <td>37.356426</td>\n",
       "      <td>37.500380</td>\n",
       "      <td>37.910583</td>\n",
       "      <td>38.063373</td>\n",
       "    </tr>\n",
       "    <tr>\n",
       "      <th>LONGITUDE</th>\n",
       "      <td>3966.0</td>\n",
       "      <td>-101.294895</td>\n",
       "      <td>0.230454</td>\n",
       "      <td>-101.646452</td>\n",
       "      <td>-101.389189</td>\n",
       "      <td>-101.325130</td>\n",
       "      <td>-101.106045</td>\n",
       "      <td>-100.987305</td>\n",
       "    </tr>\n",
       "    <tr>\n",
       "      <th>ILD_log10</th>\n",
       "      <td>3966.0</td>\n",
       "      <td>0.648860</td>\n",
       "      <td>0.251542</td>\n",
       "      <td>-0.468000</td>\n",
       "      <td>0.501000</td>\n",
       "      <td>0.634000</td>\n",
       "      <td>0.823750</td>\n",
       "      <td>1.507000</td>\n",
       "    </tr>\n",
       "    <tr>\n",
       "      <th>RHOB</th>\n",
       "      <td>3966.0</td>\n",
       "      <td>2288.861692</td>\n",
       "      <td>218.038459</td>\n",
       "      <td>1500.000000</td>\n",
       "      <td>2201.007475</td>\n",
       "      <td>2342.202051</td>\n",
       "      <td>2434.166399</td>\n",
       "      <td>2802.871147</td>\n",
       "    </tr>\n",
       "  </tbody>\n",
       "</table>\n",
       "</div>"
      ],
      "text/plain": [
       "            count         mean         std          min          25%  \\\n",
       "Depth      3966.0   882.674555   40.150056   784.402800   858.012000   \n",
       "RelPos     3966.0     0.524999    0.286375     0.010000     0.282000   \n",
       "Marine     3966.0     1.325013    0.589539     0.000000     1.000000   \n",
       "GR         3966.0    64.367899   28.414603    12.036000    45.311250   \n",
       "ILD        3966.0     5.240308    3.190416     0.340408     3.169567   \n",
       "DeltaPHI   3966.0     3.469088    4.922310   -21.832000     1.000000   \n",
       "PHIND      3966.0    13.008807    6.936391     0.550000     8.196250   \n",
       "PE         3966.0     3.686427    0.815113     0.200000     3.123000   \n",
       "Facies     3966.0     4.471004    2.406180     1.000000     2.000000   \n",
       "LATITUDE   3966.0    37.632575    0.299398    37.180732    37.356426   \n",
       "LONGITUDE  3966.0  -101.294895    0.230454  -101.646452  -101.389189   \n",
       "ILD_log10  3966.0     0.648860    0.251542    -0.468000     0.501000   \n",
       "RHOB       3966.0  2288.861692  218.038459  1500.000000  2201.007475   \n",
       "\n",
       "                   50%          75%          max  \n",
       "Depth       888.339600   913.028400   963.320400  \n",
       "RelPos        0.531000     0.773000     1.000000  \n",
       "Marine        1.000000     2.000000     2.000000  \n",
       "GR           64.840000    78.809750   200.000000  \n",
       "ILD           4.305266     6.664234    32.136605  \n",
       "DeltaPHI      3.292500     6.124750    18.600000  \n",
       "PHIND        11.781500    16.050000    52.369000  \n",
       "PE            3.514500     4.241750     8.094000  \n",
       "Facies        4.000000     6.000000     9.000000  \n",
       "LATITUDE     37.500380    37.910583    38.063373  \n",
       "LONGITUDE  -101.325130  -101.106045  -100.987305  \n",
       "ILD_log10     0.634000     0.823750     1.507000  \n",
       "RHOB       2342.202051  2434.166399  2802.871147  "
      ]
     },
     "execution_count": 2,
     "metadata": {},
     "output_type": "execute_result"
    }
   ],
   "source": [
    "import pandas as pd\n",
    "\n",
    "df = pd.read_csv('https://geocomp.s3.amazonaws.com/data/Panoma_training_data.csv')\n",
    "\n",
    "# Look at the transposed summary: each column in the DataFrame is a row here.\n",
    "df.describe().T"
   ]
  },
  {
   "cell_type": "markdown",
   "metadata": {},
   "source": [
    "## Categorical or continuous?"
   ]
  },
  {
   "cell_type": "markdown",
   "metadata": {},
   "source": [
    "It's fairly easy to tell if a column is numeric or not, but harder to decide if it's continuous or categorical. We can use `is_continuous()` to check if a feature (or the target) is continuous. It uses heuristics and is definitely not foolproof. `redflag` uses it internally sometimes to decide how to treat a feature or target."
   ]
  },
  {
   "cell_type": "code",
   "execution_count": 3,
   "metadata": {},
   "outputs": [
    {
     "name": "stdout",
     "output_type": "stream",
     "text": [
      "           Well Name ... False\n",
      "               Depth ... True\n",
      "           Formation ... False\n",
      "              RelPos ... True\n",
      "              Marine ... False\n",
      "                  GR ... True\n",
      "                 ILD ... True\n",
      "            DeltaPHI ... True\n",
      "               PHIND ... True\n",
      "                  PE ... True\n",
      "              Facies ... False\n",
      "            LATITUDE ... True\n",
      "           LONGITUDE ... True\n",
      "           ILD_log10 ... True\n",
      "           Lithology ... False\n",
      "                RHOB ... True\n",
      "          Mineralogy ... False\n",
      "       Siliciclastic ... False\n"
     ]
    }
   ],
   "source": [
    "for col in df.columns:\n",
    "    print(f\"{col:>20s} ... {rf.is_continuous(df[col])}\")"
   ]
  },
  {
   "cell_type": "markdown",
   "metadata": {},
   "source": [
    "These are all correct."
   ]
  },
  {
   "cell_type": "markdown",
   "metadata": {},
   "source": [
    "## Imbalance metrics\n",
    "\n",
    "First, we'll look at measuring imbalance in the target using `rf.class_imbalance()`. For binary targets, the metric is imbalace ratio (ratio between majority and minority class). For multiclass targets, the metric is imbalance degree [(Ortigosa-Hernandez et al, 2017)](https://doi.org/10.1016/j.patrec.2017.08.002), a single-value measure that explains (a) how many minority classes there are and (b) how skewed the supports are."
   ]
  },
  {
   "cell_type": "code",
   "execution_count": 4,
   "metadata": {},
   "outputs": [
    {
     "data": {
      "text/plain": [
       "8.347368420878391"
      ]
     },
     "execution_count": 4,
     "metadata": {},
     "output_type": "execute_result"
    }
   ],
   "source": [
    "rf.imbalance_ratio(df['Lithology'])"
   ]
  },
  {
   "cell_type": "markdown",
   "metadata": {},
   "source": [
    "To interpret this number, split it into two parts:\n",
    "\n",
    "- The integer part, 3, is equal to $m - 1$, where $m$ is the number of minority classes.\n",
    "- The fractional part, 0.378..., is a measure of the amount of imbalance, where 0 means the dataset is balanced perfectly and 0.999... is really bad.\n",
    "\n",
    "If the imbalance degree is -1 then there are no minority classes and all the classes have equal support.\n",
    "\n",
    "In general, this statistic is more informative than the commonly used 'imbalance ratio' (`rf.imbalance_ratio()`), which is the ratio of support in the maximum majority class to that in the minimum minority class, with no regard for the support of the other classes."
   ]
  },
  {
   "cell_type": "markdown",
   "metadata": {},
   "source": [
    "We can get the minority classes, which are those with fewer samples than expected. These are returned in order, smallest first:"
   ]
  },
  {
   "cell_type": "code",
   "execution_count": 5,
   "metadata": {},
   "outputs": [
    {
     "data": {
      "text/plain": [
       "array(['dolomite', 'sandstone', 'mudstone', 'wackestone'], dtype='<U10')"
      ]
     },
     "execution_count": 5,
     "metadata": {},
     "output_type": "execute_result"
    }
   ],
   "source": [
    "rf.minority_classes(df['Lithology'])"
   ]
  },
  {
   "cell_type": "markdown",
   "metadata": {},
   "source": [
    "We can get the 'empirical distribution', which returns the observed frequencies `ζ` and the expectations `e`. "
   ]
  },
  {
   "cell_type": "code",
   "execution_count": 6,
   "metadata": {},
   "outputs": [
    {
     "data": {
      "text/plain": [
       "array([0.39989914, 0.18582955, 0.15834594, 0.04790721, 0.13691377,\n",
       "       0.07110439])"
      ]
     },
     "execution_count": 6,
     "metadata": {},
     "output_type": "execute_result"
    }
   ],
   "source": [
    "ζ, e = rf.empirical_distribution(df['Lithology'])\n",
    "ζ"
   ]
  },
  {
   "cell_type": "markdown",
   "metadata": {},
   "source": [
    "These are in the same order as `df['Lithology'].unique()` (note that this is different from the order of `np.unique()`, which is sorted)."
   ]
  },
  {
   "cell_type": "code",
   "execution_count": 7,
   "metadata": {},
   "outputs": [
    {
     "data": {
      "text/plain": [
       "array(['siltstone', 'limestone', 'wackestone', 'dolomite', 'mudstone',\n",
       "       'sandstone'], dtype=object)"
      ]
     },
     "execution_count": 7,
     "metadata": {},
     "output_type": "execute_result"
    }
   ],
   "source": [
    "df['Lithology'].unique()"
   ]
  },
  {
   "cell_type": "markdown",
   "metadata": {},
   "source": [
    "We can also inspect the distribution using Pandas; note that this display is sorted by count:"
   ]
  },
  {
   "cell_type": "code",
   "execution_count": 8,
   "metadata": {
    "scrolled": true
   },
   "outputs": [
    {
     "data": {
      "text/plain": [
       "<matplotlib.lines.Line2D at 0x7fa93be70640>"
      ]
     },
     "execution_count": 8,
     "metadata": {},
     "output_type": "execute_result"
    },
    {
     "data": {
      "image/png": "[encoded data removed]",
      "text/plain": [
       "<Figure size 432x288 with 1 Axes>"
      ]
     },
     "metadata": {
      "needs_background": "light"
     },
     "output_type": "display_data"
    }
   ],
   "source": [
    "ax = df['Lithology'].value_counts().plot(kind='bar')\n",
    "\n",
    "# Add a line at the expectation level, which is the same for all classes.\n",
    "ax.axhline(e[0] * len(df), c='r')"
   ]
  },
  {
   "cell_type": "markdown",
   "metadata": {},
   "source": [
    "## Outliers\n",
    "\n",
    "The `get_outliers()` function detects outliers, returning the indices of outlier points."
   ]
  },
  {
   "cell_type": "code",
   "execution_count": 9,
   "metadata": {},
   "outputs": [
    {
     "data": {
      "text/plain": [
       "array([ 301,  302,  303,  415,  416,  417,  418,  799,  896,  897,  898,\n",
       "        899,  996,  997, 1843, 1844, 2278, 2279, 2280, 2638, 2639, 2640,\n",
       "       2641, 2642, 2643, 2920, 2921, 2922, 3070, 3071, 3074, 3075, 3076,\n",
       "       3079, 3080, 3081, 3580, 3581, 3582, 3583])"
      ]
     },
     "execution_count": 9,
     "metadata": {},
     "output_type": "execute_result"
    }
   ],
   "source": [
    "outliers = rf.get_outliers(df['GR'])\n",
    "outliers"
   ]
  },
  {
   "cell_type": "markdown",
   "metadata": {},
   "source": [
    "We can see where these lie in the distribution:"
   ]
  },
  {
   "cell_type": "code",
   "execution_count": 10,
   "metadata": {},
   "outputs": [
    {
     "data": {
      "text/plain": [
       "<AxesSubplot:xlabel='GR', ylabel='Density'>"
      ]
     },
     "execution_count": 10,
     "metadata": {},
     "output_type": "execute_result"
    },
    {
     "data": {
      "image/png": "[encoded data removed]",
      "text/plain": [
       "<Figure size 432x288 with 1 Axes>"
      ]
     },
     "metadata": {
      "needs_background": "light"
     },
     "output_type": "display_data"
    }
   ],
   "source": [
    "import seaborn as sns\n",
    "\n",
    "sns.kdeplot(df['GR'])\n",
    "sns.rugplot(df.loc[outliers, 'GR'], c='C1', lw=5, alpha=0.5)"
   ]
  },
  {
   "cell_type": "markdown",
   "metadata": {},
   "source": [
    "By default it uses an [**isolation forest**](https://scikit-learn.org/stable/modules/outlier_detection.html#isolation-forest) to detect the outliers at the 99% confidence level, but you can also opt to use **local outlier factor**, **elliptic envelope**, or **Mahalanobis distance**, setting the confidence level to choose how many outliers you will see, or (equivalently) setting the `threshold` to the number of standard deviations away from the mean you regard as signal.\n",
    "\n",
    "The function accepts univariate or multivariate data:"
   ]
  },
  {
   "cell_type": "code",
   "execution_count": 11,
   "metadata": {},
   "outputs": [
    {
     "data": {
      "text/plain": [
       "<seaborn.axisgrid.JointGrid at 0x7fa93925b6d0>"
      ]
     },
     "execution_count": 11,
     "metadata": {},
     "output_type": "execute_result"
    },
    {
     "data": {
      "image/png": "[encoded data removed]",
      "text/plain": [
       "<Figure size 432x432 with 3 Axes>"
      ]
     },
     "metadata": {
      "needs_background": "light"
     },
     "output_type": "display_data"
    }
   ],
   "source": [
    "features = ['GR', 'PE']\n",
    "\n",
    "outliers = rf.get_outliers(df[features], method='mah', threshold=5)\n",
    "\n",
    "sns.jointplot(data=df, x='GR', y='PE', hue=rf.index_to_bool(outliers, n=len(df)))"
   ]
  },
  {
   "cell_type": "markdown",
   "metadata": {},
   "source": [
    "A helper function can compute the number of expected outliers, given the dataset size and assuming a Gaussian distribution of samples."
   ]
  },
  {
   "cell_type": "code",
   "execution_count": 12,
   "metadata": {},
   "outputs": [
    {
     "name": "stdout",
     "output_type": "stream",
     "text": [
      "We have 80 outliers, but expect:\n"
     ]
    },
    {
     "data": {
      "text/plain": [
       "44"
      ]
     },
     "execution_count": 12,
     "metadata": {},
     "output_type": "execute_result"
    }
   ],
   "source": [
    "print(f\"We have {len(outliers)} outliers, but expect:\")\n",
    "rf.expected_outliers(*df[features].shape, threshold=3)"
   ]
  },
  {
   "cell_type": "markdown",
   "metadata": {},
   "source": [
    "So we have more than expected &mdash; because the distribution of GR has a lot of clipped samples at a value of 200. A dataset with truncated tails will have fewer than expected outliers; we can test this directly with the `has_outliers()` function, which compares the results of `expected_outliers()` with `get_outliers()`:"
   ]
  },
  {
   "cell_type": "code",
   "execution_count": 13,
   "metadata": {},
   "outputs": [
    {
     "data": {
      "text/plain": [
       "100"
      ]
     },
     "execution_count": 13,
     "metadata": {},
     "output_type": "execute_result"
    }
   ],
   "source": [
    "import numpy as np\n",
    "\n",
    "data = np.random.normal(size=10_000)\n",
    "\n",
    "rf.expected_outliers(len(data), d=1, p=0.99)"
   ]
  },
  {
   "cell_type": "code",
   "execution_count": 14,
   "metadata": {},
   "outputs": [],
   "source": [
    "# Truncate\n",
    "data = data[(-2.5 < data) & (data <  2.5)]"
   ]
  },
  {
   "cell_type": "code",
   "execution_count": 15,
   "metadata": {},
   "outputs": [
    {
     "data": {
      "text/plain": [
       "<seaborn.axisgrid.FacetGrid at 0x7fa9360fe970>"
      ]
     },
     "execution_count": 15,
     "metadata": {},
     "output_type": "execute_result"
    },
    {
     "data": {
      "image/png": "[encoded data removed]",
      "text/plain": [
       "<Figure size 360x360 with 1 Axes>"
      ]
     },
     "metadata": {
      "needs_background": "light"
     },
     "output_type": "display_data"
    }
   ],
   "source": [
    "sns.displot(data)"
   ]
  },
  {
   "cell_type": "markdown",
   "metadata": {},
   "source": [
    "This truncated normal distribution has no outliers (there are only about 60, compared to the 100 we expect at this confidence level of 99% on this dataset of 10,000 records)."
   ]
  },
  {
   "cell_type": "code",
   "execution_count": 16,
   "metadata": {},
   "outputs": [
    {
     "data": {
      "text/plain": [
       "False"
      ]
     },
     "execution_count": 16,
     "metadata": {},
     "output_type": "execute_result"
    }
   ],
   "source": [
    "rf.has_outliers(data, p=0.99)"
   ]
  },
  {
   "cell_type": "markdown",
   "metadata": {},
   "source": [
    "## Clipping\n",
    "\n",
    "If a feature has been clipped, it will have multiple instances at its min and/or max value. There are legitimate reasons why this might happen, for example the feature may be naturally bounded (e.g. porosity is always greater than 0), or the feature may have been deliberately clipped as part of the data preparation process."
   ]
  },
  {
   "cell_type": "code",
   "execution_count": 17,
   "metadata": {},
   "outputs": [
    {
     "data": {
      "text/plain": [
       "True"
      ]
     },
     "execution_count": 17,
     "metadata": {},
     "output_type": "execute_result"
    }
   ],
   "source": [
    "rf.is_clipped(df['GR'])"
   ]
  },
  {
   "cell_type": "code",
   "execution_count": 18,
   "metadata": {},
   "outputs": [
    {
     "data": {
      "text/plain": [
       "<seaborn.axisgrid.FacetGrid at 0x7fa936004250>"
      ]
     },
     "execution_count": 18,
     "metadata": {},
     "output_type": "execute_result"
    },
    {
     "data": {
      "image/png": "[encoded data removed]",
      "text/plain": [
       "<Figure size 360x360 with 1 Axes>"
      ]
     },
     "metadata": {
      "needs_background": "light"
     },
     "output_type": "display_data"
    }
   ],
   "source": [
    "import seaborn as sns\n",
    "\n",
    "sns.displot(df['GR'])"
   ]
  },
  {
   "cell_type": "markdown",
   "metadata": {},
   "source": [
    "## Distribution shape\n",
    "\n",
    "Tries to guess the shape of the distribution from the following set from `scipy.stats`:\n",
    "\n",
    "- `'norm'`\n",
    "- `'cosine'`\n",
    "- `'expon'`\n",
    "- `'exponpow'`\n",
    "- `'gamma'`\n",
    "- `'gumbel_l'`\n",
    "- `'gumbel_r'`\n",
    "- `'powerlaw'`\n",
    "- `'triang'`\n",
    "- `'trapz'`\n",
    "- `'uniform'`\n",
    "\n",
    "The name is returned, along with the shape parameters (if any), location and scale.\n",
    "\n",
    "In spite of the outliers, we find that the distribution of GR values is nearly normal:"
   ]
  },
  {
   "cell_type": "code",
   "execution_count": 19,
   "metadata": {},
   "outputs": [
    {
     "data": {
      "text/plain": [
       "Distribution(name='norm', shape=[], loc=64.36789939485628, scale=28.411020184908292)"
      ]
     },
     "execution_count": 19,
     "metadata": {},
     "output_type": "execute_result"
    }
   ],
   "source": [
    "rf.best_distribution(df['GR'])"
   ]
  },
  {
   "cell_type": "markdown",
   "metadata": {},
   "source": [
    "In contrast, the PHIND data is skewed andbest modeled by the [Gumbel distribution](https://en.wikipedia.org/wiki/Gumbel_distribution)."
   ]
  },
  {
   "cell_type": "code",
   "execution_count": 20,
   "metadata": {},
   "outputs": [
    {
     "data": {
      "text/plain": [
       "Distribution(name='gumbel_r', shape=[], loc=10.040572536302586, scale=4.934329727517257)"
      ]
     },
     "execution_count": 20,
     "metadata": {},
     "output_type": "execute_result"
    }
   ],
   "source": [
    "rf.best_distribution(df['PHIND'])"
   ]
  },
  {
   "cell_type": "code",
   "execution_count": 21,
   "metadata": {},
   "outputs": [
    {
     "data": {
      "text/plain": [
       "<seaborn.axisgrid.FacetGrid at 0x7fa93472ae20>"
      ]
     },
     "execution_count": 21,
     "metadata": {},
     "output_type": "execute_result"
    },
    {
     "data": {
      "image/png": "[encoded data removed]",
      "text/plain": [
       "<Figure size 360x360 with 1 Axes>"
      ]
     },
     "metadata": {
      "needs_background": "light"
     },
     "output_type": "display_data"
    }
   ],
   "source": [
    "sns.displot(df['PHIND'])"
   ]
  },
  {
   "cell_type": "markdown",
   "metadata": {},
   "source": [
    "## Identical distribution assumption\n",
    "\n",
    "We'd often like to test the implicit assumption that our data are 'identically distributed' across various groups, with respect to both the labels and the features.\n",
    "\n",
    "`redflag.wasserstein()` facilitates calculating the first Wasserstein distance (aka earth-mover's distance) between groups, e.g. between train and test datasets. It returns a score for each feature; scores greater than 1 can be interpreted as substantial differences in the distribution."
   ]
  },
  {
   "cell_type": "code",
   "execution_count": 22,
   "metadata": {},
   "outputs": [
    {
     "data": {
      "text/plain": [
       "array([[0.25985545, 0.28404634, 0.49139232, 0.33701782],\n",
       "       [0.22736457, 0.13473663, 0.33672956, 0.20969657],\n",
       "       [0.41216725, 0.34568777, 0.39729747, 0.48092099],\n",
       "       [0.0801856 , 0.10675027, 0.13740318, 0.10325295],\n",
       "       [0.19913347, 0.21828753, 0.26995735, 0.33063277],\n",
       "       [0.24612402, 0.23889923, 0.26699721, 0.2350674 ],\n",
       "       [0.20666445, 0.44112543, 0.16229232, 0.63527036],\n",
       "       [0.18187639, 0.34992043, 0.19400917, 0.74988182],\n",
       "       [0.31761526, 0.27206283, 0.30255291, 0.24779581]])"
      ]
     },
     "execution_count": 22,
     "metadata": {},
     "output_type": "execute_result"
    }
   ],
   "source": [
    "wells = df['Well Name']\n",
    "features = ['GR', 'RHOB', 'ILD_log10', 'PE']\n",
    "\n",
    "w = rf.wasserstein(df[features], groups=wells, standardize=True)\n",
    "w"
   ]
  },
  {
   "cell_type": "markdown",
   "metadata": {},
   "source": [
    "You could plot this as a heatmap:"
   ]
  },
  {
   "cell_type": "code",
   "execution_count": 23,
   "metadata": {},
   "outputs": [
    {
     "data": {
      "text/plain": [
       "<AxesSubplot:>"
      ]
     },
     "execution_count": 23,
     "metadata": {},
     "output_type": "execute_result"
    },
    {
     "data": {
      "image/png": "[encoded data removed]",
      "text/plain": [
       "<Figure size 432x288 with 2 Axes>"
      ]
     },
     "metadata": {
      "needs_background": "light"
     },
     "output_type": "display_data"
    }
   ],
   "source": [
    "sns.heatmap(w, yticklabels=np.unique(wells), xticklabels=features)"
   ]
  },
  {
   "cell_type": "markdown",
   "metadata": {},
   "source": [
    "This shows us that the distributions of the PE log in well indices 6 and 7 are somewhat different and may be anomalous. It also suggests that the CROSS H CATTLE well is different from the others."
   ]
  },
  {
   "cell_type": "markdown",
   "metadata": {},
   "source": [
    "### Already split out group arrays\n",
    "\n",
    "If you have groups that are already split out, e.g. train and test datasets:"
   ]
  },
  {
   "cell_type": "code",
   "execution_count": 24,
   "metadata": {},
   "outputs": [],
   "source": [
    "from sklearn.model_selection import train_test_split\n",
    "from sklearn.preprocessing import StandardScaler\n",
    "\n",
    "X_train, X_ = train_test_split(df[features], test_size=0.4, random_state=42)\n",
    "\n",
    "# NOTE: We're doing a random split here for illustration purposes only.\n",
    "# This is not a valid way to split the dataset, because rows are not indepedent.\n",
    "X_val, X_test = train_test_split(X_, test_size=0.5, random_state=42)\n",
    "\n",
    "# The data should be standardized to compare Wasserstein distance between features.\n",
    "scaler = StandardScaler()\n",
    "X_train = scaler.fit_transform(X_train)\n",
    "X_val = scaler.transform(X_val)\n",
    "X_test = scaler.transform(X_test)"
   ]
  },
  {
   "cell_type": "markdown",
   "metadata": {},
   "source": [
    "In this case, you can pass them into the function as a list or tuple:"
   ]
  },
  {
   "cell_type": "code",
   "execution_count": 25,
   "metadata": {},
   "outputs": [
    {
     "data": {
      "text/plain": [
       "array([[0.03860982, 0.02506236, 0.04321734, 0.03437337],\n",
       "       [0.04402681, 0.02528225, 0.0385111 , 0.05694201],\n",
       "       [0.04388196, 0.049464  , 0.05560379, 0.04002712]])"
      ]
     },
     "execution_count": 25,
     "metadata": {},
     "output_type": "execute_result"
    }
   ],
   "source": [
    "rf.wasserstein([X_train, X_val, X_test])"
   ]
  },
  {
   "cell_type": "markdown",
   "metadata": {},
   "source": [
    "The numbers are all quite low because we sampled randomly from the data."
   ]
  },
  {
   "cell_type": "markdown",
   "metadata": {},
   "source": [
    "## Independence assumption\n",
    "\n",
    "If a feature is correlated to lagged (shifted) versions of itself, then the dataset may be ordered by that feature, or the records may not be independent. If several features are correlated to themselves, then the data instances may not be independent."
   ]
  },
  {
   "cell_type": "code",
   "execution_count": 26,
   "metadata": {},
   "outputs": [
    {
     "data": {
      "text/plain": [
       "True"
      ]
     },
     "execution_count": 26,
     "metadata": {},
     "output_type": "execute_result"
    }
   ],
   "source": [
    "rf.is_correlated(df['GR'])"
   ]
  },
  {
   "cell_type": "markdown",
   "metadata": {},
   "source": [
    "This is order-dependent. That is, shuffling the data removes the correlation, but does not mean the records are independent."
   ]
  },
  {
   "cell_type": "code",
   "execution_count": 27,
   "metadata": {},
   "outputs": [
    {
     "data": {
      "text/plain": [
       "False"
      ]
     },
     "execution_count": 27,
     "metadata": {},
     "output_type": "execute_result"
    }
   ],
   "source": [
    "gr = df['GR'].to_numpy(copy=True)\n",
    "np.random.shuffle(gr)\n",
    "rf.is_correlated(gr)"
   ]
  },
  {
   "cell_type": "markdown",
   "metadata": {},
   "source": [
    "## Feature importance\n",
    "\n",
    "We'd like to know which features are the most important.\n",
    "\n",
    "`redflag` trains a series of models on your data, assessing which features are most important. It then normalizes and averages the results. \n",
    "\n",
    "To serve as a 'control', let's add a column of small random numbers that we know is not useful. We'd expect this column to come out with very low importance (i.e. close to zero)."
   ]
  },
  {
   "cell_type": "code",
   "execution_count": 28,
   "metadata": {},
   "outputs": [],
   "source": [
    "df['Random'] = np.random.normal(scale=0.1, size=len(df))\n",
    "df['Constant'] = -1"
   ]
  },
  {
   "cell_type": "markdown",
   "metadata": {},
   "source": [
    "First, a **classification task**. Imagine we're trying to predict lithology from well logs. Which are the most important logs?"
   ]
  },
  {
   "cell_type": "code",
   "execution_count": 29,
   "metadata": {},
   "outputs": [
    {
     "data": {
      "text/plain": [
       "array([0.26212942, 0.36516684, 0.2869616 , 0.08298919, 0.        ])"
      ]
     },
     "execution_count": 29,
     "metadata": {},
     "output_type": "execute_result"
    }
   ],
   "source": [
    "features = ['GR', 'ILD_log10', 'PE', 'Random', 'Constant']\n",
    "\n",
    "X = df[features]\n",
    "y = df['Lithology']\n",
    "\n",
    "importances = rf.feature_importances(X, y, random_state=13)\n",
    "importances"
   ]
  },
  {
   "cell_type": "markdown",
   "metadata": {},
   "source": [
    "This tells us that the most important features are, in order: ILD, PE, GR, with the random and constant variables unsurprisingly useless.\n",
    "\n",
    "There's a function to help us decide which are the least important features; it returns the indices of the least useful features, in order (least useful first):"
   ]
  },
  {
   "cell_type": "code",
   "execution_count": 34,
   "metadata": {},
   "outputs": [
    {
     "data": {
      "text/plain": [
       "array([4, 3])"
      ]
     },
     "execution_count": 34,
     "metadata": {},
     "output_type": "execute_result"
    }
   ],
   "source": [
    "rf.least_important_features(importances)"
   ]
  },
  {
   "cell_type": "markdown",
   "metadata": {},
   "source": [
    "And a complementary function reporting the most important:"
   ]
  },
  {
   "cell_type": "code",
   "execution_count": 35,
   "metadata": {},
   "outputs": [
    {
     "data": {
      "text/plain": [
       "array([1, 2, 0])"
      ]
     },
     "execution_count": 35,
     "metadata": {},
     "output_type": "execute_result"
    }
   ],
   "source": [
    "rf.most_important_features(importances)"
   ]
  },
  {
   "cell_type": "markdown",
   "metadata": {},
   "source": [
    "Now we'll look at a **regression task**. We'll try to predict RHOB from the other logs (including the dummy variables). The function guesses that this is a regression task:"
   ]
  },
  {
   "cell_type": "code",
   "execution_count": 36,
   "metadata": {},
   "outputs": [
    {
     "data": {
      "text/plain": [
       "array([0.0887365 , 0.427288  , 0.45634234, 0.02687602, 0.        ])"
      ]
     },
     "execution_count": 36,
     "metadata": {},
     "output_type": "execute_result"
    }
   ],
   "source": [
    "features = ['GR', 'ILD_log10', 'PE', 'Random', 'Constant']\n",
    "\n",
    "X = df[features]\n",
    "y = df['RHOB']\n",
    "\n",
    "rf.feature_importances(X, y)"
   ]
  },
  {
   "cell_type": "markdown",
   "metadata": {},
   "source": [
    "The most predictive features are PE and ILD, with GR substantially less important. Again, the random and constant variables are the least important feature."
   ]
  }
 ],
 "metadata": {
  "kernelspec": {
   "display_name": "redflag",
   "language": "python",
   "name": "redflag"
  },
  "language_info": {
   "codemirror_mode": {
    "name": "ipython",
    "version": 3
   },
   "file_extension": ".py",
   "mimetype": "text/x-python",
   "name": "python",
   "nbconvert_exporter": "python",
   "pygments_lexer": "ipython3",
   "version": "3.9.7"
  }
 },
 "nbformat": 4,
 "nbformat_minor": 4
}
