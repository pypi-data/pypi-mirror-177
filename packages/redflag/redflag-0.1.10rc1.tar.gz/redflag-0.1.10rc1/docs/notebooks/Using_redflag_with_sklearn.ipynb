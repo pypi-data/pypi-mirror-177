{
 "cells": [
  {
   "cell_type": "markdown",
   "metadata": {},
   "source": [
    "# 🚩 Using `redflag` with `sklearn`\n",
    "\n",
    "As well as using `redflag`'s functions directly (see `Basic_usage.ipynb`), `redflag` has some `sklearn` transformers that you can use to detect possible issues in your data. \n",
    "\n",
    "⚠️ **Note that these transformers do not transform your data, they only raise warnings (red flags) if they find issues.**\n",
    "\n",
    "Let's load some example data:"
   ]
  },
  {
   "cell_type": "code",
   "execution_count": 1,
   "metadata": {},
   "outputs": [
    {
     "data": {
      "text/html": [
       "<div>\n",
       "<style scoped>\n",
       "    .dataframe tbody tr th:only-of-type {\n",
       "        vertical-align: middle;\n",
       "    }\n",
       "\n",
       "    .dataframe tbody tr th {\n",
       "        vertical-align: top;\n",
       "    }\n",
       "\n",
       "    .dataframe thead th {\n",
       "        text-align: right;\n",
       "    }\n",
       "</style>\n",
       "<table border=\"1\" class=\"dataframe\">\n",
       "  <thead>\n",
       "    <tr style=\"text-align: right;\">\n",
       "      <th></th>\n",
       "      <th>count</th>\n",
       "      <th>mean</th>\n",
       "      <th>std</th>\n",
       "      <th>min</th>\n",
       "      <th>25%</th>\n",
       "      <th>50%</th>\n",
       "      <th>75%</th>\n",
       "      <th>max</th>\n",
       "    </tr>\n",
       "  </thead>\n",
       "  <tbody>\n",
       "    <tr>\n",
       "      <th>Depth</th>\n",
       "      <td>3966.0</td>\n",
       "      <td>882.674555</td>\n",
       "      <td>40.150056</td>\n",
       "      <td>784.402800</td>\n",
       "      <td>858.012000</td>\n",
       "      <td>888.339600</td>\n",
       "      <td>913.028400</td>\n",
       "      <td>963.320400</td>\n",
       "    </tr>\n",
       "    <tr>\n",
       "      <th>RelPos</th>\n",
       "      <td>3966.0</td>\n",
       "      <td>0.524999</td>\n",
       "      <td>0.286375</td>\n",
       "      <td>0.010000</td>\n",
       "      <td>0.282000</td>\n",
       "      <td>0.531000</td>\n",
       "      <td>0.773000</td>\n",
       "      <td>1.000000</td>\n",
       "    </tr>\n",
       "    <tr>\n",
       "      <th>Marine</th>\n",
       "      <td>3966.0</td>\n",
       "      <td>1.325013</td>\n",
       "      <td>0.589539</td>\n",
       "      <td>0.000000</td>\n",
       "      <td>1.000000</td>\n",
       "      <td>1.000000</td>\n",
       "      <td>2.000000</td>\n",
       "      <td>2.000000</td>\n",
       "    </tr>\n",
       "    <tr>\n",
       "      <th>GR</th>\n",
       "      <td>3966.0</td>\n",
       "      <td>64.367899</td>\n",
       "      <td>28.414603</td>\n",
       "      <td>12.036000</td>\n",
       "      <td>45.311250</td>\n",
       "      <td>64.840000</td>\n",
       "      <td>78.809750</td>\n",
       "      <td>200.000000</td>\n",
       "    </tr>\n",
       "    <tr>\n",
       "      <th>ILD</th>\n",
       "      <td>3966.0</td>\n",
       "      <td>5.240308</td>\n",
       "      <td>3.190416</td>\n",
       "      <td>0.340408</td>\n",
       "      <td>3.169567</td>\n",
       "      <td>4.305266</td>\n",
       "      <td>6.664234</td>\n",
       "      <td>32.136605</td>\n",
       "    </tr>\n",
       "    <tr>\n",
       "      <th>DeltaPHI</th>\n",
       "      <td>3966.0</td>\n",
       "      <td>3.469088</td>\n",
       "      <td>4.922310</td>\n",
       "      <td>-21.832000</td>\n",
       "      <td>1.000000</td>\n",
       "      <td>3.292500</td>\n",
       "      <td>6.124750</td>\n",
       "      <td>18.600000</td>\n",
       "    </tr>\n",
       "    <tr>\n",
       "      <th>PHIND</th>\n",
       "      <td>3966.0</td>\n",
       "      <td>13.008807</td>\n",
       "      <td>6.936391</td>\n",
       "      <td>0.550000</td>\n",
       "      <td>8.196250</td>\n",
       "      <td>11.781500</td>\n",
       "      <td>16.050000</td>\n",
       "      <td>52.369000</td>\n",
       "    </tr>\n",
       "    <tr>\n",
       "      <th>PE</th>\n",
       "      <td>3966.0</td>\n",
       "      <td>3.686427</td>\n",
       "      <td>0.815113</td>\n",
       "      <td>0.200000</td>\n",
       "      <td>3.123000</td>\n",
       "      <td>3.514500</td>\n",
       "      <td>4.241750</td>\n",
       "      <td>8.094000</td>\n",
       "    </tr>\n",
       "    <tr>\n",
       "      <th>Facies</th>\n",
       "      <td>3966.0</td>\n",
       "      <td>4.471004</td>\n",
       "      <td>2.406180</td>\n",
       "      <td>1.000000</td>\n",
       "      <td>2.000000</td>\n",
       "      <td>4.000000</td>\n",
       "      <td>6.000000</td>\n",
       "      <td>9.000000</td>\n",
       "    </tr>\n",
       "    <tr>\n",
       "      <th>LATITUDE</th>\n",
       "      <td>3966.0</td>\n",
       "      <td>37.632575</td>\n",
       "      <td>0.299398</td>\n",
       "      <td>37.180732</td>\n",
       "      <td>37.356426</td>\n",
       "      <td>37.500380</td>\n",
       "      <td>37.910583</td>\n",
       "      <td>38.063373</td>\n",
       "    </tr>\n",
       "    <tr>\n",
       "      <th>LONGITUDE</th>\n",
       "      <td>3966.0</td>\n",
       "      <td>-101.294895</td>\n",
       "      <td>0.230454</td>\n",
       "      <td>-101.646452</td>\n",
       "      <td>-101.389189</td>\n",
       "      <td>-101.325130</td>\n",
       "      <td>-101.106045</td>\n",
       "      <td>-100.987305</td>\n",
       "    </tr>\n",
       "    <tr>\n",
       "      <th>ILD_log10</th>\n",
       "      <td>3966.0</td>\n",
       "      <td>0.648860</td>\n",
       "      <td>0.251542</td>\n",
       "      <td>-0.468000</td>\n",
       "      <td>0.501000</td>\n",
       "      <td>0.634000</td>\n",
       "      <td>0.823750</td>\n",
       "      <td>1.507000</td>\n",
       "    </tr>\n",
       "    <tr>\n",
       "      <th>RHOB</th>\n",
       "      <td>3966.0</td>\n",
       "      <td>2288.861692</td>\n",
       "      <td>218.038459</td>\n",
       "      <td>1500.000000</td>\n",
       "      <td>2201.007475</td>\n",
       "      <td>2342.202051</td>\n",
       "      <td>2434.166399</td>\n",
       "      <td>2802.871147</td>\n",
       "    </tr>\n",
       "  </tbody>\n",
       "</table>\n",
       "</div>"
      ],
      "text/plain": [
       "            count         mean         std          min          25%  \\\n",
       "Depth      3966.0   882.674555   40.150056   784.402800   858.012000   \n",
       "RelPos     3966.0     0.524999    0.286375     0.010000     0.282000   \n",
       "Marine     3966.0     1.325013    0.589539     0.000000     1.000000   \n",
       "GR         3966.0    64.367899   28.414603    12.036000    45.311250   \n",
       "ILD        3966.0     5.240308    3.190416     0.340408     3.169567   \n",
       "DeltaPHI   3966.0     3.469088    4.922310   -21.832000     1.000000   \n",
       "PHIND      3966.0    13.008807    6.936391     0.550000     8.196250   \n",
       "PE         3966.0     3.686427    0.815113     0.200000     3.123000   \n",
       "Facies     3966.0     4.471004    2.406180     1.000000     2.000000   \n",
       "LATITUDE   3966.0    37.632575    0.299398    37.180732    37.356426   \n",
       "LONGITUDE  3966.0  -101.294895    0.230454  -101.646452  -101.389189   \n",
       "ILD_log10  3966.0     0.648860    0.251542    -0.468000     0.501000   \n",
       "RHOB       3966.0  2288.861692  218.038459  1500.000000  2201.007475   \n",
       "\n",
       "                   50%          75%          max  \n",
       "Depth       888.339600   913.028400   963.320400  \n",
       "RelPos        0.531000     0.773000     1.000000  \n",
       "Marine        1.000000     2.000000     2.000000  \n",
       "GR           64.840000    78.809750   200.000000  \n",
       "ILD           4.305266     6.664234    32.136605  \n",
       "DeltaPHI      3.292500     6.124750    18.600000  \n",
       "PHIND        11.781500    16.050000    52.369000  \n",
       "PE            3.514500     4.241750     8.094000  \n",
       "Facies        4.000000     6.000000     9.000000  \n",
       "LATITUDE     37.500380    37.910583    38.063373  \n",
       "LONGITUDE  -101.325130  -101.106045  -100.987305  \n",
       "ILD_log10     0.634000     0.823750     1.507000  \n",
       "RHOB       2342.202051  2434.166399  2802.871147  "
      ]
     },
     "execution_count": 1,
     "metadata": {},
     "output_type": "execute_result"
    }
   ],
   "source": [
    "import pandas as pd\n",
    "\n",
    "df = pd.read_csv('https://geocomp.s3.amazonaws.com/data/Panoma_training_data.csv')\n",
    "\n",
    "# Look at the transposed summary: each column in the DataFrame is a row here.\n",
    "df.describe().T"
   ]
  },
  {
   "cell_type": "markdown",
   "metadata": {},
   "source": [
    "Note that the features (e.g. GR, RHOB) are not **independent** records; they are correlated to themselves in depth.\n",
    "\n",
    "Furthermore, some of these features are clipped, e.g. the GR feature is clipped at a max value of 200:"
   ]
  },
  {
   "cell_type": "code",
   "execution_count": 2,
   "metadata": {},
   "outputs": [
    {
     "data": {
      "text/plain": [
       "<AxesSubplot:xlabel='GR', ylabel='Count'>"
      ]
     },
     "execution_count": 2,
     "metadata": {},
     "output_type": "execute_result"
    },
    {
     "data": {
      "image/png": "[encoded data removed]",
      "text/plain": [
       "<Figure size 640x480 with 1 Axes>"
      ]
     },
     "metadata": {},
     "output_type": "display_data"
    }
   ],
   "source": [
    "import seaborn as sns\n",
    "\n",
    "sns.histplot(df['GR'])"
   ]
  },
  {
   "cell_type": "markdown",
   "metadata": {},
   "source": [
    "We will split this dataset by group (well name):"
   ]
  },
  {
   "cell_type": "code",
   "execution_count": 3,
   "metadata": {},
   "outputs": [],
   "source": [
    "features = ['GR', 'RHOB', 'PE']\n",
    "\n",
    "test_wells = ['CRAWFORD', 'STUART']\n",
    "\n",
    "test_flag = df['Well Name'].isin(test_wells)\n",
    "\n",
    "X_test = df.loc[test_flag, features]\n",
    "y_test = df.loc[test_flag, 'Lithology']\n",
    "\n",
    "X_train = df.loc[~test_flag, features]\n",
    "y_train = df.loc[~test_flag, 'Lithology']"
   ]
  },
  {
   "cell_type": "markdown",
   "metadata": {},
   "source": [
    "## The `redflag` detector classes\n",
    "\n",
    "There are two main kinds of object: **detectors** and **comparators**.\n",
    "\n",
    "**Detectors** look for problems in your training and/or subsequent (e.g. validation, test, or production) data and are mostly unsupervised. There are several detectors:\n",
    "\n",
    "- `ClipDetector()` &mdash; looks for features that have been clipped.\n",
    "- `CorrelationDetector()` &mdash; looks for features that are correlated to themselves, which indicates that the data are likely not IID (in particular, not independent).\n",
    "- `UnivariateOutlierDetector()` &mdash; looks for outliers, considering each feature separately. Usually, you probably want to use `OutlierDetector` instead.\n",
    "- `MultivariateOutlierDetector()` &mdash; looks for outliers, considering all the features together. Usually, you probably want to use `OutlierDetector` instead.\n",
    "\n",
    "The following detectors only run during training. In other words, they examine your data during model fitting, but do not look at data during subsequent calls to `predict` or `score`, etc.\n",
    "\n",
    "- `ImportanceDetector()` &mdash; looks at feature importance. Runs during `fit` only. \n",
    "- `ImbalanceDetector()` &mdash; looks for class imbalance in `y`. Runs during `fit` only. In other words, it can find class imbalance in the training data, but does not look at data during subsequent calls to `predict` or `score`, etc.\n",
    "\n",
    "Finally, one detector is a bit different from the others because it runs in unsupervised mode on the training data, but in supervised mode on subsequent data. In other words, it can find outliers in the training data (based on some threshold), then it uses the statistics of the training data to decide what is an outlier in the subsequent data:\n",
    "\n",
    "- `OutlierDetector()` &mdash; looks for outliers. Runs during `fit` and `transform`. \n",
    "\n",
    "**Comparators** are fully supervised. They learn things about your data during training, then look at subsequent (e.g. validation, test, or production) data and compare. They will not triger during model fitting, only during `predict` or `score`:\n",
    "\n",
    "- `DistributionComparator()` &mdash; checks that the distributions of the features are similar to those seen during training.\n",
    "- `ImbalanceComparator()`&mdash; checks that any class imbalance is similar to that seen during training. (Does not trigger if the training data is imbalanced; use `ImbalanceDetector` for that.) Note that this comparator does not work in ordinary `sklearn.pipeline.Pipeline` objects; use `redflag.RfPipeline` instead.\n"
   ]
  },
  {
   "cell_type": "markdown",
   "metadata": {},
   "source": [
    "## Using the pre-built `redflag` pipeline\n",
    "\n",
    "There is a [`sklearn.pipeline.Pipeline`](https://scikit-learn.org/stable/modules/generated/sklearn.pipeline.Pipeline.html) you can use, containing most of the detectors. To find out why one is not included, and why, read on.\n",
    "\n",
    "The `ImbalanceComparator`, is not compatible with ordinary `Pipeline` objects, because it requires `y` (class imbalance comparison only works on the target vector). An `RfPipeline` object is available to use with this comparator... but it will not work as part of another ordinary `Pipeline`, so if you compose a multi-pipeline pipeline, make sure to use `RfPipeline` for all of it. Please note there is also a `make_rf_pipeline()` function that works just like `make_pipeline`, but it uses `RfPipeline` instead.\n",
    "\n",
    "For now, we'll carry on with the standard `sklearn` pipeline. "
   ]
  },
  {
   "cell_type": "code",
   "execution_count": 4,
   "metadata": {},
   "outputs": [
    {
     "data": {
      "text/html": [
       "<style>#sk-container-id-1 {color: black;background-color: white;}#sk-container-id-1 pre{padding: 0;}#sk-container-id-1 div.sk-toggleable {background-color: white;}#sk-container-id-1 label.sk-toggleable__label {cursor: pointer;display: block;width: 100%;margin-bottom: 0;padding: 0.3em;box-sizing: border-box;text-align: center;}#sk-container-id-1 label.sk-toggleable__label-arrow:before {content: \"▸\";float: left;margin-right: 0.25em;color: #696969;}#sk-container-id-1 label.sk-toggleable__label-arrow:hover:before {color: black;}#sk-container-id-1 div.sk-estimator:hover label.sk-toggleable__label-arrow:before {color: black;}#sk-container-id-1 div.sk-toggleable__content {max-height: 0;max-width: 0;overflow: hidden;text-align: left;background-color: #f0f8ff;}#sk-container-id-1 div.sk-toggleable__content pre {margin: 0.2em;color: black;border-radius: 0.25em;background-color: #f0f8ff;}#sk-container-id-1 input.sk-toggleable__control:checked~div.sk-toggleable__content {max-height: 200px;max-width: 100%;overflow: auto;}#sk-container-id-1 input.sk-toggleable__control:checked~label.sk-toggleable__label-arrow:before {content: \"▾\";}#sk-container-id-1 div.sk-estimator input.sk-toggleable__control:checked~label.sk-toggleable__label {background-color: #d4ebff;}#sk-container-id-1 div.sk-label input.sk-toggleable__control:checked~label.sk-toggleable__label {background-color: #d4ebff;}#sk-container-id-1 input.sk-hidden--visually {border: 0;clip: rect(1px 1px 1px 1px);clip: rect(1px, 1px, 1px, 1px);height: 1px;margin: -1px;overflow: hidden;padding: 0;position: absolute;width: 1px;}#sk-container-id-1 div.sk-estimator {font-family: monospace;background-color: #f0f8ff;border: 1px dotted black;border-radius: 0.25em;box-sizing: border-box;margin-bottom: 0.5em;}#sk-container-id-1 div.sk-estimator:hover {background-color: #d4ebff;}#sk-container-id-1 div.sk-parallel-item::after {content: \"\";width: 100%;border-bottom: 1px solid gray;flex-grow: 1;}#sk-container-id-1 div.sk-label:hover label.sk-toggleable__label {background-color: #d4ebff;}#sk-container-id-1 div.sk-serial::before {content: \"\";position: absolute;border-left: 1px solid gray;box-sizing: border-box;top: 0;bottom: 0;left: 50%;z-index: 0;}#sk-container-id-1 div.sk-serial {display: flex;flex-direction: column;align-items: center;background-color: white;padding-right: 0.2em;padding-left: 0.2em;position: relative;}#sk-container-id-1 div.sk-item {position: relative;z-index: 1;}#sk-container-id-1 div.sk-parallel {display: flex;align-items: stretch;justify-content: center;background-color: white;position: relative;}#sk-container-id-1 div.sk-item::before, #sk-container-id-1 div.sk-parallel-item::before {content: \"\";position: absolute;border-left: 1px solid gray;box-sizing: border-box;top: 0;bottom: 0;left: 50%;z-index: -1;}#sk-container-id-1 div.sk-parallel-item {display: flex;flex-direction: column;z-index: 1;position: relative;background-color: white;}#sk-container-id-1 div.sk-parallel-item:first-child::after {align-self: flex-end;width: 50%;}#sk-container-id-1 div.sk-parallel-item:last-child::after {align-self: flex-start;width: 50%;}#sk-container-id-1 div.sk-parallel-item:only-child::after {width: 0;}#sk-container-id-1 div.sk-dashed-wrapped {border: 1px dashed gray;margin: 0 0.4em 0.5em 0.4em;box-sizing: border-box;padding-bottom: 0.4em;background-color: white;}#sk-container-id-1 div.sk-label label {font-family: monospace;font-weight: bold;display: inline-block;line-height: 1.2em;}#sk-container-id-1 div.sk-label-container {text-align: center;}#sk-container-id-1 div.sk-container {/* jupyter's `normalize.less` sets `[hidden] { display: none; }` but bootstrap.min.css set `[hidden] { display: none !important; }` so we also need the `!important` here to be able to override the default hidden behavior on the sphinx rendered scikit-learn.org. See: https://github.com/scikit-learn/scikit-learn/issues/21755 */display: inline-block !important;position: relative;}#sk-container-id-1 div.sk-text-repr-fallback {display: none;}</style><div id=\"sk-container-id-1\" class=\"sk-top-container\"><div class=\"sk-text-repr-fallback\"><pre>Pipeline(steps=[(&#x27;rf.imbalance&#x27;, ImbalanceDetector()),\n",
       "                (&#x27;rf.clip&#x27;, ClipDetector()),\n",
       "                (&#x27;rf.correlation&#x27;, CorrelationDetector()),\n",
       "                (&#x27;rf.outlier&#x27;, OutlierDetector()),\n",
       "                (&#x27;rf.distributions&#x27;, DistributionComparator()),\n",
       "                (&#x27;rf.importance&#x27;, ImportanceDetector())])</pre><b>In a Jupyter environment, please rerun this cell to show the HTML representation or trust the notebook. <br />On GitHub, the HTML representation is unable to render, please try loading this page with nbviewer.org.</b></div><div class=\"sk-container\" hidden><div class=\"sk-item sk-dashed-wrapped\"><div class=\"sk-label-container\"><div class=\"sk-label sk-toggleable\"><input class=\"sk-toggleable__control sk-hidden--visually\" id=\"sk-estimator-id-1\" type=\"checkbox\" ><label for=\"sk-estimator-id-1\" class=\"sk-toggleable__label sk-toggleable__label-arrow\">Pipeline</label><div class=\"sk-toggleable__content\"><pre>Pipeline(steps=[(&#x27;rf.imbalance&#x27;, ImbalanceDetector()),\n",
       "                (&#x27;rf.clip&#x27;, ClipDetector()),\n",
       "                (&#x27;rf.correlation&#x27;, CorrelationDetector()),\n",
       "                (&#x27;rf.outlier&#x27;, OutlierDetector()),\n",
       "                (&#x27;rf.distributions&#x27;, DistributionComparator()),\n",
       "                (&#x27;rf.importance&#x27;, ImportanceDetector())])</pre></div></div></div><div class=\"sk-serial\"><div class=\"sk-item\"><div class=\"sk-estimator sk-toggleable\"><input class=\"sk-toggleable__control sk-hidden--visually\" id=\"sk-estimator-id-2\" type=\"checkbox\" ><label for=\"sk-estimator-id-2\" class=\"sk-toggleable__label sk-toggleable__label-arrow\">ImbalanceDetector</label><div class=\"sk-toggleable__content\"><pre>ImbalanceDetector()</pre></div></div></div><div class=\"sk-item\"><div class=\"sk-estimator sk-toggleable\"><input class=\"sk-toggleable__control sk-hidden--visually\" id=\"sk-estimator-id-3\" type=\"checkbox\" ><label for=\"sk-estimator-id-3\" class=\"sk-toggleable__label sk-toggleable__label-arrow\">ClipDetector</label><div class=\"sk-toggleable__content\"><pre>ClipDetector()</pre></div></div></div><div class=\"sk-item\"><div class=\"sk-estimator sk-toggleable\"><input class=\"sk-toggleable__control sk-hidden--visually\" id=\"sk-estimator-id-4\" type=\"checkbox\" ><label for=\"sk-estimator-id-4\" class=\"sk-toggleable__label sk-toggleable__label-arrow\">CorrelationDetector</label><div class=\"sk-toggleable__content\"><pre>CorrelationDetector()</pre></div></div></div><div class=\"sk-item\"><div class=\"sk-estimator sk-toggleable\"><input class=\"sk-toggleable__control sk-hidden--visually\" id=\"sk-estimator-id-5\" type=\"checkbox\" ><label for=\"sk-estimator-id-5\" class=\"sk-toggleable__label sk-toggleable__label-arrow\">OutlierDetector</label><div class=\"sk-toggleable__content\"><pre>OutlierDetector()</pre></div></div></div><div class=\"sk-item\"><div class=\"sk-estimator sk-toggleable\"><input class=\"sk-toggleable__control sk-hidden--visually\" id=\"sk-estimator-id-6\" type=\"checkbox\" ><label for=\"sk-estimator-id-6\" class=\"sk-toggleable__label sk-toggleable__label-arrow\">DistributionComparator</label><div class=\"sk-toggleable__content\"><pre>DistributionComparator()</pre></div></div></div><div class=\"sk-item\"><div class=\"sk-estimator sk-toggleable\"><input class=\"sk-toggleable__control sk-hidden--visually\" id=\"sk-estimator-id-7\" type=\"checkbox\" ><label for=\"sk-estimator-id-7\" class=\"sk-toggleable__label sk-toggleable__label-arrow\">ImportanceDetector</label><div class=\"sk-toggleable__content\"><pre>ImportanceDetector()</pre></div></div></div></div></div></div></div>"
      ],
      "text/plain": [
       "Pipeline(steps=[('rf.imbalance', ImbalanceDetector()),\n",
       "                ('rf.clip', ClipDetector()),\n",
       "                ('rf.correlation', CorrelationDetector()),\n",
       "                ('rf.outlier', OutlierDetector()),\n",
       "                ('rf.distributions', DistributionComparator()),\n",
       "                ('rf.importance', ImportanceDetector())])"
      ]
     },
     "execution_count": 4,
     "metadata": {},
     "output_type": "execute_result"
    }
   ],
   "source": [
    "import redflag as rf\n",
    "\n",
    "rf.pipeline"
   ]
  },
  {
   "cell_type": "markdown",
   "metadata": {},
   "source": [
    "We can use this in another pipeline:"
   ]
  },
  {
   "cell_type": "code",
   "execution_count": 5,
   "metadata": {},
   "outputs": [
    {
     "data": {
      "text/html": [
       "<style>#sk-container-id-2 {color: black;background-color: white;}#sk-container-id-2 pre{padding: 0;}#sk-container-id-2 div.sk-toggleable {background-color: white;}#sk-container-id-2 label.sk-toggleable__label {cursor: pointer;display: block;width: 100%;margin-bottom: 0;padding: 0.3em;box-sizing: border-box;text-align: center;}#sk-container-id-2 label.sk-toggleable__label-arrow:before {content: \"▸\";float: left;margin-right: 0.25em;color: #696969;}#sk-container-id-2 label.sk-toggleable__label-arrow:hover:before {color: black;}#sk-container-id-2 div.sk-estimator:hover label.sk-toggleable__label-arrow:before {color: black;}#sk-container-id-2 div.sk-toggleable__content {max-height: 0;max-width: 0;overflow: hidden;text-align: left;background-color: #f0f8ff;}#sk-container-id-2 div.sk-toggleable__content pre {margin: 0.2em;color: black;border-radius: 0.25em;background-color: #f0f8ff;}#sk-container-id-2 input.sk-toggleable__control:checked~div.sk-toggleable__content {max-height: 200px;max-width: 100%;overflow: auto;}#sk-container-id-2 input.sk-toggleable__control:checked~label.sk-toggleable__label-arrow:before {content: \"▾\";}#sk-container-id-2 div.sk-estimator input.sk-toggleable__control:checked~label.sk-toggleable__label {background-color: #d4ebff;}#sk-container-id-2 div.sk-label input.sk-toggleable__control:checked~label.sk-toggleable__label {background-color: #d4ebff;}#sk-container-id-2 input.sk-hidden--visually {border: 0;clip: rect(1px 1px 1px 1px);clip: rect(1px, 1px, 1px, 1px);height: 1px;margin: -1px;overflow: hidden;padding: 0;position: absolute;width: 1px;}#sk-container-id-2 div.sk-estimator {font-family: monospace;background-color: #f0f8ff;border: 1px dotted black;border-radius: 0.25em;box-sizing: border-box;margin-bottom: 0.5em;}#sk-container-id-2 div.sk-estimator:hover {background-color: #d4ebff;}#sk-container-id-2 div.sk-parallel-item::after {content: \"\";width: 100%;border-bottom: 1px solid gray;flex-grow: 1;}#sk-container-id-2 div.sk-label:hover label.sk-toggleable__label {background-color: #d4ebff;}#sk-container-id-2 div.sk-serial::before {content: \"\";position: absolute;border-left: 1px solid gray;box-sizing: border-box;top: 0;bottom: 0;left: 50%;z-index: 0;}#sk-container-id-2 div.sk-serial {display: flex;flex-direction: column;align-items: center;background-color: white;padding-right: 0.2em;padding-left: 0.2em;position: relative;}#sk-container-id-2 div.sk-item {position: relative;z-index: 1;}#sk-container-id-2 div.sk-parallel {display: flex;align-items: stretch;justify-content: center;background-color: white;position: relative;}#sk-container-id-2 div.sk-item::before, #sk-container-id-2 div.sk-parallel-item::before {content: \"\";position: absolute;border-left: 1px solid gray;box-sizing: border-box;top: 0;bottom: 0;left: 50%;z-index: -1;}#sk-container-id-2 div.sk-parallel-item {display: flex;flex-direction: column;z-index: 1;position: relative;background-color: white;}#sk-container-id-2 div.sk-parallel-item:first-child::after {align-self: flex-end;width: 50%;}#sk-container-id-2 div.sk-parallel-item:last-child::after {align-self: flex-start;width: 50%;}#sk-container-id-2 div.sk-parallel-item:only-child::after {width: 0;}#sk-container-id-2 div.sk-dashed-wrapped {border: 1px dashed gray;margin: 0 0.4em 0.5em 0.4em;box-sizing: border-box;padding-bottom: 0.4em;background-color: white;}#sk-container-id-2 div.sk-label label {font-family: monospace;font-weight: bold;display: inline-block;line-height: 1.2em;}#sk-container-id-2 div.sk-label-container {text-align: center;}#sk-container-id-2 div.sk-container {/* jupyter's `normalize.less` sets `[hidden] { display: none; }` but bootstrap.min.css set `[hidden] { display: none !important; }` so we also need the `!important` here to be able to override the default hidden behavior on the sphinx rendered scikit-learn.org. See: https://github.com/scikit-learn/scikit-learn/issues/21755 */display: inline-block !important;position: relative;}#sk-container-id-2 div.sk-text-repr-fallback {display: none;}</style><div id=\"sk-container-id-2\" class=\"sk-top-container\"><div class=\"sk-text-repr-fallback\"><pre>Pipeline(steps=[(&#x27;standardscaler&#x27;, StandardScaler()),\n",
       "                (&#x27;pipeline&#x27;,\n",
       "                 Pipeline(steps=[(&#x27;rf.imbalance&#x27;, ImbalanceDetector()),\n",
       "                                 (&#x27;rf.clip&#x27;, ClipDetector()),\n",
       "                                 (&#x27;rf.correlation&#x27;, CorrelationDetector()),\n",
       "                                 (&#x27;rf.outlier&#x27;, OutlierDetector()),\n",
       "                                 (&#x27;rf.distributions&#x27;, DistributionComparator()),\n",
       "                                 (&#x27;rf.importance&#x27;, ImportanceDetector())])),\n",
       "                (&#x27;svc&#x27;, SVC())])</pre><b>In a Jupyter environment, please rerun this cell to show the HTML representation or trust the notebook. <br />On GitHub, the HTML representation is unable to render, please try loading this page with nbviewer.org.</b></div><div class=\"sk-container\" hidden><div class=\"sk-item sk-dashed-wrapped\"><div class=\"sk-label-container\"><div class=\"sk-label sk-toggleable\"><input class=\"sk-toggleable__control sk-hidden--visually\" id=\"sk-estimator-id-8\" type=\"checkbox\" ><label for=\"sk-estimator-id-8\" class=\"sk-toggleable__label sk-toggleable__label-arrow\">Pipeline</label><div class=\"sk-toggleable__content\"><pre>Pipeline(steps=[(&#x27;standardscaler&#x27;, StandardScaler()),\n",
       "                (&#x27;pipeline&#x27;,\n",
       "                 Pipeline(steps=[(&#x27;rf.imbalance&#x27;, ImbalanceDetector()),\n",
       "                                 (&#x27;rf.clip&#x27;, ClipDetector()),\n",
       "                                 (&#x27;rf.correlation&#x27;, CorrelationDetector()),\n",
       "                                 (&#x27;rf.outlier&#x27;, OutlierDetector()),\n",
       "                                 (&#x27;rf.distributions&#x27;, DistributionComparator()),\n",
       "                                 (&#x27;rf.importance&#x27;, ImportanceDetector())])),\n",
       "                (&#x27;svc&#x27;, SVC())])</pre></div></div></div><div class=\"sk-serial\"><div class=\"sk-item\"><div class=\"sk-estimator sk-toggleable\"><input class=\"sk-toggleable__control sk-hidden--visually\" id=\"sk-estimator-id-9\" type=\"checkbox\" ><label for=\"sk-estimator-id-9\" class=\"sk-toggleable__label sk-toggleable__label-arrow\">StandardScaler</label><div class=\"sk-toggleable__content\"><pre>StandardScaler()</pre></div></div></div><div class=\"sk-item\"><div class=\"sk-label-container\"><div class=\"sk-label sk-toggleable\"><input class=\"sk-toggleable__control sk-hidden--visually\" id=\"sk-estimator-id-10\" type=\"checkbox\" ><label for=\"sk-estimator-id-10\" class=\"sk-toggleable__label sk-toggleable__label-arrow\">pipeline: Pipeline</label><div class=\"sk-toggleable__content\"><pre>Pipeline(steps=[(&#x27;rf.imbalance&#x27;, ImbalanceDetector()),\n",
       "                (&#x27;rf.clip&#x27;, ClipDetector()),\n",
       "                (&#x27;rf.correlation&#x27;, CorrelationDetector()),\n",
       "                (&#x27;rf.outlier&#x27;, OutlierDetector()),\n",
       "                (&#x27;rf.distributions&#x27;, DistributionComparator()),\n",
       "                (&#x27;rf.importance&#x27;, ImportanceDetector())])</pre></div></div></div><div class=\"sk-serial\"><div class=\"sk-item\"><div class=\"sk-estimator sk-toggleable\"><input class=\"sk-toggleable__control sk-hidden--visually\" id=\"sk-estimator-id-11\" type=\"checkbox\" ><label for=\"sk-estimator-id-11\" class=\"sk-toggleable__label sk-toggleable__label-arrow\">ImbalanceDetector</label><div class=\"sk-toggleable__content\"><pre>ImbalanceDetector()</pre></div></div></div><div class=\"sk-item\"><div class=\"sk-estimator sk-toggleable\"><input class=\"sk-toggleable__control sk-hidden--visually\" id=\"sk-estimator-id-12\" type=\"checkbox\" ><label for=\"sk-estimator-id-12\" class=\"sk-toggleable__label sk-toggleable__label-arrow\">ClipDetector</label><div class=\"sk-toggleable__content\"><pre>ClipDetector()</pre></div></div></div><div class=\"sk-item\"><div class=\"sk-estimator sk-toggleable\"><input class=\"sk-toggleable__control sk-hidden--visually\" id=\"sk-estimator-id-13\" type=\"checkbox\" ><label for=\"sk-estimator-id-13\" class=\"sk-toggleable__label sk-toggleable__label-arrow\">CorrelationDetector</label><div class=\"sk-toggleable__content\"><pre>CorrelationDetector()</pre></div></div></div><div class=\"sk-item\"><div class=\"sk-estimator sk-toggleable\"><input class=\"sk-toggleable__control sk-hidden--visually\" id=\"sk-estimator-id-14\" type=\"checkbox\" ><label for=\"sk-estimator-id-14\" class=\"sk-toggleable__label sk-toggleable__label-arrow\">OutlierDetector</label><div class=\"sk-toggleable__content\"><pre>OutlierDetector()</pre></div></div></div><div class=\"sk-item\"><div class=\"sk-estimator sk-toggleable\"><input class=\"sk-toggleable__control sk-hidden--visually\" id=\"sk-estimator-id-15\" type=\"checkbox\" ><label for=\"sk-estimator-id-15\" class=\"sk-toggleable__label sk-toggleable__label-arrow\">DistributionComparator</label><div class=\"sk-toggleable__content\"><pre>DistributionComparator()</pre></div></div></div><div class=\"sk-item\"><div class=\"sk-estimator sk-toggleable\"><input class=\"sk-toggleable__control sk-hidden--visually\" id=\"sk-estimator-id-16\" type=\"checkbox\" ><label for=\"sk-estimator-id-16\" class=\"sk-toggleable__label sk-toggleable__label-arrow\">ImportanceDetector</label><div class=\"sk-toggleable__content\"><pre>ImportanceDetector()</pre></div></div></div></div></div><div class=\"sk-item\"><div class=\"sk-estimator sk-toggleable\"><input class=\"sk-toggleable__control sk-hidden--visually\" id=\"sk-estimator-id-17\" type=\"checkbox\" ><label for=\"sk-estimator-id-17\" class=\"sk-toggleable__label sk-toggleable__label-arrow\">SVC</label><div class=\"sk-toggleable__content\"><pre>SVC()</pre></div></div></div></div></div></div></div>"
      ],
      "text/plain": [
       "Pipeline(steps=[('standardscaler', StandardScaler()),\n",
       "                ('pipeline',\n",
       "                 Pipeline(steps=[('rf.imbalance', ImbalanceDetector()),\n",
       "                                 ('rf.clip', ClipDetector()),\n",
       "                                 ('rf.correlation', CorrelationDetector()),\n",
       "                                 ('rf.outlier', OutlierDetector()),\n",
       "                                 ('rf.distributions', DistributionComparator()),\n",
       "                                 ('rf.importance', ImportanceDetector())])),\n",
       "                ('svc', SVC())])"
      ]
     },
     "execution_count": 5,
     "metadata": {},
     "output_type": "execute_result"
    }
   ],
   "source": [
    "from sklearn.pipeline import make_pipeline\n",
    "from sklearn.preprocessing import StandardScaler\n",
    "from sklearn.svm import SVC\n",
    "\n",
    "pipe = make_pipeline(StandardScaler(), rf.pipeline, SVC())\n",
    "pipe"
   ]
  },
  {
   "cell_type": "markdown",
   "metadata": {},
   "source": [
    "During the `fit` phase, the `redflag` transformers do three things:\n",
    "\n",
    "- Check the target `y` for imbalance (if it is categorical).\n",
    "- Check the input features `X` for issues like clipping and self-correlation.\n",
    "- Learn the input feature distributions for later comparison."
   ]
  },
  {
   "cell_type": "code",
   "execution_count": 6,
   "metadata": {},
   "outputs": [
    {
     "name": "stderr",
     "output_type": "stream",
     "text": [
      "🚩 The labels are imbalanced by more than the threshold (0.420 > 0.400). See self.minority_classes_ for the minority classes.\n",
      "🚩 Features 0, 1 may have clipped values.\n",
      "🚩 Features 0, 1, 2 may have correlated values.\n",
      "🚩 There are more outliers than expected in the training data (349 vs 31).\n"
     ]
    },
    {
     "data": {
      "text/html": [
       "<style>#sk-container-id-3 {color: black;background-color: white;}#sk-container-id-3 pre{padding: 0;}#sk-container-id-3 div.sk-toggleable {background-color: white;}#sk-container-id-3 label.sk-toggleable__label {cursor: pointer;display: block;width: 100%;margin-bottom: 0;padding: 0.3em;box-sizing: border-box;text-align: center;}#sk-container-id-3 label.sk-toggleable__label-arrow:before {content: \"▸\";float: left;margin-right: 0.25em;color: #696969;}#sk-container-id-3 label.sk-toggleable__label-arrow:hover:before {color: black;}#sk-container-id-3 div.sk-estimator:hover label.sk-toggleable__label-arrow:before {color: black;}#sk-container-id-3 div.sk-toggleable__content {max-height: 0;max-width: 0;overflow: hidden;text-align: left;background-color: #f0f8ff;}#sk-container-id-3 div.sk-toggleable__content pre {margin: 0.2em;color: black;border-radius: 0.25em;background-color: #f0f8ff;}#sk-container-id-3 input.sk-toggleable__control:checked~div.sk-toggleable__content {max-height: 200px;max-width: 100%;overflow: auto;}#sk-container-id-3 input.sk-toggleable__control:checked~label.sk-toggleable__label-arrow:before {content: \"▾\";}#sk-container-id-3 div.sk-estimator input.sk-toggleable__control:checked~label.sk-toggleable__label {background-color: #d4ebff;}#sk-container-id-3 div.sk-label input.sk-toggleable__control:checked~label.sk-toggleable__label {background-color: #d4ebff;}#sk-container-id-3 input.sk-hidden--visually {border: 0;clip: rect(1px 1px 1px 1px);clip: rect(1px, 1px, 1px, 1px);height: 1px;margin: -1px;overflow: hidden;padding: 0;position: absolute;width: 1px;}#sk-container-id-3 div.sk-estimator {font-family: monospace;background-color: #f0f8ff;border: 1px dotted black;border-radius: 0.25em;box-sizing: border-box;margin-bottom: 0.5em;}#sk-container-id-3 div.sk-estimator:hover {background-color: #d4ebff;}#sk-container-id-3 div.sk-parallel-item::after {content: \"\";width: 100%;border-bottom: 1px solid gray;flex-grow: 1;}#sk-container-id-3 div.sk-label:hover label.sk-toggleable__label {background-color: #d4ebff;}#sk-container-id-3 div.sk-serial::before {content: \"\";position: absolute;border-left: 1px solid gray;box-sizing: border-box;top: 0;bottom: 0;left: 50%;z-index: 0;}#sk-container-id-3 div.sk-serial {display: flex;flex-direction: column;align-items: center;background-color: white;padding-right: 0.2em;padding-left: 0.2em;position: relative;}#sk-container-id-3 div.sk-item {position: relative;z-index: 1;}#sk-container-id-3 div.sk-parallel {display: flex;align-items: stretch;justify-content: center;background-color: white;position: relative;}#sk-container-id-3 div.sk-item::before, #sk-container-id-3 div.sk-parallel-item::before {content: \"\";position: absolute;border-left: 1px solid gray;box-sizing: border-box;top: 0;bottom: 0;left: 50%;z-index: -1;}#sk-container-id-3 div.sk-parallel-item {display: flex;flex-direction: column;z-index: 1;position: relative;background-color: white;}#sk-container-id-3 div.sk-parallel-item:first-child::after {align-self: flex-end;width: 50%;}#sk-container-id-3 div.sk-parallel-item:last-child::after {align-self: flex-start;width: 50%;}#sk-container-id-3 div.sk-parallel-item:only-child::after {width: 0;}#sk-container-id-3 div.sk-dashed-wrapped {border: 1px dashed gray;margin: 0 0.4em 0.5em 0.4em;box-sizing: border-box;padding-bottom: 0.4em;background-color: white;}#sk-container-id-3 div.sk-label label {font-family: monospace;font-weight: bold;display: inline-block;line-height: 1.2em;}#sk-container-id-3 div.sk-label-container {text-align: center;}#sk-container-id-3 div.sk-container {/* jupyter's `normalize.less` sets `[hidden] { display: none; }` but bootstrap.min.css set `[hidden] { display: none !important; }` so we also need the `!important` here to be able to override the default hidden behavior on the sphinx rendered scikit-learn.org. See: https://github.com/scikit-learn/scikit-learn/issues/21755 */display: inline-block !important;position: relative;}#sk-container-id-3 div.sk-text-repr-fallback {display: none;}</style><div id=\"sk-container-id-3\" class=\"sk-top-container\"><div class=\"sk-text-repr-fallback\"><pre>Pipeline(steps=[(&#x27;standardscaler&#x27;, StandardScaler()),\n",
       "                (&#x27;pipeline&#x27;,\n",
       "                 Pipeline(steps=[(&#x27;rf.imbalance&#x27;, ImbalanceDetector()),\n",
       "                                 (&#x27;rf.clip&#x27;, ClipDetector()),\n",
       "                                 (&#x27;rf.correlation&#x27;, CorrelationDetector()),\n",
       "                                 (&#x27;rf.outlier&#x27;,\n",
       "                                  OutlierDetector(threshold=3.3682141715600706)),\n",
       "                                 (&#x27;rf.distributions&#x27;, DistributionComparator()),\n",
       "                                 (&#x27;rf.importance&#x27;, ImportanceDetector())])),\n",
       "                (&#x27;svc&#x27;, SVC())])</pre><b>In a Jupyter environment, please rerun this cell to show the HTML representation or trust the notebook. <br />On GitHub, the HTML representation is unable to render, please try loading this page with nbviewer.org.</b></div><div class=\"sk-container\" hidden><div class=\"sk-item sk-dashed-wrapped\"><div class=\"sk-label-container\"><div class=\"sk-label sk-toggleable\"><input class=\"sk-toggleable__control sk-hidden--visually\" id=\"sk-estimator-id-18\" type=\"checkbox\" ><label for=\"sk-estimator-id-18\" class=\"sk-toggleable__label sk-toggleable__label-arrow\">Pipeline</label><div class=\"sk-toggleable__content\"><pre>Pipeline(steps=[(&#x27;standardscaler&#x27;, StandardScaler()),\n",
       "                (&#x27;pipeline&#x27;,\n",
       "                 Pipeline(steps=[(&#x27;rf.imbalance&#x27;, ImbalanceDetector()),\n",
       "                                 (&#x27;rf.clip&#x27;, ClipDetector()),\n",
       "                                 (&#x27;rf.correlation&#x27;, CorrelationDetector()),\n",
       "                                 (&#x27;rf.outlier&#x27;,\n",
       "                                  OutlierDetector(threshold=3.3682141715600706)),\n",
       "                                 (&#x27;rf.distributions&#x27;, DistributionComparator()),\n",
       "                                 (&#x27;rf.importance&#x27;, ImportanceDetector())])),\n",
       "                (&#x27;svc&#x27;, SVC())])</pre></div></div></div><div class=\"sk-serial\"><div class=\"sk-item\"><div class=\"sk-estimator sk-toggleable\"><input class=\"sk-toggleable__control sk-hidden--visually\" id=\"sk-estimator-id-19\" type=\"checkbox\" ><label for=\"sk-estimator-id-19\" class=\"sk-toggleable__label sk-toggleable__label-arrow\">StandardScaler</label><div class=\"sk-toggleable__content\"><pre>StandardScaler()</pre></div></div></div><div class=\"sk-item\"><div class=\"sk-label-container\"><div class=\"sk-label sk-toggleable\"><input class=\"sk-toggleable__control sk-hidden--visually\" id=\"sk-estimator-id-20\" type=\"checkbox\" ><label for=\"sk-estimator-id-20\" class=\"sk-toggleable__label sk-toggleable__label-arrow\">pipeline: Pipeline</label><div class=\"sk-toggleable__content\"><pre>Pipeline(steps=[(&#x27;rf.imbalance&#x27;, ImbalanceDetector()),\n",
       "                (&#x27;rf.clip&#x27;, ClipDetector()),\n",
       "                (&#x27;rf.correlation&#x27;, CorrelationDetector()),\n",
       "                (&#x27;rf.outlier&#x27;, OutlierDetector(threshold=3.3682141715600706)),\n",
       "                (&#x27;rf.distributions&#x27;, DistributionComparator()),\n",
       "                (&#x27;rf.importance&#x27;, ImportanceDetector())])</pre></div></div></div><div class=\"sk-serial\"><div class=\"sk-item\"><div class=\"sk-estimator sk-toggleable\"><input class=\"sk-toggleable__control sk-hidden--visually\" id=\"sk-estimator-id-21\" type=\"checkbox\" ><label for=\"sk-estimator-id-21\" class=\"sk-toggleable__label sk-toggleable__label-arrow\">ImbalanceDetector</label><div class=\"sk-toggleable__content\"><pre>ImbalanceDetector()</pre></div></div></div><div class=\"sk-item\"><div class=\"sk-estimator sk-toggleable\"><input class=\"sk-toggleable__control sk-hidden--visually\" id=\"sk-estimator-id-22\" type=\"checkbox\" ><label for=\"sk-estimator-id-22\" class=\"sk-toggleable__label sk-toggleable__label-arrow\">ClipDetector</label><div class=\"sk-toggleable__content\"><pre>ClipDetector()</pre></div></div></div><div class=\"sk-item\"><div class=\"sk-estimator sk-toggleable\"><input class=\"sk-toggleable__control sk-hidden--visually\" id=\"sk-estimator-id-23\" type=\"checkbox\" ><label for=\"sk-estimator-id-23\" class=\"sk-toggleable__label sk-toggleable__label-arrow\">CorrelationDetector</label><div class=\"sk-toggleable__content\"><pre>CorrelationDetector()</pre></div></div></div><div class=\"sk-item\"><div class=\"sk-estimator sk-toggleable\"><input class=\"sk-toggleable__control sk-hidden--visually\" id=\"sk-estimator-id-24\" type=\"checkbox\" ><label for=\"sk-estimator-id-24\" class=\"sk-toggleable__label sk-toggleable__label-arrow\">OutlierDetector</label><div class=\"sk-toggleable__content\"><pre>OutlierDetector(threshold=3.3682141715600706)</pre></div></div></div><div class=\"sk-item\"><div class=\"sk-estimator sk-toggleable\"><input class=\"sk-toggleable__control sk-hidden--visually\" id=\"sk-estimator-id-25\" type=\"checkbox\" ><label for=\"sk-estimator-id-25\" class=\"sk-toggleable__label sk-toggleable__label-arrow\">DistributionComparator</label><div class=\"sk-toggleable__content\"><pre>DistributionComparator()</pre></div></div></div><div class=\"sk-item\"><div class=\"sk-estimator sk-toggleable\"><input class=\"sk-toggleable__control sk-hidden--visually\" id=\"sk-estimator-id-26\" type=\"checkbox\" ><label for=\"sk-estimator-id-26\" class=\"sk-toggleable__label sk-toggleable__label-arrow\">ImportanceDetector</label><div class=\"sk-toggleable__content\"><pre>ImportanceDetector()</pre></div></div></div></div></div><div class=\"sk-item\"><div class=\"sk-estimator sk-toggleable\"><input class=\"sk-toggleable__control sk-hidden--visually\" id=\"sk-estimator-id-27\" type=\"checkbox\" ><label for=\"sk-estimator-id-27\" class=\"sk-toggleable__label sk-toggleable__label-arrow\">SVC</label><div class=\"sk-toggleable__content\"><pre>SVC()</pre></div></div></div></div></div></div></div>"
      ],
      "text/plain": [
       "Pipeline(steps=[('standardscaler', StandardScaler()),\n",
       "                ('pipeline',\n",
       "                 Pipeline(steps=[('rf.imbalance', ImbalanceDetector()),\n",
       "                                 ('rf.clip', ClipDetector()),\n",
       "                                 ('rf.correlation', CorrelationDetector()),\n",
       "                                 ('rf.outlier',\n",
       "                                  OutlierDetector(threshold=3.3682141715600706)),\n",
       "                                 ('rf.distributions', DistributionComparator()),\n",
       "                                 ('rf.importance', ImportanceDetector())])),\n",
       "                ('svc', SVC())])"
      ]
     },
     "execution_count": 6,
     "metadata": {},
     "output_type": "execute_result"
    }
   ],
   "source": [
    "pipe.fit(X_train, y_train)"
   ]
  },
  {
   "cell_type": "markdown",
   "metadata": {},
   "source": [
    "When we pass in data for prediction, `redflag` checks the new inputs. There are two categories of check:\n",
    "\n",
    "- Check for first-order issues, e.g. for clipping, or self-correlation.\n",
    "- Compare statistics to the training data, e.g. to compare the distribution of the data or look for outliers."
   ]
  },
  {
   "cell_type": "code",
   "execution_count": 7,
   "metadata": {},
   "outputs": [
    {
     "name": "stderr",
     "output_type": "stream",
     "text": [
      "🚩 Feature 0 may have clipped values.\n",
      "🚩 Features 0, 1, 2 may have correlated values.\n",
      "🚩 There are more outliers than expected in the data (30 vs 8).\n",
      "🚩 Feature 2 has a distribution that is different from training.\n"
     ]
    },
    {
     "data": {
      "text/plain": [
       "array(['siltstone', 'siltstone', 'siltstone', 'siltstone', 'siltstone',\n",
       "       'siltstone', 'siltstone', 'siltstone', 'siltstone', 'siltstone',\n",
       "       'siltstone', 'siltstone', 'siltstone', 'siltstone', 'siltstone',\n",
       "       'siltstone', 'siltstone', 'siltstone', 'siltstone', 'siltstone'],\n",
       "      dtype=object)"
      ]
     },
     "execution_count": 7,
     "metadata": {},
     "output_type": "execute_result"
    }
   ],
   "source": [
    "y_pred = pipe.predict(X_test)\n",
    "y_pred[:20]"
   ]
  },
  {
   "cell_type": "markdown",
   "metadata": {},
   "source": [
    "But you can't pass arguments to the elements of `redflag_pipeline` components yet, for example to change the sensitivity of the `DistributionComparator`. To do that, use them separately. That is, instantiate the detector components how you want them, and make a pipeline out of the components."
   ]
  },
  {
   "cell_type": "markdown",
   "metadata": {},
   "source": [
    "## Using the 'detector' transformers\n",
    "\n",
    "Let's construct a pipeline from `redflag`'s transformers directly.\n",
    "\n",
    "Let's drop the clipped records of the GR log."
   ]
  },
  {
   "cell_type": "code",
   "execution_count": 8,
   "metadata": {},
   "outputs": [],
   "source": [
    "df = df.loc[df['GR'] < 200]\n",
    "\n",
    "test_flag = df['Well Name'].isin(test_wells)\n",
    "\n",
    "X_test = df.loc[test_flag, features]\n",
    "y_test = df.loc[test_flag, 'Lithology']\n",
    "\n",
    "X_train = df.loc[~test_flag, features]\n",
    "y_train = df.loc[~test_flag, 'Lithology']"
   ]
  },
  {
   "cell_type": "markdown",
   "metadata": {},
   "source": [
    "We know all this data is correlated to itself, so we can leave that check out.\n",
    "\n",
    "We don't think the class imbalance is too troubling, so we raise the threshold on that.\n",
    "\n",
    "We'll lower the confidence level of the outlier detector to 80% (i.e. we expect 20% of the data points will likely qualify as outliers). This might still trigger the detector in the training data.\n",
    "\n",
    "Finally, we'll lower the threshold for the distribution comparison. This is the minimum Wasserstein distance required to trigger the warning.\n",
    "\n",
    "So here's the new pipeline:"
   ]
  },
  {
   "cell_type": "code",
   "execution_count": 9,
   "metadata": {},
   "outputs": [],
   "source": [
    "pipe = make_pipeline(StandardScaler(),\n",
    "                     rf.ImbalanceDetector(threshold=0.5),\n",
    "                     rf.ClipDetector(),\n",
    "                     rf.OutlierDetector(p=0.80),\n",
    "                     rf.DistributionComparator(threshold=0.25),\n",
    "                     SVC())"
   ]
  },
  {
   "cell_type": "markdown",
   "metadata": {},
   "source": [
    "Remember, feature 0 is no longer clipped, and the correlation detection is not being run. So we expect to see only the outlier issue, and the clipping issue with the RHOB column:"
   ]
  },
  {
   "cell_type": "code",
   "execution_count": 10,
   "metadata": {},
   "outputs": [
    {
     "name": "stderr",
     "output_type": "stream",
     "text": [
      "🚩 Feature 1 may have clipped values.\n",
      "🚩 There are more outliers than expected in the training data (839 vs 626).\n"
     ]
    },
    {
     "data": {
      "text/html": [
       "<style>#sk-container-id-4 {color: black;background-color: white;}#sk-container-id-4 pre{padding: 0;}#sk-container-id-4 div.sk-toggleable {background-color: white;}#sk-container-id-4 label.sk-toggleable__label {cursor: pointer;display: block;width: 100%;margin-bottom: 0;padding: 0.3em;box-sizing: border-box;text-align: center;}#sk-container-id-4 label.sk-toggleable__label-arrow:before {content: \"▸\";float: left;margin-right: 0.25em;color: #696969;}#sk-container-id-4 label.sk-toggleable__label-arrow:hover:before {color: black;}#sk-container-id-4 div.sk-estimator:hover label.sk-toggleable__label-arrow:before {color: black;}#sk-container-id-4 div.sk-toggleable__content {max-height: 0;max-width: 0;overflow: hidden;text-align: left;background-color: #f0f8ff;}#sk-container-id-4 div.sk-toggleable__content pre {margin: 0.2em;color: black;border-radius: 0.25em;background-color: #f0f8ff;}#sk-container-id-4 input.sk-toggleable__control:checked~div.sk-toggleable__content {max-height: 200px;max-width: 100%;overflow: auto;}#sk-container-id-4 input.sk-toggleable__control:checked~label.sk-toggleable__label-arrow:before {content: \"▾\";}#sk-container-id-4 div.sk-estimator input.sk-toggleable__control:checked~label.sk-toggleable__label {background-color: #d4ebff;}#sk-container-id-4 div.sk-label input.sk-toggleable__control:checked~label.sk-toggleable__label {background-color: #d4ebff;}#sk-container-id-4 input.sk-hidden--visually {border: 0;clip: rect(1px 1px 1px 1px);clip: rect(1px, 1px, 1px, 1px);height: 1px;margin: -1px;overflow: hidden;padding: 0;position: absolute;width: 1px;}#sk-container-id-4 div.sk-estimator {font-family: monospace;background-color: #f0f8ff;border: 1px dotted black;border-radius: 0.25em;box-sizing: border-box;margin-bottom: 0.5em;}#sk-container-id-4 div.sk-estimator:hover {background-color: #d4ebff;}#sk-container-id-4 div.sk-parallel-item::after {content: \"\";width: 100%;border-bottom: 1px solid gray;flex-grow: 1;}#sk-container-id-4 div.sk-label:hover label.sk-toggleable__label {background-color: #d4ebff;}#sk-container-id-4 div.sk-serial::before {content: \"\";position: absolute;border-left: 1px solid gray;box-sizing: border-box;top: 0;bottom: 0;left: 50%;z-index: 0;}#sk-container-id-4 div.sk-serial {display: flex;flex-direction: column;align-items: center;background-color: white;padding-right: 0.2em;padding-left: 0.2em;position: relative;}#sk-container-id-4 div.sk-item {position: relative;z-index: 1;}#sk-container-id-4 div.sk-parallel {display: flex;align-items: stretch;justify-content: center;background-color: white;position: relative;}#sk-container-id-4 div.sk-item::before, #sk-container-id-4 div.sk-parallel-item::before {content: \"\";position: absolute;border-left: 1px solid gray;box-sizing: border-box;top: 0;bottom: 0;left: 50%;z-index: -1;}#sk-container-id-4 div.sk-parallel-item {display: flex;flex-direction: column;z-index: 1;position: relative;background-color: white;}#sk-container-id-4 div.sk-parallel-item:first-child::after {align-self: flex-end;width: 50%;}#sk-container-id-4 div.sk-parallel-item:last-child::after {align-self: flex-start;width: 50%;}#sk-container-id-4 div.sk-parallel-item:only-child::after {width: 0;}#sk-container-id-4 div.sk-dashed-wrapped {border: 1px dashed gray;margin: 0 0.4em 0.5em 0.4em;box-sizing: border-box;padding-bottom: 0.4em;background-color: white;}#sk-container-id-4 div.sk-label label {font-family: monospace;font-weight: bold;display: inline-block;line-height: 1.2em;}#sk-container-id-4 div.sk-label-container {text-align: center;}#sk-container-id-4 div.sk-container {/* jupyter's `normalize.less` sets `[hidden] { display: none; }` but bootstrap.min.css set `[hidden] { display: none !important; }` so we also need the `!important` here to be able to override the default hidden behavior on the sphinx rendered scikit-learn.org. See: https://github.com/scikit-learn/scikit-learn/issues/21755 */display: inline-block !important;position: relative;}#sk-container-id-4 div.sk-text-repr-fallback {display: none;}</style><div id=\"sk-container-id-4\" class=\"sk-top-container\"><div class=\"sk-text-repr-fallback\"><pre>Pipeline(steps=[(&#x27;standardscaler&#x27;, StandardScaler()),\n",
       "                (&#x27;imbalancedetector&#x27;, ImbalanceDetector(threshold=0.5)),\n",
       "                (&#x27;clipdetector&#x27;, ClipDetector()),\n",
       "                (&#x27;outlierdetector&#x27;,\n",
       "                 OutlierDetector(p=0.8, threshold=2.154443705823081)),\n",
       "                (&#x27;distributioncomparator&#x27;,\n",
       "                 DistributionComparator(threshold=0.25)),\n",
       "                (&#x27;svc&#x27;, SVC())])</pre><b>In a Jupyter environment, please rerun this cell to show the HTML representation or trust the notebook. <br />On GitHub, the HTML representation is unable to render, please try loading this page with nbviewer.org.</b></div><div class=\"sk-container\" hidden><div class=\"sk-item sk-dashed-wrapped\"><div class=\"sk-label-container\"><div class=\"sk-label sk-toggleable\"><input class=\"sk-toggleable__control sk-hidden--visually\" id=\"sk-estimator-id-28\" type=\"checkbox\" ><label for=\"sk-estimator-id-28\" class=\"sk-toggleable__label sk-toggleable__label-arrow\">Pipeline</label><div class=\"sk-toggleable__content\"><pre>Pipeline(steps=[(&#x27;standardscaler&#x27;, StandardScaler()),\n",
       "                (&#x27;imbalancedetector&#x27;, ImbalanceDetector(threshold=0.5)),\n",
       "                (&#x27;clipdetector&#x27;, ClipDetector()),\n",
       "                (&#x27;outlierdetector&#x27;,\n",
       "                 OutlierDetector(p=0.8, threshold=2.154443705823081)),\n",
       "                (&#x27;distributioncomparator&#x27;,\n",
       "                 DistributionComparator(threshold=0.25)),\n",
       "                (&#x27;svc&#x27;, SVC())])</pre></div></div></div><div class=\"sk-serial\"><div class=\"sk-item\"><div class=\"sk-estimator sk-toggleable\"><input class=\"sk-toggleable__control sk-hidden--visually\" id=\"sk-estimator-id-29\" type=\"checkbox\" ><label for=\"sk-estimator-id-29\" class=\"sk-toggleable__label sk-toggleable__label-arrow\">StandardScaler</label><div class=\"sk-toggleable__content\"><pre>StandardScaler()</pre></div></div></div><div class=\"sk-item\"><div class=\"sk-estimator sk-toggleable\"><input class=\"sk-toggleable__control sk-hidden--visually\" id=\"sk-estimator-id-30\" type=\"checkbox\" ><label for=\"sk-estimator-id-30\" class=\"sk-toggleable__label sk-toggleable__label-arrow\">ImbalanceDetector</label><div class=\"sk-toggleable__content\"><pre>ImbalanceDetector(threshold=0.5)</pre></div></div></div><div class=\"sk-item\"><div class=\"sk-estimator sk-toggleable\"><input class=\"sk-toggleable__control sk-hidden--visually\" id=\"sk-estimator-id-31\" type=\"checkbox\" ><label for=\"sk-estimator-id-31\" class=\"sk-toggleable__label sk-toggleable__label-arrow\">ClipDetector</label><div class=\"sk-toggleable__content\"><pre>ClipDetector()</pre></div></div></div><div class=\"sk-item\"><div class=\"sk-estimator sk-toggleable\"><input class=\"sk-toggleable__control sk-hidden--visually\" id=\"sk-estimator-id-32\" type=\"checkbox\" ><label for=\"sk-estimator-id-32\" class=\"sk-toggleable__label sk-toggleable__label-arrow\">OutlierDetector</label><div class=\"sk-toggleable__content\"><pre>OutlierDetector(p=0.8, threshold=2.154443705823081)</pre></div></div></div><div class=\"sk-item\"><div class=\"sk-estimator sk-toggleable\"><input class=\"sk-toggleable__control sk-hidden--visually\" id=\"sk-estimator-id-33\" type=\"checkbox\" ><label for=\"sk-estimator-id-33\" class=\"sk-toggleable__label sk-toggleable__label-arrow\">DistributionComparator</label><div class=\"sk-toggleable__content\"><pre>DistributionComparator(threshold=0.25)</pre></div></div></div><div class=\"sk-item\"><div class=\"sk-estimator sk-toggleable\"><input class=\"sk-toggleable__control sk-hidden--visually\" id=\"sk-estimator-id-34\" type=\"checkbox\" ><label for=\"sk-estimator-id-34\" class=\"sk-toggleable__label sk-toggleable__label-arrow\">SVC</label><div class=\"sk-toggleable__content\"><pre>SVC()</pre></div></div></div></div></div></div></div>"
      ],
      "text/plain": [
       "Pipeline(steps=[('standardscaler', StandardScaler()),\n",
       "                ('imbalancedetector', ImbalanceDetector(threshold=0.5)),\n",
       "                ('clipdetector', ClipDetector()),\n",
       "                ('outlierdetector',\n",
       "                 OutlierDetector(p=0.8, threshold=2.154443705823081)),\n",
       "                ('distributioncomparator',\n",
       "                 DistributionComparator(threshold=0.25)),\n",
       "                ('svc', SVC())])"
      ]
     },
     "execution_count": 10,
     "metadata": {},
     "output_type": "execute_result"
    }
   ],
   "source": [
    "pipe.fit(X_train, y_train)"
   ]
  },
  {
   "cell_type": "markdown",
   "metadata": {},
   "source": [
    "The test dataset does not trigger the higher threshold for outliers. But with the new lower Wasserstein threshold, the distribution comparison fails for all of the features:"
   ]
  },
  {
   "cell_type": "code",
   "execution_count": 11,
   "metadata": {
    "scrolled": false
   },
   "outputs": [
    {
     "name": "stderr",
     "output_type": "stream",
     "text": [
      "🚩 Features 0, 1, 2 have distributions that are different from training.\n"
     ]
    }
   ],
   "source": [
    "y_pred = pipe.predict(X_test)"
   ]
  },
  {
   "cell_type": "markdown",
   "metadata": {},
   "source": [
    "## The imbalance comparator\n",
    "\n",
    "As mentioned, the `ImbalanceComparator`, is not compatible with ordinary `Pipeline` objects, because it requires `y` (class imbalance comparison only works on the target vector). An `RfPipeline` object is available to use with this comparator... but it will not work as part of another ordinary `Pipeline` (for the same reason: `y` will not be passed into it), so if you compose a multi-pipeline pipeline, make sure to use `RfPipeline` for all of it.\n",
    "\n",
    "There is also a `make_rf_pipeline()` function that works just like `make_pipeline`, but it uses `RfPipeline` instead.\n",
    "\n",
    "Let's use it to check whether the imbalance in our test data is similar to the imbalance in the training data. When fitting a model, the comparator will never trigger:"
   ]
  },
  {
   "cell_type": "code",
   "execution_count": 12,
   "metadata": {},
   "outputs": [
    {
     "data": {
      "text/html": [
       "<style>#sk-container-id-5 {color: black;background-color: white;}#sk-container-id-5 pre{padding: 0;}#sk-container-id-5 div.sk-toggleable {background-color: white;}#sk-container-id-5 label.sk-toggleable__label {cursor: pointer;display: block;width: 100%;margin-bottom: 0;padding: 0.3em;box-sizing: border-box;text-align: center;}#sk-container-id-5 label.sk-toggleable__label-arrow:before {content: \"▸\";float: left;margin-right: 0.25em;color: #696969;}#sk-container-id-5 label.sk-toggleable__label-arrow:hover:before {color: black;}#sk-container-id-5 div.sk-estimator:hover label.sk-toggleable__label-arrow:before {color: black;}#sk-container-id-5 div.sk-toggleable__content {max-height: 0;max-width: 0;overflow: hidden;text-align: left;background-color: #f0f8ff;}#sk-container-id-5 div.sk-toggleable__content pre {margin: 0.2em;color: black;border-radius: 0.25em;background-color: #f0f8ff;}#sk-container-id-5 input.sk-toggleable__control:checked~div.sk-toggleable__content {max-height: 200px;max-width: 100%;overflow: auto;}#sk-container-id-5 input.sk-toggleable__control:checked~label.sk-toggleable__label-arrow:before {content: \"▾\";}#sk-container-id-5 div.sk-estimator input.sk-toggleable__control:checked~label.sk-toggleable__label {background-color: #d4ebff;}#sk-container-id-5 div.sk-label input.sk-toggleable__control:checked~label.sk-toggleable__label {background-color: #d4ebff;}#sk-container-id-5 input.sk-hidden--visually {border: 0;clip: rect(1px 1px 1px 1px);clip: rect(1px, 1px, 1px, 1px);height: 1px;margin: -1px;overflow: hidden;padding: 0;position: absolute;width: 1px;}#sk-container-id-5 div.sk-estimator {font-family: monospace;background-color: #f0f8ff;border: 1px dotted black;border-radius: 0.25em;box-sizing: border-box;margin-bottom: 0.5em;}#sk-container-id-5 div.sk-estimator:hover {background-color: #d4ebff;}#sk-container-id-5 div.sk-parallel-item::after {content: \"\";width: 100%;border-bottom: 1px solid gray;flex-grow: 1;}#sk-container-id-5 div.sk-label:hover label.sk-toggleable__label {background-color: #d4ebff;}#sk-container-id-5 div.sk-serial::before {content: \"\";position: absolute;border-left: 1px solid gray;box-sizing: border-box;top: 0;bottom: 0;left: 50%;z-index: 0;}#sk-container-id-5 div.sk-serial {display: flex;flex-direction: column;align-items: center;background-color: white;padding-right: 0.2em;padding-left: 0.2em;position: relative;}#sk-container-id-5 div.sk-item {position: relative;z-index: 1;}#sk-container-id-5 div.sk-parallel {display: flex;align-items: stretch;justify-content: center;background-color: white;position: relative;}#sk-container-id-5 div.sk-item::before, #sk-container-id-5 div.sk-parallel-item::before {content: \"\";position: absolute;border-left: 1px solid gray;box-sizing: border-box;top: 0;bottom: 0;left: 50%;z-index: -1;}#sk-container-id-5 div.sk-parallel-item {display: flex;flex-direction: column;z-index: 1;position: relative;background-color: white;}#sk-container-id-5 div.sk-parallel-item:first-child::after {align-self: flex-end;width: 50%;}#sk-container-id-5 div.sk-parallel-item:last-child::after {align-self: flex-start;width: 50%;}#sk-container-id-5 div.sk-parallel-item:only-child::after {width: 0;}#sk-container-id-5 div.sk-dashed-wrapped {border: 1px dashed gray;margin: 0 0.4em 0.5em 0.4em;box-sizing: border-box;padding-bottom: 0.4em;background-color: white;}#sk-container-id-5 div.sk-label label {font-family: monospace;font-weight: bold;display: inline-block;line-height: 1.2em;}#sk-container-id-5 div.sk-label-container {text-align: center;}#sk-container-id-5 div.sk-container {/* jupyter's `normalize.less` sets `[hidden] { display: none; }` but bootstrap.min.css set `[hidden] { display: none !important; }` so we also need the `!important` here to be able to override the default hidden behavior on the sphinx rendered scikit-learn.org. See: https://github.com/scikit-learn/scikit-learn/issues/21755 */display: inline-block !important;position: relative;}#sk-container-id-5 div.sk-text-repr-fallback {display: none;}</style><div id=\"sk-container-id-5\" class=\"sk-top-container\"><div class=\"sk-text-repr-fallback\"><pre>RfPipeline(steps=[(&#x27;imbalancecomparator&#x27;, ImbalanceComparator())])</pre><b>In a Jupyter environment, please rerun this cell to show the HTML representation or trust the notebook. <br />On GitHub, the HTML representation is unable to render, please try loading this page with nbviewer.org.</b></div><div class=\"sk-container\" hidden><div class=\"sk-item sk-dashed-wrapped\"><div class=\"sk-label-container\"><div class=\"sk-label sk-toggleable\"><input class=\"sk-toggleable__control sk-hidden--visually\" id=\"sk-estimator-id-35\" type=\"checkbox\" ><label for=\"sk-estimator-id-35\" class=\"sk-toggleable__label sk-toggleable__label-arrow\">RfPipeline</label><div class=\"sk-toggleable__content\"><pre>RfPipeline(steps=[(&#x27;imbalancecomparator&#x27;, ImbalanceComparator())])</pre></div></div></div><div class=\"sk-serial\"><div class=\"sk-item\"><div class=\"sk-estimator sk-toggleable\"><input class=\"sk-toggleable__control sk-hidden--visually\" id=\"sk-estimator-id-36\" type=\"checkbox\" ><label for=\"sk-estimator-id-36\" class=\"sk-toggleable__label sk-toggleable__label-arrow\">ImbalanceComparator</label><div class=\"sk-toggleable__content\"><pre>ImbalanceComparator()</pre></div></div></div></div></div></div></div>"
      ],
      "text/plain": [
       "RfPipeline(steps=[('imbalancecomparator', ImbalanceComparator())])"
      ]
     },
     "execution_count": 12,
     "metadata": {},
     "output_type": "execute_result"
    }
   ],
   "source": [
    "pipe = rf.make_rf_pipeline(rf.ImbalanceComparator())\n",
    "\n",
    "pipe.fit(X_train, y_train)"
   ]
  },
  {
   "cell_type": "markdown",
   "metadata": {},
   "source": [
    "But during transformation (therefore during prediction or other inference phases), it checks the imbalance is the same:"
   ]
  },
  {
   "cell_type": "code",
   "execution_count": 13,
   "metadata": {},
   "outputs": [
    {
     "name": "stderr",
     "output_type": "stream",
     "text": [
      "🚩 There is a different number of minority classes (2) compared to the training data (4).\n",
      "🚩 The minority classes (sandstone, dolomite) are different from those in the training data (dolomite, sandstone, mudstone, wackestone).\n"
     ]
    },
    {
     "data": {
      "text/plain": [
       "array([[  66.276     , 2359.73324716,    3.591     ],\n",
       "       [  77.252     , 2354.54679144,    3.341     ],\n",
       "       [  82.899     , 2330.35783664,    3.064     ],\n",
       "       ...,\n",
       "       [  90.49      , 2193.06953439,    3.168     ],\n",
       "       [  90.975     , 2192.32922081,    3.154     ],\n",
       "       [  90.108     , 2176.62535394,    3.125     ]])"
      ]
     },
     "execution_count": 13,
     "metadata": {},
     "output_type": "execute_result"
    }
   ],
   "source": [
    "pipe.transform(X_test, y_test)"
   ]
  },
  {
   "cell_type": "markdown",
   "metadata": {},
   "source": [
    "## What to do about the warnings\n",
    "\n",
    "If one of the detectors triggers, what should you do? Here are some ideas:\n",
    "\n",
    "\n",
    "### `ImbalanceDetector`\n",
    "\n",
    "- Check `rf.class_counts(y)` to see the support for each class in the dataset.\n",
    "- Check `rf.minority_classes(y)` to see which classes are considered 'minority'.\n",
    "\n",
    "This detector does not run during `transform`, only during `fit`. Usually, we don't worry about imbalance in data we are predicting on. If this is a concern for you, you can use `fit` on it (and make a GitHub Issue about it, because we could add an option to run during transform as well).\n",
    "\n",
    "\n",
    "### `ClipDetector`\n",
    "\n",
    "- Make sure the clipping values seem reasonable and do not lose a lot of dynamic range in the data (e.g. don't clip daily temperatures for Europe at 0 and 25 deg C).\n",
    "- Check that the clipped data cannot be dealt with in some other way (e.g. you can attenuate very large values with a log transformation, if it makes sense in your data).\n",
    "- Check that the clipped data should not simply be dropped from the dataset (e.g. if there are only a few values out of many, or if the other features also look suspicious for those records).\n",
    "\n",
    "You may or may not be concerned about clipping. You may want to try training your models with and without the clipped records, to see if they make a difference to the model performance. I'm not aware of any research on this.\n",
    "\n",
    "\n",
    "### `CorrelationDetector`\n",
    "\n",
    "If the data is correlated to shifted versions of itself, e.g. because the data points are contiguous in time or space (daily temperature records, spatial measurements of rock properties, etc), then the so-called [IID assumption](https://en.wikipedia.org/wiki/Independent_and_identically_distributed_random_variables) fails. In particular, your records are not independent. One of the big pitfalls with non-independent data is randomly splitting the data into train and test sets &mdash; you must not do this, it will result in information leakage and thus over-optimistic model evaulation. Instead, you should split the data using contiguous groups (date ranges, patient ID, borehole, or similar).\n",
    "\n",
    "\n",
    "### `OutlierDetector`\n",
    "\n",
    "There are a lot of ways of looking for outliers in data. The outlier detector only implements one strategy:\n",
    "\n",
    "- Learn the robust location and covariance of the training data (you can think of these as outlier-insensitive, multi-dimensional analogs to mean and variance in a single random variable).\n",
    "- As with the Gaussian distribution, we expect a certain number of samples to fall far from the centre of this distribution. For example, we expect 99.7% of values to be within 3 standard deviations of the mean.\n",
    "- So, given a confidence level like 99.7%, `redflag` counts how many values are more than 3 SD's away. If there are more than expected (e.g.  we expect 3 samples out of 1000), the detector is triggered.\n",
    "- The default confidence level is 99% (you expect 1% of the data to be noise), but you can change it.\n",
    "\n",
    "So the location and covariance are learned from the training data; the detector then runs on the training data and on future datasets during the prediction phase (test, val, and in production).\n",
    "\n",
    "If the detector is triggered, you should check which samples are considered outliers with `rf.get_outliers(method='mah', p=0.99)` (without your value for `p`). This function returns the _indices_ of the outlier samples. You can also use `rf.expected_outliers(*X.shape, p=0.99)` to check how many outliers you'd expect in the dataset, for a given value of `p`/.\n",
    "\n",
    "You can check other methods, such as `iso` (isolation forest) to see if those also consider those samples to be outliers or not. If you think the samples are okay, you should keep them. If you think they are noise, you could remove them &mdash; but remember your model will not 'know' about these kinds of data points in the future and you should therefore remove them from future datasets too, before making predictions on them.\n",
    "\n",
    "\n",
    "### `DistributionComparator`\n",
    "\n",
    "Here's what this thing does:\n",
    "\n",
    "- When you call `fit` (e.g. during training), the detector learns the empirical, binned distributions of your features, one at a time. No warnings can be emitted during fitting, you are only learning the distributions.\n",
    "- When you call `transform` (e.g. during evaluation, testing, or in production), the detector compares the distributions in the data to those that were learned during fitting.\n",
    "- The comparison uses the [1-Wasserstein distance](https://en.wikipedia.org/wiki/Wasserstein_metric), or \"earth mover's distance\". Each feature is compared in turn; it is not a multivariate treatment. (If you'd like to see such a thing, please make a GitHub Issue, or have a crack at implementing it!)\n",
    "- If the distance is more than the threshold, 1 by default, the warning is triggered.\n",
    "\n",
    "If this detector triggers, it's a sign that you may have violated the 'identical  distribution' part of the [IID assumption](https://en.wikipedia.org/wiki/Independent_and_identically_distributed_random_variables). You should examine the distributions of the features in the training data vs the current data that triggered the detector. For example, you can do this visually with something like Seaborn's `displot` or `kdeplot` functions.\n",
    "\n",
    "A small difference, especially on just a few features, might just result from natural variance in the data and you may decide to ignore it. A large difference may be a result of forgetting to scale the data using the scaling parameters learned from the training data. A large difference could also result from trying to apply the model to a new 'domain', e.g. a new geographic location, set of patients, or type of widget. \n",
    "\n",
    "If you're in the model selection phase, it's possible that a different train/test split will give more comparable distributions.\n",
    "\n",
    "### Feature importance comparator (coming soon)\n",
    "\n",
    "- Negative importance suggests the feature is harming the prediction.\n",
    "- Very low positive importance (compared to other features) suggests the feature does not contain much useful information.\n",
    "- Very high importance in one or two features (compared to other features) suggests the feature(s) may be leaking information: check that it does not contain information about the target variable."
   ]
  },
  {
   "cell_type": "code",
   "execution_count": null,
   "metadata": {},
   "outputs": [],
   "source": []
  }
 ],
 "metadata": {
  "kernelspec": {
   "display_name": "py39",
   "language": "python",
   "name": "py39"
  },
  "language_info": {
   "codemirror_mode": {
    "name": "ipython",
    "version": 3
   },
   "file_extension": ".py",
   "mimetype": "text/x-python",
   "name": "python",
   "nbconvert_exporter": "python",
   "pygments_lexer": "ipython3",
   "version": "3.9.13"
  }
 },
 "nbformat": 4,
 "nbformat_minor": 4
}
