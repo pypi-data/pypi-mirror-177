{
 "cells": [
  {
   "cell_type": "markdown",
   "id": "dc1b8c96-9ffa-4434-b7ec-82f8947bf0eb",
   "metadata": {
    "tags": []
   },
   "source": [
    "# Manipylate in jupyter"
   ]
  },
  {
   "cell_type": "code",
   "execution_count": 1,
   "id": "62bd6290-e0af-412b-ac90-8d5eea8b0835",
   "metadata": {},
   "outputs": [],
   "source": [
    "%matplotlib ipympl\n",
    "%load_ext autoreload\n",
    "%autoreload 2\n",
    "import matplotlib as mpl\n",
    "from matplotlib import pyplot as plt\n",
    "import numpy as np\n",
    "from manipylate import *\n"
   ]
  },
  {
   "cell_type": "code",
   "execution_count": 2,
   "id": "8ae98bd6-0b94-4b50-979f-e9fc790c744f",
   "metadata": {},
   "outputs": [],
   "source": [
    "x=np.linspace(-5,5,200)\n",
    "a=np.linspace(1,100,20)\n",
    "X,Y,Z=np.meshgrid(x,x,a)\n",
    "data=np.sin(X)*np.sin(Z)*np.sinc(X*Y)"
   ]
  },
  {
   "cell_type": "code",
   "execution_count": 3,
   "id": "57a4db0a-4ba7-482e-92c0-95f43445aee5",
   "metadata": {},
   "outputs": [
    {
     "data": {
      "application/vnd.jupyter.widget-view+json": {
       "model_id": "3031030dedec46b48a2f72c386cf43dc",
       "version_major": 2,
       "version_minor": 0
      },
      "text/plain": [
       "Canvas(toolbar=Toolbar(toolitems=[('Home', 'Reset original view', 'home', 'home'), ('Back', 'Back to previous …"
      ]
     },
     "metadata": {},
     "output_type": "display_data"
    },
    {
     "data": {
      "application/vnd.jupyter.widget-view+json": {
       "model_id": "c97429fbbc4c4bc49f5ccb7601925374",
       "version_major": 2,
       "version_minor": 0
      },
      "text/plain": [
       "HBox(children=(VBox(children=(IntSlider(value=0, description='x', max=199), IntSlider(value=0, description='z'…"
      ]
     },
     "metadata": {},
     "output_type": "display_data"
    }
   ],
   "source": [
    "def datafun(z,a):\n",
    "    return x**(z*a)\n",
    "    \n",
    "mf = ifigure(2,2,jupyterwidget=True,figurename='./tmp/jupyfig.png')\n",
    "mf.add_plot([0,0],x,data,['x','z'],plot_ax=0)\n",
    "mf.add_plot([0,0],x,-data,['x','z'],plot_ax=0)\n",
    "mf.add_plot([1,0],x,datafun,['z',[ 'a',-1,1,0.1]],plot_ax=1)\n",
    "# mf.add_plot([1,0],x,data,['y','z'],plot_ax=1)\n",
    "mf.add_plot(np.s_[:,1],[x,a],data,['x'],plot_ax=[ 1,2 ],aspect='auto')\n",
    "mf.show()\n"
   ]
  },
  {
   "cell_type": "code",
   "execution_count": 4,
   "id": "eb87bd4f-8989-4af2-9a6c-32a6671846c5",
   "metadata": {},
   "outputs": [
    {
     "data": {
      "application/vnd.jupyter.widget-view+json": {
       "model_id": "62a1b59867a041eda01a8078642a4ffb",
       "version_major": 2,
       "version_minor": 0
      },
      "text/plain": [
       "Canvas(toolbar=Toolbar(toolitems=[('Home', 'Reset original view', 'home', 'home'), ('Back', 'Back to previous …"
      ]
     },
     "metadata": {},
     "output_type": "display_data"
    },
    {
     "data": {
      "application/vnd.jupyter.widget-view+json": {
       "model_id": "6db80f5b8f6840a0a11c047d42f130d1",
       "version_major": 2,
       "version_minor": 0
      },
      "text/plain": [
       "IntSlider(value=0, description='x', max=199)"
      ]
     },
     "metadata": {},
     "output_type": "display_data"
    }
   ],
   "source": [
    "x = np.linspace(-5, 5, 200)\n",
    "X, Y = np.meshgrid(x, x)\n",
    "data = np.sinc(X * Y**2)\n",
    "\n",
    "ifig = ifigure(1,1,jupyterwidget=True)\n",
    "ifig.add_plot(axpos=[0,0],x=x,data=data,parameters=['x'],plot_ax=1)\n",
    "ifig.show()\n"
   ]
  },
  {
   "cell_type": "code",
   "execution_count": null,
   "id": "751f7ec9-4f50-4fe7-afc2-04b4be942200",
   "metadata": {},
   "outputs": [],
   "source": []
  }
 ],
 "metadata": {
  "kernelspec": {
   "display_name": "Python 3",
   "language": "python",
   "name": "python3"
  },
  "language_info": {
   "codemirror_mode": {
    "name": "ipython",
    "version": 3
   },
   "file_extension": ".py",
   "mimetype": "text/x-python",
   "name": "python",
   "nbconvert_exporter": "python",
   "pygments_lexer": "ipython3",
   "version": "3.9.0"
  }
 },
 "nbformat": 4,
 "nbformat_minor": 5
}
