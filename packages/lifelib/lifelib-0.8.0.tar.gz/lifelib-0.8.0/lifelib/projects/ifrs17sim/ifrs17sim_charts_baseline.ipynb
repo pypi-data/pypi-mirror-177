{
 "cells": [
  {
   "cell_type": "markdown",
   "metadata": {},
   "source": [
    "# IFRS17 Simulation (Baseline)\n",
    "\n",
    "If you're viewing this page as a static HTML page on https://lifelib.io, the same contents are also available [here on binder] as Jupyter notebook executable online (it may take a while to load)\n",
    "\n",
    "To run this notebook and get all the outputs below, Go to the **Cell** menu above, and then click **Run All**.\n",
    "\n",
    "[here on binder]: https://mybinder.org/v2/gh/fumitoh/lifelib/binder?filepath=lifelib%2Fprojects%2Fifrs17sim%2Fifrs17sim_charts_baseline.ipynb"
   ]
  },
  {
   "cell_type": "markdown",
   "metadata": {},
   "source": [
    "## About this notebook\n",
    "\n",
    "This noteook demonstrates the usage of [ifrs17sim] project in [lifelib], by building and running a model and drawing waterfall graphs that depict how balancesheet items change and cashflows emerge over one or multiple periods using cashflows of a single modelpoint.\n",
    "\n",
    "Those charts are:\n",
    "* Present value of expected cashflows\n",
    "* CSM amortization\n",
    "* Actual cashflows\n",
    "* IFRS17 Financial performance\n",
    "\n",
    "under the senario that actual cashflows are equal to expected. \n",
    "\n",
    "[ifrs17sim]: https://lifelib.io/projects/ifrs17sim.html\n",
    "[lifelib]: https://lifelib.io\n",
    "\n",
    "<div class=\"alert alert-warning\">\n",
    "\n",
    "**Warning:**\n",
    "\n",
    "The primary purpose of this model is to showcase the capability of [lifelib] and its base system [modelx], and less attention has been paid to the accuracy of the model or the compliance with the accounting standards. \n",
    "At very least, following items are identified as over-simplification or lack of implementation.\n",
    "\n",
    "<ul>\n",
    "  <li>The timing of cashflows is either the beginning or end of each step.</li>\n",
    "  <li>All expenses are included in insurance cashflows.</li>\n",
    "  <li>Loss component logic is not yet incorporated, so `CSM` can be negative.</li>\n",
    "  <li>Coverage unit is set to sum assured</li>\n",
    "  <li>The amortization schedule of acquisition cashflows is constant over time.</li>\n",
    "  <li>All insurance cashflows are considered non-market sensitive, i.e. no TVOG is considered.</li>\n",
    "  <li>Risk adjustment is not yet modeled.</li>\n",
    "</ul>\n",
    "\n",
    "</div>\n",
    "\n",
    "[modelx]: http://docs.modelx.io"
   ]
  },
  {
   "cell_type": "markdown",
   "metadata": {},
   "source": [
    "## How to use Jupyter Notebook\n",
    "Jupter notebook enables you to run a Python script piece by piece. You can run each piece of code (called a \"cell\") by putting the cursor in the cell and pressing **Shift + Enter**, and get the output right below the input code of the cell.\n",
    "\n",
    "If you want to learn more about Jupyter Notebook, [this tutorial] will help you. There are also plenty of other resources on the internet as Jupyter Notebook is quite popular.\n",
    "\n",
    "[this tutorial]: https://nbviewer.jupyter.org/github/jupyter/notebook/blob/master/docs/source/examples/Notebook/Running%20Code.ipynb"
   ]
  },
  {
   "cell_type": "markdown",
   "metadata": {},
   "source": [
    "## Initial set-up\n",
    "\n",
    "The first line `%matplotlib notebook`, is for specifying drawing mode.\n",
    "\n",
    "The next few lines are import statements, by which functions defined in other modules become avaialbe in this script.\n",
    "\n",
    "`ifrs17sim` and `draw_charts` modules are in the project directory of this project. To see what fiels are in the project directory, select **Open** from the **File** menu in the tool bar above."
   ]
  },
  {
   "cell_type": "code",
   "execution_count": null,
   "metadata": {
    "collapsed": true
   },
   "outputs": [],
   "source": [
    "%matplotlib notebook\n",
    "import pandas as pd\n",
    "import collections\n",
    "import matplotlib.pyplot as plt\n",
    "from draw_charts import draw_waterfall, get_waterfalldata"
   ]
  },
  {
   "cell_type": "markdown",
   "metadata": {},
   "source": [
    "## Building the model\n",
    "\n",
    "The next line is to create a model from `build` function defined in `ifrs17sim` module which has just been imported. \n",
    "\n",
    "By supplying `True` to `load_saved` parameter of the `build` function, the input data is read from `ifrs17sim.mx`, the 'pickled' file to save loading time. To read input from `input.xlsm`, call `build` with `load_saved=False` or without any parameter because `False` is the default value of `load_saved`. \n",
    "\n",
    "If you run this code multiple time, the previous model is renamed to `ifrs17sim_BAK*`, and a new model is created and returned as `model`.\n",
    "\n",
    "In `model` thre is a space called `OuterProj` and other spaces. `OuterProj` is parametrized by Policy ID, i.e. each of the spaces with parameters corresponds to a projection of one policy. For example, `model.OuterProj[1]` return the projection of policy ID 1, `model.OuterProj[171]` return the projection of policy ID 171.\n",
    "\n",
    "The first line below sets `proj` as a shorthand for the projection of Policy ID 1. To see what cells are in `proj`, execute `proj.cells` in an empty cell. \n",
    "```python\n",
    "proj.cells\n",
    "```\n",
    "\n",
    "You can change the sample policy to output by supplying some other ID."
   ]
  },
  {
   "cell_type": "code",
   "execution_count": null,
   "metadata": {
    "collapsed": true
   },
   "outputs": [],
   "source": [
    "import modelx as mx\n",
    "model = mx.read_model(\"model\")\n",
    "proj = model.OuterProj[1]"
   ]
  },
  {
   "cell_type": "markdown",
   "metadata": {},
   "source": [
    "## Present value of expected cashflows\n",
    "\n",
    "The code below generate a waterfall chart that shows how the present value of expected insurance cashflows unwinds over time. No adjustment is made to match actual in-force and no changes in assumptions are made."
   ]
  },
  {
   "cell_type": "code",
   "execution_count": null,
   "metadata": {
    "collapsed": true
   },
   "outputs": [],
   "source": [
    "estcf = get_waterfalldata(\n",
    "            proj,\n",
    "            items=['PV_FutureCF',\n",
    "                   'EstPremIncome',\n",
    "                   'EstIntOnCF',\n",
    "                   'EstAcqCashflow',\n",
    "                   'EstClaim',\n",
    "                   'EstExps'],\n",
    "            length=3,\n",
    "            reverseitems=['EstPremIncome'])\n",
    "\n",
    "draw_waterfall(estcf, title='Expected Cashflows')"
   ]
  },
  {
   "cell_type": "markdown",
   "metadata": {},
   "source": [
    "## CSM amortization\n",
    "\n",
    "The CSM amortization chart below depicts items that increase/decrease CSM balance under the senario that actual cashflows are equal to expected. \n",
    "The chart below is explained in more details in another notebook."
   ]
  },
  {
   "cell_type": "code",
   "execution_count": null,
   "metadata": {
    "collapsed": true
   },
   "outputs": [],
   "source": [
    "csmrf = get_waterfalldata(\n",
    "            proj, \n",
    "            items=['CSM',\n",
    "                   'IntAccrCSM',\n",
    "                   'AdjCSM_FlufCF',\n",
    "                   'TransServices'],\n",
    "            length=3,\n",
    "            reverseitems=['TransServices'])\n",
    "\n",
    "draw_waterfall(csmrf, title='CSM Amortization')"
   ]
  },
  {
   "cell_type": "markdown",
   "metadata": {},
   "source": [
    "## Actual cashflows\n",
    "\n",
    "The code below generate a waterfall chart that simulate actual insurance cashflows that are assumed to be equal to the expected. The net cashflow of each period is withheld as accumulated cashflow and credited with interests at the same rate as the discount rate."
   ]
  },
  {
   "cell_type": "code",
   "execution_count": null,
   "metadata": {
    "collapsed": true
   },
   "outputs": [],
   "source": [
    "actcf = get_waterfalldata(\n",
    "            proj,\n",
    "            items=['PremIncome',\n",
    "                   'IntAccumCF',\n",
    "                   'ExpsAcqTotal',\n",
    "                   'BenefitTotal',\n",
    "                   'ExpsMaintTotal',\n",
    "                   'ActualNetCF'],\n",
    "            length=3,\n",
    "            reverseitems=['ExpsAcqTotal',\n",
    "                          'BenefitTotal',\n",
    "                          'ExpsMaintTotal'])\n",
    "    \n",
    "draw_waterfall(actcf, stocks=[0, 5], title='Actual Cashflows')"
   ]
  },
  {
   "cell_type": "markdown",
   "metadata": {},
   "source": [
    "## IFRS17 Financial performance\n",
    "\n",
    "The chart below simulates P&L accounts based on IFRS17 from the background data used to draw the charts above. The profit in each period is retained and accumulated as `NetBalance`"
   ]
  },
  {
   "cell_type": "code",
   "execution_count": null,
   "metadata": {
    "collapsed": true
   },
   "outputs": [],
   "source": [
    "ifrspl = get_waterfalldata(\n",
    "            proj,\n",
    "            items=['InsurRevenue',\n",
    "                   'InsurServiceExps',\n",
    "                   'InsurFinIncomeExps',\n",
    "                   'ProfitBefTax'],\n",
    "            length=5,\n",
    "            reverseitems=['InsurServiceExps'])\n",
    "\n",
    "draw_waterfall(ifrspl, stocks=[0, 3], title='IFRS17 Profit/Loss')"
   ]
  }
 ],
 "metadata": {
  "kernelspec": {
   "display_name": "Python 3",
   "language": "python",
   "name": "python3"
  },
  "language_info": {
   "codemirror_mode": {
    "name": "ipython",
    "version": 3
   },
   "file_extension": ".py",
   "mimetype": "text/x-python",
   "name": "python",
   "nbconvert_exporter": "python",
   "pygments_lexer": "ipython3",
   "version": "3.7.4"
  }
 },
 "nbformat": 4,
 "nbformat_minor": 2
}
