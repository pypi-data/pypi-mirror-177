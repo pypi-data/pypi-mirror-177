{
 "cells": [
  {
   "cell_type": "markdown",
   "metadata": {},
   "source": [
    "## Get an API token (optional)\n",
    "If you want to use the hosted machine learning models, please get an API token here: herschel.bio/token"
   ]
  },
  {
   "cell_type": "code",
   "execution_count": null,
   "metadata": {},
   "outputs": [],
   "source": []
  },
  {
   "cell_type": "markdown",
   "metadata": {},
   "source": [
    "## Get the structure of any protein"
   ]
  },
  {
   "cell_type": "code",
   "execution_count": 1,
   "metadata": {},
   "outputs": [
    {
     "ename": "ModuleNotFoundError",
     "evalue": "No module named 'proteyn'",
     "output_type": "error",
     "traceback": [
      "\u001b[0;31m---------------------------------------------------------------------------\u001b[0m",
      "\u001b[0;31mModuleNotFoundError\u001b[0m                       Traceback (most recent call last)",
      "Cell \u001b[0;32mIn [1], line 1\u001b[0m\n\u001b[0;32m----> 1\u001b[0m \u001b[39mfrom\u001b[39;00m \u001b[39mproteyn\u001b[39;00m \u001b[39mimport\u001b[39;00m Protein\n\u001b[1;32m      3\u001b[0m \u001b[39m# Case 1: structure fetched from Uniprot (free)\u001b[39;00m\n\u001b[1;32m      5\u001b[0m protein \u001b[39m=\u001b[39m Protein(uniprot\u001b[39m=\u001b[39m\u001b[39m\"\u001b[39m\u001b[39mP00533\u001b[39m\u001b[39m\"\u001b[39m)\n",
      "\u001b[0;31mModuleNotFoundError\u001b[0m: No module named 'proteyn'"
     ]
    }
   ],
   "source": [
    "from proteyn import Protein\n",
    "\n",
    "# Case 1: structure fetched from Uniprot (free)\n",
    "\n",
    "protein = Protein(uniprot=\"P00533\")\n",
    "protein.structure.show()\n",
    "\n",
    "# Case 2: structure prediction using AlphaFold2\n",
    "\n",
    "# Sets a new API token for your client\n",
    "!proteyn token set\n",
    "\n",
    "# Predicts the structure using our hosted AlphaFold2 server (0.1 EUR per fold)\n",
    "protein = Protein(seq=\"EIKKQLLQK\")\n",
    "protein.structure.show()"
   ]
  },
  {
   "cell_type": "code",
   "execution_count": null,
   "metadata": {},
   "outputs": [],
   "source": []
  }
 ],
 "metadata": {
  "kernelspec": {
   "display_name": "Python 3.10.2 64-bit ('proteyn')",
   "language": "python",
   "name": "python3"
  },
  "language_info": {
   "codemirror_mode": {
    "name": "ipython",
    "version": 3
   },
   "file_extension": ".py",
   "mimetype": "text/x-python",
   "name": "python",
   "nbconvert_exporter": "python",
   "pygments_lexer": "ipython3",
   "version": "3.10.2"
  },
  "orig_nbformat": 4,
  "vscode": {
   "interpreter": {
    "hash": "707d13c25c043f97272f13e6a545e2ca7bfe15de2d2819d308087190829cf495"
   }
  }
 },
 "nbformat": 4,
 "nbformat_minor": 2
}
