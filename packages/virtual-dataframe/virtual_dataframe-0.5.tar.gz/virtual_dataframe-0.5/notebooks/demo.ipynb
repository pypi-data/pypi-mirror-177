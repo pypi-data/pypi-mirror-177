{
 "cells": [
  {
   "cell_type": "code",
   "execution_count": null,
   "id": "7888c991",
   "metadata": {
    "tags": []
   },
   "outputs": [],
   "source": [
    "mode = \"pandas\"  # RESET THE KERNEL if you change this"
   ]
  },
  {
   "cell_type": "markdown",
   "id": "2fb6838c",
   "metadata": {},
   "source": [
    "# Initialisation"
   ]
  },
  {
   "cell_type": "code",
   "execution_count": null,
   "id": "41550b91",
   "metadata": {
    "tags": []
   },
   "outputs": [],
   "source": [
    "%reload_ext autoreload\n",
    "%autoreload 2\n",
    "import os\n",
    "# Select the mode in `pandas`, `cudf`, `dask` or `dask-cudf`.\n",
    "os.environ[\"VDF_MODE\"] = mode  # RESET THE KERNEL if you change this\n",
    "os.environ[\"DASK_SCHEDULER_SERVICE_HOST\"]=\"localhost\"\n",
    "\n",
    "#import cardif_dask as vdf  # Import Virtual Dataframe\n",
    "import virtual_dataframe as vdf\n",
    "import pandas as pd\n",
    "import numpy as np\n",
    "\n",
    "print(f\"Use {vdf.VDF_MODE.name.upper()}\")"
   ]
  },
  {
   "cell_type": "code",
   "execution_count": null,
   "id": "4bbadb46",
   "metadata": {
    "jupyter": {
     "outputs_hidden": false
    }
   },
   "outputs": [],
   "source": [
    "client = vdf.VClient()\n",
    "client"
   ]
  },
  {
   "cell_type": "markdown",
   "id": "bf2d1da8",
   "metadata": {},
   "source": [
    "# Object Creation"
   ]
  },
  {
   "cell_type": "markdown",
   "id": "3dc01406",
   "metadata": {},
   "source": [
    "Creating a `VSeries`"
   ]
  },
  {
   "cell_type": "code",
   "execution_count": null,
   "id": "debbe18d",
   "metadata": {
    "jupyter": {
     "outputs_hidden": false
    }
   },
   "outputs": [],
   "source": [
    "s = vdf.VSeries([1,2,3,None,4],npartitions=2)\n",
    "s.compute()"
   ]
  },
  {
   "cell_type": "markdown",
   "id": "594490e3",
   "metadata": {},
   "source": [
    "Creating a `VDataFrame` by specifying values for each column."
   ]
  },
  {
   "cell_type": "code",
   "execution_count": null,
   "id": "cf398670",
   "metadata": {
    "jupyter": {
     "outputs_hidden": false
    }
   },
   "outputs": [],
   "source": [
    "df = vdf.VDataFrame({'a': list(range(20)),\n",
    "                 'b': list(reversed(range(20))),\n",
    "                 'c': list(range(20))\n",
    "                }, npartitions=2)\n",
    "df.compute()"
   ]
  },
  {
   "cell_type": "markdown",
   "id": "2c0a81c4",
   "metadata": {},
   "source": [
    "Creating a `VDataFrame` from a pandas `Dataframe`.\n",
    "\n",
    "> Note that best practice for `VDataFrame` is to read data directly into a ̀`VDataFrame` with something like `read_csv()` (discussed below)."
   ]
  },
  {
   "cell_type": "code",
   "execution_count": null,
   "id": "554c2df3",
   "metadata": {
    "jupyter": {
     "outputs_hidden": false
    }
   },
   "outputs": [],
   "source": [
    "pdf = pd.DataFrame({'a': [0, 1, 2, 3],'b': [0.1, 0.2, 0.3, 0.4]})\n",
    "vdf.from_pandas(pdf, npartitions=2).compute()"
   ]
  },
  {
   "cell_type": "code",
   "execution_count": null,
   "id": "12ecfe48",
   "metadata": {
    "jupyter": {
     "outputs_hidden": false
    }
   },
   "outputs": [],
   "source": [
    "ps = pd.Series([1,2,3,None,4])\n",
    "vdf.from_pandas(ps, npartitions=2).compute()"
   ]
  },
  {
   "cell_type": "markdown",
   "id": "19f6c927",
   "metadata": {},
   "source": [
    "# Viewing Data"
   ]
  },
  {
   "cell_type": "markdown",
   "id": "7d4bdde5",
   "metadata": {},
   "source": [
    "Viewing the top rows of a `VDataFrame`."
   ]
  },
  {
   "cell_type": "code",
   "execution_count": null,
   "id": "eb7dd677",
   "metadata": {
    "jupyter": {
     "outputs_hidden": false
    }
   },
   "outputs": [],
   "source": [
    "df.head(2)"
   ]
  },
  {
   "cell_type": "code",
   "execution_count": null,
   "id": "d84df667",
   "metadata": {
    "jupyter": {
     "outputs_hidden": false
    }
   },
   "outputs": [],
   "source": [
    "df.sort_values(by='b').compute()"
   ]
  },
  {
   "cell_type": "markdown",
   "id": "dc96b691",
   "metadata": {},
   "source": [
    "# Selection"
   ]
  },
  {
   "cell_type": "markdown",
   "id": "99f2701c",
   "metadata": {},
   "source": [
    "## Getting\n",
    "Selecting a single column, which initially yields a `VSeries`."
   ]
  },
  {
   "cell_type": "code",
   "execution_count": null,
   "id": "1d64cacb",
   "metadata": {
    "jupyter": {
     "outputs_hidden": false
    }
   },
   "outputs": [],
   "source": [
    "df['a'].compute()"
   ]
  },
  {
   "cell_type": "markdown",
   "id": "c37a1926",
   "metadata": {},
   "source": [
    "## Selection by Label\n",
    "Selecting rows from index 2 to index 5 from columns ‘a’ and ‘b’."
   ]
  },
  {
   "cell_type": "code",
   "execution_count": null,
   "id": "79f481bf",
   "metadata": {
    "jupyter": {
     "outputs_hidden": false
    }
   },
   "outputs": [],
   "source": [
    "df.loc[2:5, ['a', 'b']]"
   ]
  },
  {
   "cell_type": "code",
   "execution_count": null,
   "id": "9b1e898d",
   "metadata": {
    "jupyter": {
     "outputs_hidden": false
    }
   },
   "outputs": [],
   "source": [
    "df.loc[2:5, ['a', 'b']].compute()"
   ]
  },
  {
   "cell_type": "markdown",
   "id": "d97bd0a0",
   "metadata": {},
   "source": [
    "## Selection by Position\n",
    "Selecting via integers and integer slices, like numpy/pandas.\n",
    "> Note that this functionality is not available for `dask-cudf`."
   ]
  },
  {
   "cell_type": "code",
   "execution_count": null,
   "id": "1bf2beb7",
   "metadata": {
    "jupyter": {
     "outputs_hidden": false
    }
   },
   "outputs": [],
   "source": [
    "df.iloc[:,0:len(df.columns)].compute()"
   ]
  },
  {
   "cell_type": "code",
   "execution_count": null,
   "id": "a91c5208",
   "metadata": {
    "jupyter": {
     "outputs_hidden": false
    }
   },
   "outputs": [],
   "source": [
    "s[3:5].compute()"
   ]
  },
  {
   "cell_type": "markdown",
   "id": "3340cf26",
   "metadata": {},
   "source": [
    "## Boolean Indexing\n",
    "Selecting rows in a `VDataFrame` or `VSeries` by direct `Boolean` indexing."
   ]
  },
  {
   "cell_type": "code",
   "execution_count": null,
   "id": "23ee24ce",
   "metadata": {
    "jupyter": {
     "outputs_hidden": false
    }
   },
   "outputs": [],
   "source": [
    "df[df.b > 15].compute()"
   ]
  },
  {
   "cell_type": "markdown",
   "id": "dd6c4680",
   "metadata": {},
   "source": [
    "Selecting values from a `DataFrame` where a `Boolean` condition is met, via the query API."
   ]
  },
  {
   "cell_type": "markdown",
   "id": "9a080d63",
   "metadata": {},
   "source": [
    "You can pass local variables to queries, via the `local_dict` keyword.\n",
    "Supported logical operators include >, <, >=, <=, ==, and !=."
   ]
  },
  {
   "cell_type": "code",
   "execution_count": null,
   "id": "be167c30",
   "metadata": {
    "jupyter": {
     "outputs_hidden": false
    }
   },
   "outputs": [],
   "source": [
    "value = 3\n",
    "df.query(\"b == @value\",local_dict={'value':value}).compute()"
   ]
  },
  {
   "cell_type": "code",
   "execution_count": null,
   "id": "e1828ae0",
   "metadata": {
    "jupyter": {
     "outputs_hidden": false
    }
   },
   "outputs": [],
   "source": [
    "value = 3\n",
    "df.query(\"b == @val\", local_dict={'val':value}).compute()"
   ]
  },
  {
   "cell_type": "markdown",
   "id": "1eb16258",
   "metadata": {},
   "source": [
    "Using the isin method for filtering."
   ]
  },
  {
   "cell_type": "code",
   "execution_count": null,
   "id": "291d7680",
   "metadata": {
    "jupyter": {
     "outputs_hidden": false
    }
   },
   "outputs": [],
   "source": [
    "df[df.a.isin([0, 5])].compute()"
   ]
  },
  {
   "cell_type": "markdown",
   "id": "fa1faa11",
   "metadata": {},
   "source": [
    "# Missing Data"
   ]
  },
  {
   "cell_type": "markdown",
   "id": "ea964a0a",
   "metadata": {},
   "source": [
    "Missing data can be replaced by using the fillna method."
   ]
  },
  {
   "cell_type": "code",
   "execution_count": null,
   "id": "b3655733",
   "metadata": {
    "jupyter": {
     "outputs_hidden": false
    }
   },
   "outputs": [],
   "source": [
    "s.fillna(999).compute()"
   ]
  },
  {
   "cell_type": "markdown",
   "id": "ff12332b",
   "metadata": {},
   "source": [
    "# Operations"
   ]
  },
  {
   "cell_type": "markdown",
   "id": "c0c050b8",
   "metadata": {},
   "source": [
    "## Stats\n",
    "Calculating descriptive statistics for a Series."
   ]
  },
  {
   "cell_type": "code",
   "execution_count": null,
   "id": "ea414571",
   "metadata": {
    "jupyter": {
     "outputs_hidden": false
    }
   },
   "outputs": [],
   "source": [
    "vdf.compute(s.mean())[0], vdf.compute(s.var())[0]"
   ]
  },
  {
   "cell_type": "markdown",
   "id": "fe3be6c4",
   "metadata": {},
   "source": [
    "## Apply"
   ]
  },
  {
   "cell_type": "markdown",
   "id": "886d083d",
   "metadata": {},
   "source": [
    "Applying functions to a Series.\n",
    "Note that applying user defined functions directly with Dask-cuDF is not yet implemented.\n",
    "For now, you can use map_partitions to apply a function to each partition of the distributed dataframe."
   ]
  },
  {
   "cell_type": "code",
   "execution_count": null,
   "id": "18dd2e50",
   "metadata": {
    "jupyter": {
     "outputs_hidden": false
    }
   },
   "outputs": [],
   "source": [
    "def add_ten(num:np.int64):\n",
    "    return num + 10\n",
    "\n",
    "df['a'].apply(add_ten).compute()"
   ]
  },
  {
   "cell_type": "code",
   "execution_count": null,
   "id": "5ab02a62-e75d-4686-817f-92b01399e7b2",
   "metadata": {},
   "outputs": [],
   "source": [
    "df.compute()"
   ]
  },
  {
   "cell_type": "code",
   "execution_count": null,
   "id": "1fc7c39f",
   "metadata": {
    "jupyter": {
     "outputs_hidden": false
    }
   },
   "outputs": [],
   "source": [
    "df['a'].map_partitions(add_ten).compute()"
   ]
  },
  {
   "cell_type": "code",
   "execution_count": null,
   "id": "8a7cfd8d-83c8-4a7c-948d-674d2a8aca78",
   "metadata": {},
   "outputs": [],
   "source": [
    "df.applymap(lambda x: x*2).compute()"
   ]
  },
  {
   "cell_type": "code",
   "execution_count": null,
   "id": "ec60e062",
   "metadata": {
    "jupyter": {
     "outputs_hidden": false
    }
   },
   "outputs": [],
   "source": [
    "def my_kernel(a_s, b_s, c_s, val, outs):\n",
    "    for i, (a, b, c) in enumerate(zip(a_s,b_s,c_s)):\n",
    "        outs[i] = (a + b + c ) * val\n",
    "\n",
    "df.apply_rows(\n",
    "    my_kernel,\n",
    "    incols={'a':'a_s','b':'b_s','c':'c_s'},\n",
    "    outcols={'outs': np.float64},\n",
    "    kwargs={\"val\":3.0}\n",
    ").compute()"
   ]
  },
  {
   "cell_type": "markdown",
   "id": "547eac17",
   "metadata": {},
   "source": [
    "## Histogramming"
   ]
  },
  {
   "cell_type": "markdown",
   "id": "bd143f16",
   "metadata": {},
   "source": [
    "Counting the number of occurrences of each unique value of variable."
   ]
  },
  {
   "cell_type": "code",
   "execution_count": null,
   "id": "b6b741d3",
   "metadata": {
    "jupyter": {
     "outputs_hidden": false
    }
   },
   "outputs": [],
   "source": [
    "df.a.value_counts().compute()"
   ]
  },
  {
   "cell_type": "markdown",
   "id": "c78a1c03",
   "metadata": {},
   "source": [
    "## String Methods"
   ]
  },
  {
   "cell_type": "markdown",
   "id": "93de9392",
   "metadata": {},
   "source": [
    "Virtual Dataframe provides string processing methods in the str attribute of Series."
   ]
  },
  {
   "cell_type": "code",
   "execution_count": null,
   "id": "71c21fd6",
   "metadata": {
    "jupyter": {
     "outputs_hidden": false
    }
   },
   "outputs": [],
   "source": [
    "s = vdf.VSeries(['A', 'B', 'C', 'Aaba', 'Baca', None, 'CABA', 'dog', 'cat'], npartitions=2)\n",
    "s.str.lower().compute()"
   ]
  },
  {
   "cell_type": "markdown",
   "id": "e523f0f4",
   "metadata": {},
   "source": [
    "# Concat"
   ]
  },
  {
   "cell_type": "markdown",
   "id": "169d65fb",
   "metadata": {},
   "source": [
    "Concatenating VSeries and VDataFrames row-wise."
   ]
  },
  {
   "cell_type": "code",
   "execution_count": null,
   "id": "3e23cc5e",
   "metadata": {
    "jupyter": {
     "outputs_hidden": false
    }
   },
   "outputs": [],
   "source": [
    "s = vdf.VSeries([1, 2, 3, None, 5],npartitions=2)\n",
    "vdf.concat([s, s]).compute()"
   ]
  },
  {
   "cell_type": "markdown",
   "id": "46ca5b96",
   "metadata": {},
   "source": [
    "# Join"
   ]
  },
  {
   "cell_type": "markdown",
   "id": "b0171ee7",
   "metadata": {},
   "source": [
    "Performing SQL style merges.\n",
    "Note that the dataframe order is not maintained, but may be restored post-merge by sorting by the index."
   ]
  },
  {
   "cell_type": "code",
   "execution_count": null,
   "id": "abeb364a",
   "metadata": {
    "jupyter": {
     "outputs_hidden": false
    }
   },
   "outputs": [],
   "source": [
    "df_a = vdf.VDataFrame({\"key\":['a', 'b', 'c', 'd', 'e'], \"vals_a\":[float(i + 10) for i in range(5)]})\n",
    "\n",
    "df_b = vdf.VDataFrame({\"key\":['a', 'c', 'e'],\"vals_b\":[float(i+100) for i in range(3)]})\n",
    "\n",
    "merged = df_a.merge(df_b, on=['key'], how='left')\n",
    "merged.compute()"
   ]
  },
  {
   "cell_type": "markdown",
   "id": "77693938",
   "metadata": {},
   "source": [
    "# Grouping"
   ]
  },
  {
   "cell_type": "markdown",
   "id": "8f880090",
   "metadata": {},
   "source": [
    "Virtual Dataframe support the Split-Apply-Combine groupby paradigm."
   ]
  },
  {
   "cell_type": "code",
   "execution_count": null,
   "id": "c4dff02d",
   "metadata": {
    "jupyter": {
     "outputs_hidden": false
    }
   },
   "outputs": [],
   "source": [
    "df = vdf.VDataFrame({'a': list(range(20)),\n",
    "                     'b': list(reversed(range(20))),\n",
    "                     'c': list(range(20))\n",
    "                    })\n",
    "\n",
    "df['agg_col1'] = pd.Series([1 if x % 2 == 0 else 0 for x in range(len(df))])\n",
    "df['agg_col2'] = pd.Series([1 if x % 3 == 0 else 0 for x in range(len(df))])"
   ]
  },
  {
   "cell_type": "code",
   "execution_count": null,
   "id": "1c5e7bb5",
   "metadata": {
    "jupyter": {
     "outputs_hidden": false
    }
   },
   "outputs": [],
   "source": [
    "ddf = vdf.from_backend(df.compute(), npartitions=2)\n",
    "ddf.compute()"
   ]
  },
  {
   "cell_type": "markdown",
   "id": "b93f8e3d",
   "metadata": {},
   "source": [
    "Grouping and then applying the sum function to the grouped data."
   ]
  },
  {
   "cell_type": "code",
   "execution_count": null,
   "id": "66d67707",
   "metadata": {
    "jupyter": {
     "outputs_hidden": false
    }
   },
   "outputs": [],
   "source": [
    "df.groupby('agg_col1').sum().compute()"
   ]
  },
  {
   "cell_type": "markdown",
   "id": "3e31a47f",
   "metadata": {},
   "source": [
    "Grouping hierarchically then applying the sum function to grouped data."
   ]
  },
  {
   "cell_type": "code",
   "execution_count": null,
   "id": "52022665",
   "metadata": {
    "jupyter": {
     "outputs_hidden": false
    }
   },
   "outputs": [],
   "source": [
    "df.groupby(['agg_col1', 'agg_col2']).sum().compute()"
   ]
  },
  {
   "cell_type": "markdown",
   "id": "92a61f25",
   "metadata": {},
   "source": [
    "Grouping and applying statistical functions to specific columns, using agg."
   ]
  },
  {
   "cell_type": "code",
   "execution_count": null,
   "id": "4e32aa44",
   "metadata": {
    "jupyter": {
     "outputs_hidden": false
    }
   },
   "outputs": [],
   "source": [
    "df.groupby('agg_col1').agg({'a':'max', 'b':'mean', 'c':'sum'}).compute()"
   ]
  },
  {
   "cell_type": "markdown",
   "id": "f62c590b",
   "metadata": {},
   "source": [
    "# Categoricals"
   ]
  },
  {
   "cell_type": "markdown",
   "id": "e8b27421",
   "metadata": {},
   "source": [
    "`VDataFrames` support categorical columns."
   ]
  },
  {
   "cell_type": "code",
   "execution_count": null,
   "id": "cdb1c05b",
   "metadata": {
    "jupyter": {
     "outputs_hidden": false
    }
   },
   "outputs": [],
   "source": [
    "import virtual_dataframe as vdf\n",
    "# String Arrays is not yet implemented in dask_cudf\n",
    "#gdf = vdf.VDataFrame({\"id\": [1, 2, 3, 4, 5, 6], \"grade\":['a', 'b', 'b', 'a', 'a', 'e']}, npartitions=2)\n",
    "gdf = vdf.VDataFrame({\"id\": [1, 2, 3, 4, 5, 6], \"grade\":[101, 102, 103, 104, 105, 106]}, npartitions=2)\n",
    "gdf['grade'] = gdf['grade'].astype('category')\n",
    "if vdf.VDF_MODE in (vdf.Mode.dask,vdf.Mode.dask_cudf):\n",
    "    gdf['grade'] = gdf.grade.cat.as_known()\n",
    "gdf.dtypes"
   ]
  },
  {
   "cell_type": "markdown",
   "id": "dfe56258",
   "metadata": {},
   "source": [
    "Accessing the categories of a column.\n",
    "\n",
    "> Note that this is currently not supported in `dask-cudf`."
   ]
  },
  {
   "cell_type": "markdown",
   "id": "0c457f46",
   "metadata": {},
   "source": [
    "Accessing the underlying code values of each categorical observation."
   ]
  },
  {
   "cell_type": "code",
   "execution_count": null,
   "id": "620b9604",
   "metadata": {
    "jupyter": {
     "outputs_hidden": false
    }
   },
   "outputs": [],
   "source": [
    "gdf.categorize().compute()"
   ]
  },
  {
   "cell_type": "code",
   "execution_count": null,
   "id": "4adfe58a",
   "metadata": {
    "jupyter": {
     "outputs_hidden": false
    }
   },
   "outputs": [],
   "source": [
    "gdf.grade.cat.codes.compute()"
   ]
  },
  {
   "cell_type": "markdown",
   "id": "bedf0e9e",
   "metadata": {},
   "source": [
    "# Converting Data Representation"
   ]
  },
  {
   "cell_type": "markdown",
   "id": "d47843b3",
   "metadata": {},
   "source": [
    "## Pandas\n",
    "Converting a `VDataFrame` to a pandas DataFrame."
   ]
  },
  {
   "cell_type": "code",
   "execution_count": null,
   "id": "9be55f46",
   "metadata": {
    "jupyter": {
     "outputs_hidden": false
    }
   },
   "outputs": [],
   "source": [
    "df.head().to_pandas()"
   ]
  },
  {
   "cell_type": "markdown",
   "id": "f61f4d52",
   "metadata": {},
   "source": [
    "## Numpy\n",
    "Converting a `VDataFrame` to a numpy ndarray."
   ]
  },
  {
   "cell_type": "code",
   "execution_count": null,
   "id": "e80fe5d6",
   "metadata": {
    "jupyter": {
     "outputs_hidden": false
    }
   },
   "outputs": [],
   "source": [
    "df.to_numpy()"
   ]
  },
  {
   "cell_type": "markdown",
   "id": "0937c13a",
   "metadata": {},
   "source": [
    "Converting a `VSeries` to a numpy ndarray."
   ]
  },
  {
   "cell_type": "code",
   "execution_count": null,
   "id": "98d2cc22",
   "metadata": {
    "jupyter": {
     "outputs_hidden": false
    }
   },
   "outputs": [],
   "source": [
    "df['a'].to_numpy()"
   ]
  },
  {
   "cell_type": "markdown",
   "id": "9d527597",
   "metadata": {},
   "source": [
    "# Delayed"
   ]
  },
  {
   "cell_type": "code",
   "execution_count": null,
   "id": "7071e17d",
   "metadata": {
    "jupyter": {
     "outputs_hidden": false
    }
   },
   "outputs": [],
   "source": [
    "TestDF = vdf.VDataFrame\n",
    "\n",
    "@vdf.delayed\n",
    "def add_one(data: TestDF) -> TestDF:\n",
    "    return data + 1\n",
    "\n",
    "\n",
    "add_one(df).compute()"
   ]
  },
  {
   "cell_type": "markdown",
   "id": "0bb6a61e",
   "metadata": {},
   "source": [
    "# Getting Data In/Out"
   ]
  },
  {
   "cell_type": "markdown",
   "id": "67b04a40",
   "metadata": {},
   "source": [
    "## CSV\n",
    "Writing to a CSV file."
   ]
  },
  {
   "cell_type": "code",
   "execution_count": null,
   "id": "946c0331",
   "metadata": {
    "jupyter": {
     "outputs_hidden": false
    }
   },
   "outputs": [],
   "source": [
    "import shutil\n",
    "if os.path.exists('example_output'):\n",
    "    shutil.rmtree('example_output')\n",
    "os.mkdir('example_output')\n",
    "#df.to_csv('example_output/foo.csv', single_file=True)\n",
    "df.to_csv('example_output/foo*.csv')"
   ]
  },
  {
   "cell_type": "code",
   "execution_count": null,
   "id": "bd49dd4a",
   "metadata": {
    "jupyter": {
     "outputs_hidden": false
    }
   },
   "outputs": [],
   "source": [
    "!ls example_output"
   ]
  },
  {
   "cell_type": "markdown",
   "id": "ada14fdc",
   "metadata": {},
   "source": [
    "Reading from a csv file."
   ]
  },
  {
   "cell_type": "code",
   "execution_count": null,
   "id": "a6d97454",
   "metadata": {
    "jupyter": {
     "outputs_hidden": false
    }
   },
   "outputs": [],
   "source": [
    "df = vdf.read_csv('example_output/foo*.csv')\n",
    "df.compute()"
   ]
  },
  {
   "cell_type": "markdown",
   "id": "1699557c",
   "metadata": {},
   "source": [
    "Reading all CSV files in a directory into a single dask_cudf.DataFrame, using the star wildcard.\n",
    "> Not implemented in pandas or cudf ?"
   ]
  },
  {
   "cell_type": "markdown",
   "id": "50df7286",
   "metadata": {},
   "source": [
    "## Parquet\n",
    "Writing to parquet files, using the CPU via PyArrow."
   ]
  },
  {
   "cell_type": "code",
   "execution_count": null,
   "id": "7dfcac33",
   "metadata": {
    "jupyter": {
     "outputs_hidden": false
    }
   },
   "outputs": [],
   "source": [
    "df.to_parquet('example_output/temp_parquet')\n"
   ]
  },
  {
   "cell_type": "code",
   "execution_count": null,
   "id": "8413a557-9570-4e70-ac55-b998acf3a592",
   "metadata": {},
   "outputs": [],
   "source": []
  }
 ],
 "metadata": {
  "kernelspec": {
   "display_name": "virtual_dataframe",
   "language": "python",
   "name": "virtual_dataframe"
  },
  "language_info": {
   "codemirror_mode": {
    "name": "ipython",
    "version": 3
   },
   "file_extension": ".py",
   "mimetype": "text/x-python",
   "name": "python",
   "nbconvert_exporter": "python",
   "pygments_lexer": "ipython3",
   "version": "3.8.0"
  }
 },
 "nbformat": 4,
 "nbformat_minor": 5
}
