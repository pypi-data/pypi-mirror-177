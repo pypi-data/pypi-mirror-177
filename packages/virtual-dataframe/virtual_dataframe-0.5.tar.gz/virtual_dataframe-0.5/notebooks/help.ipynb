{
 "cells": [
  {
   "cell_type": "code",
   "execution_count": null,
   "id": "5732a160-1a04-4a52-bc5f-0a259a372081",
   "metadata": {
    "pycharm": {
     "is_executing": true,
     "name": "#%%\n"
    },
    "tags": [
     "parameters"
    ]
   },
   "outputs": [],
   "source": [
    "mode = \"dask\"  # RESET THE KERNEL if you change this"
   ]
  },
  {
   "cell_type": "code",
   "execution_count": null,
   "id": "f56ce91c-d8c7-4ffd-9f17-338249245a7f",
   "metadata": {
    "pycharm": {
     "name": "#%%\n"
    }
   },
   "outputs": [],
   "source": [
    "#%reload_ext autoreload\n",
    "#%autoreload 2\n",
    "import os\n",
    "# Select the mode in `pandas`, `cudf`, `dask` or `dask-cudf`.\n",
    "os.environ[\"VDF_MODE\"] = mode  # RESET THE KERNEL if you change this\n",
    "\n",
    "#import cardif_dask as vdf  # Import Virtual Dataframe\n",
    "import virtual_dataframe as vdf\n",
    "import pandas as pd\n",
    "import numpy as np\n",
    "\n",
    "print(f\"Use {vdf.VDF_MODE.name.upper()}\")"
   ]
  },
  {
   "cell_type": "code",
   "execution_count": null,
   "id": "1c943f53-8eaa-4fc5-9b93-84ac7f95224f",
   "metadata": {
    "pycharm": {
     "name": "#%%\n"
    }
   },
   "outputs": [],
   "source": [
    "s = vdf.VSeries([1,2,3,None,4],npartitions=2)\n",
    "df = vdf.VDataFrame({'a': list(range(20)),\n",
    "                 'b': list(reversed(range(20))),\n",
    "                 'c': list(range(20))\n",
    "                }, npartitions=2)\n"
   ]
  },
  {
   "cell_type": "code",
   "execution_count": null,
   "id": "fc9b2d3c-581a-4097-87af-fabd89a74537",
   "metadata": {
    "pycharm": {
     "name": "#%%\n"
    }
   },
   "outputs": [],
   "source": [
    "help(vdf.delayed)"
   ]
  },
  {
   "cell_type": "code",
   "execution_count": null,
   "id": "3eb2f0f2-4c12-483a-ac46-3c9814670d5f",
   "metadata": {
    "pycharm": {
     "name": "#%%\n"
    }
   },
   "outputs": [],
   "source": [
    "help(vdf.concat)"
   ]
  },
  {
   "cell_type": "code",
   "execution_count": null,
   "id": "501a1514-cd0c-475a-a959-a6a46cd16c7e",
   "metadata": {
    "pycharm": {
     "name": "#%%\n"
    }
   },
   "outputs": [],
   "source": [
    "help(vdf.read_csv)"
   ]
  },
  {
   "cell_type": "code",
   "execution_count": null,
   "id": "9e586cf3-7557-4652-ad36-c7e958454f41",
   "metadata": {
    "pycharm": {
     "name": "#%%\n"
    }
   },
   "outputs": [],
   "source": [
    "help(vdf.from_pandas)"
   ]
  },
  {
   "cell_type": "code",
   "execution_count": null,
   "id": "227006d5-078b-4596-a2c0-89b4448fca4b",
   "metadata": {
    "pycharm": {
     "name": "#%%\n"
    }
   },
   "outputs": [],
   "source": [
    "help(vdf.from_virtual)"
   ]
  },
  {
   "cell_type": "code",
   "execution_count": null,
   "id": "8ae34cd9-4375-4bf2-9353-b346e097e257",
   "metadata": {
    "pycharm": {
     "name": "#%%\n"
    }
   },
   "outputs": [],
   "source": [
    "help(vdf.compute)"
   ]
  },
  {
   "cell_type": "markdown",
   "id": "04b8138c-fc10-48a6-b251-05cd036c2e9c",
   "metadata": {
    "pycharm": {
     "name": "#%% md\n"
    }
   },
   "source": [
    "## Classes"
   ]
  },
  {
   "cell_type": "code",
   "execution_count": null,
   "id": "8bdb78b8-6404-4622-ab48-8013bba9aade",
   "metadata": {
    "pycharm": {
     "name": "#%%\n"
    }
   },
   "outputs": [],
   "source": [
    "help(vdf.VDataFrame)"
   ]
  },
  {
   "cell_type": "code",
   "execution_count": null,
   "id": "dc7b7fb9-350f-4824-8f49-cf34c48bcdc1",
   "metadata": {
    "pycharm": {
     "name": "#%%\n"
    },
    "tags": []
   },
   "outputs": [],
   "source": [
    "help(vdf.VSeries)"
   ]
  },
  {
   "cell_type": "markdown",
   "id": "f0a49bcb-1782-4023-a392-0a1951adc910",
   "metadata": {
    "pycharm": {
     "name": "#%% md\n"
    }
   },
   "source": [
    "## DataFrame"
   ]
  },
  {
   "cell_type": "code",
   "execution_count": null,
   "id": "17836894-078e-4cdf-b036-fda430be0c6d",
   "metadata": {
    "pycharm": {
     "name": "#%%\n"
    }
   },
   "outputs": [],
   "source": [
    "help(df.compute)"
   ]
  },
  {
   "cell_type": "code",
   "execution_count": null,
   "id": "b6ef23f9-71f3-4816-b9db-91c7d5280414",
   "metadata": {
    "pycharm": {
     "name": "#%%\n"
    }
   },
   "outputs": [],
   "source": [
    "help(df.to_pandas)"
   ]
  },
  {
   "cell_type": "code",
   "execution_count": null,
   "id": "52d34f92-5351-4b9f-b32c-da004eb7fdb5",
   "metadata": {
    "pycharm": {
     "name": "#%%\n"
    }
   },
   "outputs": [],
   "source": [
    "help(df.to_csv)"
   ]
  },
  {
   "cell_type": "code",
   "execution_count": null,
   "id": "4e388275-0bc1-43d1-9e74-c7ebdac411b3",
   "metadata": {
    "pycharm": {
     "name": "#%%\n"
    }
   },
   "outputs": [],
   "source": [
    "help(df.to_numpy)"
   ]
  },
  {
   "cell_type": "code",
   "execution_count": null,
   "id": "1cd395ad-8192-489a-810f-d5504705445b",
   "metadata": {
    "pycharm": {
     "name": "#%%\n"
    }
   },
   "outputs": [],
   "source": [
    "help(df.categorize)"
   ]
  },
  {
   "cell_type": "code",
   "execution_count": null,
   "id": "ea259668-d4cb-4762-89bd-3597e81dcb85",
   "metadata": {},
   "outputs": [],
   "source": [
    "help(df.apply_rows)"
   ]
  },
  {
   "cell_type": "markdown",
   "id": "ae63b78c-d991-4c10-bf56-622394f6305e",
   "metadata": {
    "pycharm": {
     "name": "#%% md\n"
    }
   },
   "source": [
    "## Series"
   ]
  },
  {
   "cell_type": "code",
   "execution_count": null,
   "id": "56c538be-48f4-4b9b-a61f-f1bad35d6716",
   "metadata": {
    "pycharm": {
     "name": "#%%\n"
    }
   },
   "outputs": [],
   "source": [
    "help(s.compute)"
   ]
  },
  {
   "cell_type": "code",
   "execution_count": null,
   "id": "765ba403-0c1e-453c-9c4b-a3474b179c4f",
   "metadata": {
    "pycharm": {
     "name": "#%%\n"
    }
   },
   "outputs": [],
   "source": [
    "help(s.to_pandas)"
   ]
  },
  {
   "cell_type": "code",
   "execution_count": null,
   "id": "4e173673-33da-4d4c-bd81-771e06414eca",
   "metadata": {
    "pycharm": {
     "name": "#%%\n"
    }
   },
   "outputs": [],
   "source": [
    "help(s.to_numpy)"
   ]
  },
  {
   "cell_type": "code",
   "execution_count": null,
   "id": "46c5e647-3c15-4920-8b7b-1f96944acf08",
   "metadata": {
    "pycharm": {
     "name": "#%%\n"
    }
   },
   "outputs": [],
   "source": []
  }
 ],
 "metadata": {
  "kernelspec": {
   "display_name": "Python 3 (ipykernel)",
   "language": "python",
   "name": "python3"
  },
  "language_info": {
   "codemirror_mode": {
    "name": "ipython",
    "version": 3
   },
   "file_extension": ".py",
   "mimetype": "text/x-python",
   "name": "python",
   "nbconvert_exporter": "python",
   "pygments_lexer": "ipython3",
   "version": "3.9.13"
  }
 },
 "nbformat": 4,
 "nbformat_minor": 5
}
