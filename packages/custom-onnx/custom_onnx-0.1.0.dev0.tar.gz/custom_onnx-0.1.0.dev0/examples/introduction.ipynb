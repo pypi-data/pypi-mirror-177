{
 "cells": [
  {
   "cell_type": "markdown",
   "metadata": {},
   "source": [
    "# Introduction"
   ]
  },
  {
   "cell_type": "code",
   "execution_count": 20,
   "metadata": {},
   "outputs": [],
   "source": [
    "import custom_onnx\n",
    "import numpy as np\n",
    "from jupyter_ui_poll import ui_events\n",
    "import time"
   ]
  },
  {
   "cell_type": "code",
   "execution_count": 21,
   "metadata": {},
   "outputs": [],
   "source": [
    "from PIL import Image as PILImage\n",
    "from io import BytesIO\n",
    "f = BytesIO()\n",
    "filetype = \"PNG\"\n",
    "PILImage.open(\"cat.jpg\").save(f, filetype)\n",
    "data=f.getvalue()"
   ]
  },
  {
   "cell_type": "code",
   "execution_count": 52,
   "metadata": {},
   "outputs": [],
   "source": [
    "\n",
    "def load_process(f,size=(320,320)):\n",
    "    im_pil=PILImage.open(f).resize(size,PILImage.Resampling.NEAREST)\n",
    "    im_np=np.array(im_pil)\n",
    "    im=im_np.astype(np.float32)\n",
    "    print(im.shape)\n",
    "    im=np.expand_dims(np.transpose(im, (2,0,1)),axis=0)/255\n",
    "    return im"
   ]
  },
  {
   "cell_type": "code",
   "execution_count": 34,
   "metadata": {},
   "outputs": [
    {
     "name": "stdout",
     "output_type": "stream",
     "text": [
      "init widget\n"
     ]
    },
    {
     "data": {
      "application/vnd.jupyter.widget-view+json": {
       "model_id": "38f34560a3884be2be7658537223293c",
       "version_major": 2,
       "version_minor": 0
      },
      "text/plain": [
       "ExampleWidget(model_path='./u2netp.onnx')"
      ]
     },
     "execution_count": 34,
     "metadata": {},
     "output_type": "execute_result"
    }
   ],
   "source": [
    "w = custom_onnx.ExampleWidget(model_path=\"./u2netp.onnx\")\n",
    "#w.value=\"model.onnx\"\n",
    "#w.image_data=bytes(im)\n",
    "w"
   ]
  },
  {
   "cell_type": "code",
   "execution_count": 48,
   "metadata": {},
   "outputs": [],
   "source": [
    "class onnxInference():\n",
    "    def __init__(self, model_path):\n",
    "        self.onnx_widget=custom_onnx.ExampleWidget(model_path=model_path)\n",
    "        with ui_events() as poll:\n",
    "\n",
    "            while  self.onnx_widget.initialized is False:\n",
    "                poll(10)          # React to UI events (upto 10 at a time)\n",
    "                print('.', end='')\n",
    "                time.sleep(0.1)\n",
    "            print(\"init done\") \n",
    "    def run(self,image):\n",
    "        self.onnx_widget.array=image\n",
    "        with ui_events() as poll:\n",
    "\n",
    "            while  self.onnx_widget.done is False:\n",
    "                poll(10)          # React to UI events (upto 10 at a time)\n",
    "                print('.', end='')\n",
    "                time.sleep(0.1)\n",
    "                \n",
    "        self.onnx_widget.done=False\n",
    "        return  self.onnx_widget.array_out\n",
    "\n"
   ]
  },
  {
   "cell_type": "code",
   "execution_count": 53,
   "metadata": {},
   "outputs": [
    {
     "name": "stdout",
     "output_type": "stream",
     "text": [
      "init widget\n",
      "....init done\n",
      "(1, 3, 320, 320)\n",
      "(320, 320, 3)\n",
      "..............................."
     ]
    },
    {
     "data": {
      "image/png": "[encoded data removed]",
      "text/plain": [
       "<PIL.Image.Image image mode=L size=320x320>"
      ]
     },
     "metadata": {},
     "output_type": "display_data"
    },
    {
     "name": "stdout",
     "output_type": "stream",
     "text": [
      "(320, 320, 3)\n",
      ".............................."
     ]
    },
    {
     "data": {
      "image/png": "[encoded data removed]",
      "text/plain": [
       "<PIL.Image.Image image mode=L size=320x320>"
      ]
     },
     "metadata": {},
     "output_type": "display_data"
    }
   ],
   "source": [
    "onnx_inf=onnxInference(\"./u2netp.onnx\")\n",
    "\n",
    "print(im.shape)\n",
    "im=load_process('cat.jpg')\n",
    "im_out=onnx_inf.run(im)\n",
    "display(PILImage.fromarray((im_out.squeeze()*255).astype(np.uint8)))\n",
    "im=load_process('cat_2.jpg')\n",
    "im_out=onnx_inf.run(im)\n",
    "display(PILImage.fromarray((im_out.squeeze()*255).astype(np.uint8)))\n"
   ]
  },
  {
   "cell_type": "code",
   "execution_count": null,
   "metadata": {},
   "outputs": [],
   "source": []
  }
 ],
 "metadata": {
  "hide_input": false,
  "kernelspec": {
   "display_name": "custom_widget",
   "language": "python",
   "name": "custom_widget"
  },
  "language_info": {
   "codemirror_mode": {
    "name": "ipython",
    "version": 3
   },
   "file_extension": ".py",
   "mimetype": "text/x-python",
   "name": "python",
   "nbconvert_exporter": "python",
   "pygments_lexer": "ipython3",
   "version": "3.10.6"
  },
  "toc": {
   "base_numbering": 1,
   "nav_menu": {},
   "number_sections": true,
   "sideBar": true,
   "skip_h1_title": false,
   "title_cell": "Table of Contents",
   "title_sidebar": "Contents",
   "toc_cell": false,
   "toc_position": {},
   "toc_section_display": true,
   "toc_window_display": false
  },
  "varInspector": {
   "cols": {
    "lenName": 16,
    "lenType": 16,
    "lenVar": 40
   },
   "kernels_config": {
    "python": {
     "delete_cmd_postfix": "",
     "delete_cmd_prefix": "del ",
     "library": "var_list.py",
     "varRefreshCmd": "print(var_dic_list())"
    },
    "r": {
     "delete_cmd_postfix": ") ",
     "delete_cmd_prefix": "rm(",
     "library": "var_list.r",
     "varRefreshCmd": "cat(var_dic_list()) "
    }
   },
   "types_to_exclude": [
    "module",
    "function",
    "builtin_function_or_method",
    "instance",
    "_Feature"
   ],
   "window_display": false
  }
 },
 "nbformat": 4,
 "nbformat_minor": 2
}
