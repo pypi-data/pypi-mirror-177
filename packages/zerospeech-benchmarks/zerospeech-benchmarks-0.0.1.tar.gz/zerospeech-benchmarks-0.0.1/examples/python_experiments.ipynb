{
 "cells": [
  {
   "cell_type": "code",
   "execution_count": null,
   "metadata": {},
   "outputs": [],
   "source": [
    "\"\"\" Test implementation of functions with internal state \"\"\"\n",
    "import random\n",
    "from typing import List\n",
    "\n",
    "\n",
    "def length_comparison(dim: int):\n",
    "    data = dict(ncols=[], col_len=1)\n",
    "\n",
    "    def comparison(array: List[str]):\n",
    "        data['ncols'].append(len(array))\n",
    "        res = []\n",
    "\n",
    "        if len(set(data['ncols'])) != 1:\n",
    "            print(f\"found error {len(set(data['ncols']))}\")\n",
    "            res = ['error']\n",
    "        return res\n",
    "\n",
    "    return comparison\n",
    "\n",
    "\n",
    "test_1 = [[random.randint(1, 30) for _ in range(100)] for _ in range(50)]\n",
    "test_2 = [[random.randint(1, 30) for _ in range(100)] for _ in range(50)]\n",
    "\n",
    "# add two at random\n",
    "test_2[29].append(random.randint(1, 30))\n",
    "test_2[19].append(random.randint(1, 30))\n",
    "\n",
    "comp1 = length_comparison(2)\n",
    "comp2 = length_comparison(2)\n",
    "\n",
    "results1 = []\n",
    "results2 = []\n",
    "for i1, i2 in zip(test_1, test_2):\n",
    "    results1.extend(comp1(i1))\n",
    "    results2.extend(comp2(i2))\n",
    "\n",
    "print(results1)\n",
    "print(results2)"
   ]
  }
 ],
 "metadata": {
  "kernelspec": {
   "display_name": "Python 3.9.7 64-bit ('zr-bench')",
   "language": "python",
   "name": "python3"
  },
  "language_info": {
   "name": "python",
   "version": "3.9.7"
  },
  "orig_nbformat": 4,
  "vscode": {
   "interpreter": {
    "hash": "72a25092850d8f571cb4f89e2772479ff58c03610d5eb16cabfc5bf365d70b3c"
   }
  }
 },
 "nbformat": 4,
 "nbformat_minor": 2
}
