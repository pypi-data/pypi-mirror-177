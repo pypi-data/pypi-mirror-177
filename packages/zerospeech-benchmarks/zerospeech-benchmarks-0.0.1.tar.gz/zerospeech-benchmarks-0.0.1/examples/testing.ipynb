{
 "cells": [
  {
   "cell_type": "code",
   "execution_count": 3,
   "metadata": {
    "collapsed": false,
    "pycharm": {
     "name": "#%%\n"
    }
   },
   "outputs": [
    {
     "name": "stdout",
     "output_type": "stream",
     "text": [
      "env: APP_DIR=/data/zerospeech/zrbench\n"
     ]
    }
   ],
   "source": [
    "\"\"\" Testing sLM21 submission loading \"\"\"\n",
    "%env APP_DIR=/data/zerospeech/zrbench\n",
    "from zerospeech.benchmarks.sLM_21 import SLM21Submission\n",
    "\n",
    "submission1 = SLM21Submission.load(Path('/data/zerospeech/zrbench/samples/sLM21-random-submission'))"
   ]
  },
  {
   "cell_type": "code",
   "execution_count": 1,
   "metadata": {
    "collapsed": false,
    "pycharm": {
     "name": "#%%\n"
    }
   },
   "outputs": [
    {
     "name": "stdout",
     "output_type": "stream",
     "text": [
      "env: APP_DIR=/data/zerospeech/zrbench\n"
     ]
    }
   ],
   "source": [
    "\"\"\" Testing abx-LS submission loading \"\"\"\n",
    "%env APP_DIR=/data/zerospeech/zrbench\n",
    "from pathlib import Path\n",
    "\n",
    "from zerospeech.benchmarks.abx_LS import AbxLSSubmission\n",
    "\n",
    "submission2 = AbxLSSubmission.load(Path('/data/zerospeech/zrbench/samples/abxLS-random-submission/'))"
   ]
  },
  {
   "cell_type": "code",
   "execution_count": 31,
   "metadata": {
    "collapsed": false,
    "pycharm": {
     "name": "#%%\n"
    }
   },
   "outputs": [],
   "source": [
    "from zerospeech.data_loaders import zip_zippable\n",
    "\n",
    "zip_zippable(submission1, \"test_archive.zip\")"
   ]
  },
  {
   "cell_type": "code",
   "execution_count": 2,
   "metadata": {
    "collapsed": false,
    "pycharm": {
     "name": "#%%\n"
    }
   },
   "outputs": [
    {
     "data": {
      "application/vnd.jupyter.widget-view+json": {
       "model_id": "89a0feea19ca4d92800f6a9f7343386f",
       "version_major": 2,
       "version_minor": 0
      },
      "text/plain": [
       "Output()"
      ]
     },
     "metadata": {},
     "output_type": "display_data"
    },
    {
     "name": "stdout",
     "output_type": "stream",
     "text": [
      "env: APP_DIR=/data/zerospeech/zrbench\n"
     ]
    },
    {
     "data": {
      "text/html": [
       "<pre style=\"white-space:pre;overflow-x:auto;line-height:normal;font-family:Menlo,'DejaVu Sans Mono',consolas,'Courier New',monospace\"></pre>\n"
      ],
      "text/plain": []
     },
     "metadata": {},
     "output_type": "display_data"
    },
    {
     "name": "stdout",
     "output_type": "stream",
     "text": [
      "Leaderboard generated successfully\n"
     ]
    }
   ],
   "source": [
    "\"\"\" Testing loading of scores dir of an sLM21 submission and exporting into leaderboard \"\"\"\n",
    "%env APP_DIR=/data/zerospeech/zrbench\n",
    "from zerospeech.benchmarks import sLM_21\n",
    "from zerospeech.model import m_meta_file\n",
    "from pathlib import Path\n",
    "import pandas as pd\n",
    "from rich.console import Console\n",
    "from rich import pretty\n",
    "pretty.install()\n",
    "\n",
    "con = Console()\n",
    "\n",
    "meta_file = Path('/data/zerospeech/zrbench/samples/sLM21-random-submission/meta.yaml')\n",
    "\n",
    "scores = sLM_21.SLM21ScoreDir(\n",
    "    location=Path('sLM-scores'),\n",
    "    meta_file=m_meta_file.MetaFile.from_file(meta_file)\n",
    ")\n",
    "\n",
    "with con.status(\"Building leaderboard...\", spinner=\"aesthetic\"):\n",
    "    led = scores.build_leaderboard()\n",
    "\n",
    "with (scores.location / 'leaderboard.json').open('w') as fp:\n",
    "    fp.write(led.json(indent=4))\n",
    "\n",
    "print(\"Leaderboard generated successfully\")\n",
    "# d = dict(led._iter(to_dict=True))"
   ]
  },
  {
   "cell_type": "code",
   "execution_count": 3,
   "metadata": {
    "collapsed": false,
    "pycharm": {
     "name": "#%%\n"
    }
   },
   "outputs": [
    {
     "name": "stdout",
     "output_type": "stream",
     "text": [
      "env: APP_DIR=/data/zerospeech/zrbench\n"
     ]
    },
    {
     "data": {
      "text/html": [
       "<pre style=\"white-space:pre;overflow-x:auto;line-height:normal;font-family:Menlo,'DejaVu Sans Mono',consolas,'Courier New',monospace\"></pre>\n"
      ],
      "text/plain": []
     },
     "metadata": {},
     "output_type": "display_data"
    },
    {
     "name": "stdout",
     "output_type": "stream",
     "text": [
      "Leaderboard generated successfully\n"
     ]
    }
   ],
   "source": [
    "\"\"\" Testing loading of scores dir of an ABX-LS submission and exporting into leaderboard \"\"\"\n",
    "%env APP_DIR=/data/zerospeech/zrbench\n",
    "from zerospeech.benchmarks import abx_LS\n",
    "from pathlib import Path\n",
    "import pandas as pd\n",
    "from rich.console import Console\n",
    "from rich import pretty\n",
    "pretty.install()\n",
    "\n",
    "\n",
    "con = Console()\n",
    "\n",
    "scores = abx_LS.ABXLSScoreDir(\n",
    "    location=Path(\"abxLS-scores\"),\n",
    ")\n",
    "\n",
    "with con.status(\"Building leaderboard...\", spinner=\"aesthetic\"):\n",
    "    led = scores.build_leaderboard()\n",
    "\n",
    "with scores.leaderboard_file.open('w') as fp:\n",
    "    fp.write(led.json(indent=4))\n",
    "\n",
    "print(\"Leaderboard generated successfully\")\n",
    "# d = dict(led._iter(to_dict=True))"
   ]
  },
  {
   "cell_type": "code",
   "execution_count": 33,
   "metadata": {},
   "outputs": [
    {
     "name": "stdout",
     "output_type": "stream",
     "text": [
      "env: APP_DIR=/data/zerospeech/zrbench\n"
     ]
    }
   ],
   "source": [
    "\"\"\" Initialise a directory for the sLM21 submission \"\"\"\n",
    "%env APP_DIR=/data/zerospeech/zrbench\n",
    "from pathlib import Path\n",
    "from zerospeech.benchmarks import sLM_21\n",
    "\n",
    "sLM_21.SLM21Submission.init_dir(Path.home() / 'tmp/my_sLM21_submission')"
   ]
  },
  {
   "cell_type": "code",
   "execution_count": null,
   "metadata": {},
   "outputs": [],
   "source": [
    "\"\"\" Initialise a directory for the abx-LS submission \"\"\"\n",
    "%env APP_DIR=/data/zerospeech/zrbench\n",
    "from pathlib import Path\n",
    "from zerospeech.benchmarks import abx_LS\n",
    "\n",
    "abx_LS.AbxLSSubmission.init_dir(Path.home() / 'tmp/my_abxLS_submission')"
   ]
  }
 ],
 "metadata": {
  "kernelspec": {
   "display_name": "Python 3.9.7 64-bit ('zr-bench')",
   "language": "python",
   "name": "python3"
  },
  "language_info": {
   "codemirror_mode": {
    "name": "ipython",
    "version": 3
   },
   "file_extension": ".py",
   "mimetype": "text/x-python",
   "name": "python",
   "nbconvert_exporter": "python",
   "pygments_lexer": "ipython3",
   "version": "3.9.7"
  },
  "vscode": {
   "interpreter": {
    "hash": "72a25092850d8f571cb4f89e2772479ff58c03610d5eb16cabfc5bf365d70b3c"
   }
  }
 },
 "nbformat": 4,
 "nbformat_minor": 0
}
