{
 "cells": [
  {
   "cell_type": "markdown",
   "id": "4cd93242-5991-42ac-b326-4402d67b7e87",
   "metadata": {},
   "source": [
    "# Exploring the pyclesperanto application programming interface (API)\n",
    "pyclesperanto can tell you which operations are available. `operations()` serves a dictionary with all availabe operations."
   ]
  },
  {
   "cell_type": "code",
   "execution_count": 1,
   "id": "0f0509f1-d45e-4991-8f48-16b286ef82a6",
   "metadata": {},
   "outputs": [],
   "source": [
    "from pyclesperanto import cle"
   ]
  },
  {
   "cell_type": "code",
   "execution_count": 2,
   "id": "9e91f98b-544c-4bb4-bda7-6628dfafec5a",
   "metadata": {},
   "outputs": [
    {
     "name": "stdout",
     "output_type": "stream",
     "text": [
      "add_image_and_scalar\n",
      "add_images_weighted\n",
      "binary_and\n",
      "binary_not\n",
      "binary_or\n",
      "binary_subtract\n",
      "binary_xor\n",
      "connected_components_labeling_box\n",
      "copy\n",
      "create\n",
      "create_like\n",
      "detect_maxima_box\n",
      "difference_of_gaussian\n",
      "dilate_sphere\n",
      "erode_sphere\n",
      "extend_labeling_via_voronoi\n",
      "gaussian_blur\n",
      "get_device\n",
      "greater_or_equal\n",
      "greater_or_equal_constant\n",
      "histogram\n",
      "imshow\n",
      "list_available_devices\n",
      "masked_voronoi_labeling\n",
      "maximum_box\n",
      "maximum_of_all_pixels\n",
      "maximum_x_projection\n",
      "maximum_y_projection\n",
      "maximum_z_projection\n",
      "mean_box\n",
      "minimum_box\n",
      "minimum_of_all_pixels\n",
      "operation\n",
      "operations\n",
      "pull\n",
      "push\n",
      "select_device\n",
      "set_wait_for_kernel_to_finish\n",
      "sum_of_all_pixels\n",
      "threshold_otsu\n",
      "top_hat_box\n",
      "voronoi_otsu_labeling\n"
     ]
    }
   ],
   "source": [
    "for k in cle.operations().keys():\n",
    "    print(k)"
   ]
  },
  {
   "cell_type": "markdown",
   "id": "e1e5386e-fb4b-4cb2-8828-e067968f147f",
   "metadata": {},
   "source": [
    "It can give you an operation if you ask it for its name"
   ]
  },
  {
   "cell_type": "code",
   "execution_count": 3,
   "id": "d753c3e6-caf3-485f-aae0-4f5bcc146470",
   "metadata": {},
   "outputs": [
    {
     "data": {
      "text/plain": [
       "<bound method Clesperanto.add_image_and_scalar of <pyclesperanto._clesperanto_gateway.Clesperanto object at 0x000001F6FA35DEB0>>"
      ]
     },
     "execution_count": 3,
     "metadata": {},
     "output_type": "execute_result"
    }
   ],
   "source": [
    "cle.operation(\"add_image_and_scalar\")"
   ]
  },
  {
   "cell_type": "markdown",
   "id": "e9e34212-3652-4bb0-8aac-701ef2a551d4",
   "metadata": {},
   "source": [
    "You can also read the functions' documentation using `?` and `help()`."
   ]
  },
  {
   "cell_type": "code",
   "execution_count": 4,
   "id": "b0d8a471-82fa-4829-978a-0c61193d063f",
   "metadata": {},
   "outputs": [
    {
     "data": {
      "text/plain": [
       "\u001b[1;31mSignature:\u001b[0m\n",
       "\u001b[0mcle\u001b[0m\u001b[1;33m.\u001b[0m\u001b[0madd_image_and_scalar\u001b[0m\u001b[1;33m(\u001b[0m\u001b[1;33m\n",
       "\u001b[0m    \u001b[0msource\u001b[0m\u001b[1;33m:\u001b[0m \u001b[0mUnion\u001b[0m\u001b[1;33m[\u001b[0m\u001b[0mnumpy\u001b[0m\u001b[1;33m.\u001b[0m\u001b[0mndarray\u001b[0m\u001b[1;33m,\u001b[0m \u001b[0mpyclesperanto\u001b[0m\u001b[1;33m.\u001b[0m\u001b[0m_pyclesperanto\u001b[0m\u001b[1;33m.\u001b[0m\u001b[0mdata\u001b[0m\u001b[1;33m]\u001b[0m\u001b[1;33m,\u001b[0m\u001b[1;33m\n",
       "\u001b[0m    \u001b[0mdestination\u001b[0m\u001b[1;33m:\u001b[0m \u001b[0mUnion\u001b[0m\u001b[1;33m[\u001b[0m\u001b[0mnumpy\u001b[0m\u001b[1;33m.\u001b[0m\u001b[0mndarray\u001b[0m\u001b[1;33m,\u001b[0m \u001b[0mpyclesperanto\u001b[0m\u001b[1;33m.\u001b[0m\u001b[0m_pyclesperanto\u001b[0m\u001b[1;33m.\u001b[0m\u001b[0mdata\u001b[0m\u001b[1;33m]\u001b[0m \u001b[1;33m=\u001b[0m \u001b[1;32mNone\u001b[0m\u001b[1;33m,\u001b[0m\u001b[1;33m\n",
       "\u001b[0m    \u001b[0mscalar\u001b[0m\u001b[1;33m:\u001b[0m \u001b[0mfloat\u001b[0m \u001b[1;33m=\u001b[0m \u001b[1;36m0\u001b[0m\u001b[1;33m,\u001b[0m\u001b[1;33m\n",
       "\u001b[0m\u001b[1;33m)\u001b[0m\u001b[1;33m\u001b[0m\u001b[1;33m\u001b[0m\u001b[0m\n",
       "\u001b[1;31mDocstring:\u001b[0m\n",
       "Adds a scalar value s to all pixels x of a given image X.\n",
       "\n",
       "<pre>f(x, s) = x + s</pre>\n",
       "\n",
       "Parameters\n",
       "----------\n",
       "source : Image\n",
       "    The input image where scalare should be added.\n",
       "destination : Image, optional\n",
       "    The output image where results are written into.\n",
       "scalar : float, optional\n",
       "    The constant number which will be added to all pixels.\n",
       "\n",
       "\n",
       "Returns\n",
       "-------\n",
       "destination\n",
       "\u001b[1;31mFile:\u001b[0m      c:\\structure\\code\\pyclesperanto\\pyclesperanto\\_clesperanto_gateway.py\n",
       "\u001b[1;31mType:\u001b[0m      method\n"
      ]
     },
     "metadata": {},
     "output_type": "display_data"
    }
   ],
   "source": [
    "cle.add_image_and_scalar?"
   ]
  },
  {
   "cell_type": "code",
   "execution_count": 5,
   "id": "17deb4e5-a966-416e-9a82-dc284f42e06f",
   "metadata": {},
   "outputs": [
    {
     "name": "stdout",
     "output_type": "stream",
     "text": [
      "Help on method add_image_and_scalar:\n",
      "\n",
      "add_image_and_scalar(source: Union[numpy.ndarray, pyclesperanto._pyclesperanto.data], destination: Union[numpy.ndarray, pyclesperanto._pyclesperanto.data] = None, scalar: float = 0) method of pyclesperanto._clesperanto_gateway.Clesperanto instance\n",
      "    Adds a scalar value s to all pixels x of a given image X.\n",
      "    \n",
      "    <pre>f(x, s) = x + s</pre>\n",
      "    \n",
      "    Parameters\n",
      "    ----------\n",
      "    source : Image\n",
      "        The input image where scalare should be added.\n",
      "    destination : Image, optional\n",
      "        The output image where results are written into.\n",
      "    scalar : float, optional\n",
      "        The constant number which will be added to all pixels.\n",
      "    \n",
      "    \n",
      "    Returns\n",
      "    -------\n",
      "    destination\n",
      "\n"
     ]
    }
   ],
   "source": [
    "help(cle.add_image_and_scalar)"
   ]
  },
  {
   "cell_type": "code",
   "execution_count": null,
   "id": "9f2d0d08-1c12-4c18-849d-6be2723ed364",
   "metadata": {},
   "outputs": [],
   "source": []
  }
 ],
 "metadata": {
  "kernelspec": {
   "display_name": "Python 3 (ipykernel)",
   "language": "python",
   "name": "python3"
  },
  "language_info": {
   "codemirror_mode": {
    "name": "ipython",
    "version": 3
   },
   "file_extension": ".py",
   "mimetype": "text/x-python",
   "name": "python",
   "nbconvert_exporter": "python",
   "pygments_lexer": "ipython3",
   "version": "3.9.10"
  }
 },
 "nbformat": 4,
 "nbformat_minor": 5
}
