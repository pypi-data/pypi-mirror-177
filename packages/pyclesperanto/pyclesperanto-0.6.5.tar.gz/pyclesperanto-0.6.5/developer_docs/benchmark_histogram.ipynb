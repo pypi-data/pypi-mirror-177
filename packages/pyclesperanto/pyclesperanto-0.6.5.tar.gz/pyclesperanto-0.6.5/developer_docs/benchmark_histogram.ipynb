{
 "cells": [
  {
   "cell_type": "code",
   "execution_count": 1,
   "metadata": {},
   "outputs": [],
   "source": [
    "import timeit\n",
    "import numpy as np\n",
    "from functools import partial\n",
    "import matplotlib.pyplot as plt\n",
    "\n",
    "from skimage.exposure import histogram\n",
    "import pyclesperanto_prototype as prototype\n",
    "from pyclesperanto import Clesperanto\n",
    "\n",
    "pyclic = Clesperanto()\n",
    "pyclic.set_wait_for_kernel_to_finish(True)\n",
    "\n",
    "prototype.select_device()\n",
    "prototype.set_wait_for_kernel_finish(True)\n",
    "\n",
    "sizes = [128, 256, 512, 1024, 2048, 4096]\n",
    "\n",
    "warmup_iter = 3\n",
    "eval_iter = 5"
   ]
  },
  {
   "cell_type": "code",
   "execution_count": 2,
   "metadata": {},
   "outputs": [],
   "source": [
    "def benchmark_function(target_function):\n",
    "    \"\"\"\n",
    "    Tests a function on a couple of image sizes and returns times taken for processing.\n",
    "    \"\"\"\n",
    "    benchmark_data = []\n",
    "    for size in sizes:\n",
    "        # make new data\n",
    "        image = np.random.rand(size, size)\n",
    "        # bind target function to given image\n",
    "        partial_function = partial(target_function, image)\n",
    "        # warmup       \n",
    "        warm_up_time_in_s = timeit.timeit(partial_function, number=warmup_iter)\n",
    "        # measure execution time\n",
    "        time_in_s = timeit.timeit(partial_function, number=eval_iter)\n",
    "        # store results\n",
    "        benchmark_data.append([size, time_in_s])\n",
    "    return np.asarray(benchmark_data)"
   ]
  },
  {
   "cell_type": "markdown",
   "metadata": {},
   "source": [
    "# Histogram"
   ]
  },
  {
   "cell_type": "markdown",
   "metadata": {},
   "source": [
    "### Pyclesperanto"
   ]
  },
  {
   "cell_type": "code",
   "execution_count": 3,
   "metadata": {},
   "outputs": [],
   "source": [
    "def pyclic_function(image):\n",
    "    pyclic.histogram(input_image=image)"
   ]
  },
  {
   "cell_type": "code",
   "execution_count": 4,
   "metadata": {},
   "outputs": [
    {
     "name": "stderr",
     "output_type": "stream",
     "text": [
      "Exception caught in Kernel class sum_z_projection. Error when enqueuing NDRange kernel.\n",
      "Error CL_MEM_OBJECT_ALLOCATION_FAILURE (-4)\n",
      "\tDescription: Failed to allocate memory for buffer object\n",
      "Exception caught in Kernel class sum_z_projection. Error when enqueuing NDRange kernel.\n",
      "Error CL_MEM_OBJECT_ALLOCATION_FAILURE (-4)\n",
      "\tDescription: Failed to allocate memory for buffer object\n",
      "Exception caught in Kernel class sum_z_projection. Error when enqueuing NDRange kernel.\n",
      "Error CL_MEM_OBJECT_ALLOCATION_FAILURE (-4)\n",
      "\tDescription: Failed to allocate memory for buffer object\n",
      "Exception caught in Kernel class sum_z_projection. Error when enqueuing NDRange kernel.\n",
      "Error CL_MEM_OBJECT_ALLOCATION_FAILURE (-4)\n",
      "\tDescription: Failed to allocate memory for buffer object\n",
      "Exception caught in Kernel class sum_z_projection. Error when enqueuing NDRange kernel.\n",
      "Error CL_MEM_OBJECT_ALLOCATION_FAILURE (-4)\n",
      "\tDescription: Failed to allocate memory for buffer object\n",
      "Exception caught in Kernel class sum_z_projection. Error when enqueuing NDRange kernel.\n",
      "Error CL_MEM_OBJECT_ALLOCATION_FAILURE (-4)\n",
      "\tDescription: Failed to allocate memory for buffer object\n",
      "Exception caught in Kernel class sum_z_projection. Error when enqueuing NDRange kernel.\n",
      "Error CL_MEM_OBJECT_ALLOCATION_FAILURE (-4)\n",
      "\tDescription: Failed to allocate memory for buffer object\n",
      "Exception caught in Kernel class sum_z_projection. Error when enqueuing NDRange kernel.\n",
      "Error CL_MEM_OBJECT_ALLOCATION_FAILURE (-4)\n",
      "\tDescription: Failed to allocate memory for buffer object\n",
      "Exception caught in GPU class. Error when enqueuing Write instruction to Buffer.\n",
      "Error CL_MEM_OBJECT_ALLOCATION_FAILURE (-4)\n",
      "\tDescription: Failed to allocate memory for buffer object\n",
      "Exception caught in Kernel class minimum_y_projection. Error when enqueuing NDRange kernel.\n",
      "Error CL_MEM_OBJECT_ALLOCATION_FAILURE (-4)\n",
      "\tDescription: Failed to allocate memory for buffer object\n",
      "Exception caught in Kernel class maximum_y_projection. Error when enqueuing NDRange kernel.\n",
      "Error CL_MEM_OBJECT_ALLOCATION_FAILURE (-4)\n",
      "\tDescription: Failed to allocate memory for buffer object\n",
      "Exception caught in Kernel class histogram. Error when enqueuing NDRange kernel.\n",
      "Error CL_MEM_OBJECT_ALLOCATION_FAILURE (-4)\n",
      "\tDescription: Failed to allocate memory for buffer object\n",
      "Exception caught in Kernel class sum_z_projection. Error when enqueuing NDRange kernel.\n",
      "Error CL_MEM_OBJECT_ALLOCATION_FAILURE (-4)\n",
      "\tDescription: Failed to allocate memory for buffer object\n",
      "Exception caught in GPU class. Error when enqueuing Write instruction to Buffer.\n",
      "Error CL_MEM_OBJECT_ALLOCATION_FAILURE (-4)\n",
      "\tDescription: Failed to allocate memory for buffer object\n",
      "Exception caught in Kernel class minimum_y_projection. Error when enqueuing NDRange kernel.\n",
      "Error CL_MEM_OBJECT_ALLOCATION_FAILURE (-4)\n",
      "\tDescription: Failed to allocate memory for buffer object\n",
      "Exception caught in Kernel class maximum_y_projection. Error when enqueuing NDRange kernel.\n",
      "Error CL_MEM_OBJECT_ALLOCATION_FAILURE (-4)\n",
      "\tDescription: Failed to allocate memory for buffer object\n",
      "Exception caught in Kernel class histogram. Error when enqueuing NDRange kernel.\n",
      "Error CL_MEM_OBJECT_ALLOCATION_FAILURE (-4)\n",
      "\tDescription: Failed to allocate memory for buffer object\n",
      "Exception caught in Kernel class sum_z_projection. Error when enqueuing NDRange kernel.\n",
      "Error CL_MEM_OBJECT_ALLOCATION_FAILURE (-4)\n",
      "\tDescription: Failed to allocate memory for buffer object\n",
      "Exception caught in GPU class. Error when enqueuing Write instruction to Buffer.\n",
      "Error CL_MEM_OBJECT_ALLOCATION_FAILURE (-4)\n",
      "\tDescription: Failed to allocate memory for buffer object\n",
      "Exception caught in Kernel class minimum_y_projection. Error when enqueuing NDRange kernel.\n",
      "Error CL_MEM_OBJECT_ALLOCATION_FAILURE (-4)\n",
      "\tDescription: Failed to allocate memory for buffer object\n",
      "Exception caught in Kernel class maximum_y_projection. Error when enqueuing NDRange kernel.\n",
      "Error CL_MEM_OBJECT_ALLOCATION_FAILURE (-4)\n",
      "\tDescription: Failed to allocate memory for buffer object\n",
      "Exception caught in Kernel class histogram. Error when enqueuing NDRange kernel.\n",
      "Error CL_MEM_OBJECT_ALLOCATION_FAILURE (-4)\n",
      "\tDescription: Failed to allocate memory for buffer object\n",
      "Exception caught in Kernel class sum_z_projection. Error when enqueuing NDRange kernel.\n",
      "Error CL_MEM_OBJECT_ALLOCATION_FAILURE (-4)\n",
      "\tDescription: Failed to allocate memory for buffer object\n",
      "Exception caught in GPU class. Error when enqueuing Write instruction to Buffer.\n",
      "Error CL_MEM_OBJECT_ALLOCATION_FAILURE (-4)\n",
      "\tDescription: Failed to allocate memory for buffer object\n",
      "Exception caught in Kernel class minimum_y_projection. Error when enqueuing NDRange kernel.\n",
      "Error CL_MEM_OBJECT_ALLOCATION_FAILURE (-4)\n",
      "\tDescription: Failed to allocate memory for buffer object\n",
      "Exception caught in Kernel class maximum_y_projection. Error when enqueuing NDRange kernel.\n",
      "Error CL_MEM_OBJECT_ALLOCATION_FAILURE (-4)\n",
      "\tDescription: Failed to allocate memory for buffer object\n",
      "Exception caught in Kernel class histogram. Error when enqueuing NDRange kernel.\n",
      "Error CL_MEM_OBJECT_ALLOCATION_FAILURE (-4)\n",
      "\tDescription: Failed to allocate memory for buffer object\n",
      "Exception caught in Kernel class sum_z_projection. Error when enqueuing NDRange kernel.\n",
      "Error CL_MEM_OBJECT_ALLOCATION_FAILURE (-4)\n",
      "\tDescription: Failed to allocate memory for buffer object\n",
      "Exception caught in GPU class. Error when enqueuing Write instruction to Buffer.\n",
      "Error CL_MEM_OBJECT_ALLOCATION_FAILURE (-4)\n",
      "\tDescription: Failed to allocate memory for buffer object\n",
      "Exception caught in Kernel class minimum_y_projection. Error when enqueuing NDRange kernel.\n",
      "Error CL_MEM_OBJECT_ALLOCATION_FAILURE (-4)\n",
      "\tDescription: Failed to allocate memory for buffer object\n",
      "Exception caught in Kernel class maximum_y_projection. Error when enqueuing NDRange kernel.\n",
      "Error CL_MEM_OBJECT_ALLOCATION_FAILURE (-4)\n",
      "\tDescription: Failed to allocate memory for buffer object\n",
      "Exception caught in Kernel class histogram. Error when enqueuing NDRange kernel.\n",
      "Error CL_MEM_OBJECT_ALLOCATION_FAILURE (-4)\n",
      "\tDescription: Failed to allocate memory for buffer object\n",
      "Exception caught in Kernel class sum_z_projection. Error when enqueuing NDRange kernel.\n",
      "Error CL_MEM_OBJECT_ALLOCATION_FAILURE (-4)\n",
      "\tDescription: Failed to allocate memory for buffer object\n",
      "Exception caught in GPU class. Error when enqueuing Write instruction to Buffer.\n",
      "Error CL_MEM_OBJECT_ALLOCATION_FAILURE (-4)\n",
      "\tDescription: Failed to allocate memory for buffer object\n",
      "Exception caught in Kernel class minimum_y_projection. Error when enqueuing NDRange kernel.\n",
      "Error CL_MEM_OBJECT_ALLOCATION_FAILURE (-4)\n",
      "\tDescription: Failed to allocate memory for buffer object\n",
      "Exception caught in Kernel class maximum_y_projection. Error when enqueuing NDRange kernel.\n",
      "Error CL_MEM_OBJECT_ALLOCATION_FAILURE (-4)\n",
      "\tDescription: Failed to allocate memory for buffer object\n",
      "Exception caught in Kernel class histogram. Error when enqueuing NDRange kernel.\n",
      "Error CL_MEM_OBJECT_ALLOCATION_FAILURE (-4)\n",
      "\tDescription: Failed to allocate memory for buffer object\n",
      "Exception caught in Kernel class sum_z_projection. Error when enqueuing NDRange kernel.\n",
      "Error CL_MEM_OBJECT_ALLOCATION_FAILURE (-4)\n",
      "\tDescription: Failed to allocate memory for buffer object\n",
      "Exception caught in GPU class. Error when enqueuing Write instruction to Buffer.\n",
      "Error CL_MEM_OBJECT_ALLOCATION_FAILURE (-4)\n",
      "\tDescription: Failed to allocate memory for buffer object\n",
      "Exception caught in Kernel class minimum_y_projection. Error when enqueuing NDRange kernel.\n",
      "Error CL_MEM_OBJECT_ALLOCATION_FAILURE (-4)\n",
      "\tDescription: Failed to allocate memory for buffer object\n",
      "Exception caught in Kernel class maximum_y_projection. Error when enqueuing NDRange kernel.\n",
      "Error CL_MEM_OBJECT_ALLOCATION_FAILURE (-4)\n",
      "\tDescription: Failed to allocate memory for buffer object\n",
      "Exception caught in Kernel class histogram. Error when enqueuing NDRange kernel.\n",
      "Error CL_MEM_OBJECT_ALLOCATION_FAILURE (-4)\n",
      "\tDescription: Failed to allocate memory for buffer object\n",
      "Exception caught in Kernel class sum_z_projection. Error when enqueuing NDRange kernel.\n",
      "Error CL_MEM_OBJECT_ALLOCATION_FAILURE (-4)\n",
      "\tDescription: Failed to allocate memory for buffer object\n",
      "Exception caught in GPU class. Error when enqueuing Write instruction to Buffer.\n",
      "Error CL_MEM_OBJECT_ALLOCATION_FAILURE (-4)\n",
      "\tDescription: Failed to allocate memory for buffer object\n",
      "Exception caught in Kernel class minimum_y_projection. Error when enqueuing NDRange kernel.\n",
      "Error CL_MEM_OBJECT_ALLOCATION_FAILURE (-4)\n",
      "\tDescription: Failed to allocate memory for buffer object\n",
      "Exception caught in Kernel class maximum_y_projection. Error when enqueuing NDRange kernel.\n",
      "Error CL_MEM_OBJECT_ALLOCATION_FAILURE (-4)\n",
      "\tDescription: Failed to allocate memory for buffer object\n",
      "Exception caught in Kernel class histogram. Error when enqueuing NDRange kernel.\n",
      "Error CL_MEM_OBJECT_ALLOCATION_FAILURE (-4)\n",
      "\tDescription: Failed to allocate memory for buffer object\n",
      "Exception caught in Kernel class sum_z_projection. Error when enqueuing NDRange kernel.\n",
      "Error CL_MEM_OBJECT_ALLOCATION_FAILURE (-4)\n",
      "\tDescription: Failed to allocate memory for buffer object\n"
     ]
    }
   ],
   "source": [
    "pyclic_benchmark_data = benchmark_function(pyclic_function)"
   ]
  },
  {
   "cell_type": "markdown",
   "metadata": {},
   "source": [
    "### Prototype"
   ]
  },
  {
   "cell_type": "code",
   "execution_count": 5,
   "metadata": {},
   "outputs": [],
   "source": [
    "def prototype_function(image):\n",
    "    prototype.histogram(source=image)\n",
    "    "
   ]
  },
  {
   "cell_type": "code",
   "execution_count": 6,
   "metadata": {},
   "outputs": [
    {
     "ename": "MemoryError",
     "evalue": "clEnqueueWriteBuffer failed: MEM_OBJECT_ALLOCATION_FAILURE",
     "output_type": "error",
     "traceback": [
      "\u001b[0;31m---------------------------------------------------------------------------\u001b[0m",
      "\u001b[0;31mMemoryError\u001b[0m                               Traceback (most recent call last)",
      "Input \u001b[0;32mIn [6]\u001b[0m, in \u001b[0;36m<cell line: 1>\u001b[0;34m()\u001b[0m\n\u001b[0;32m----> 1\u001b[0m prototype_benchmark_data \u001b[38;5;241m=\u001b[39m \u001b[43mbenchmark_function\u001b[49m\u001b[43m(\u001b[49m\u001b[43mprototype_function\u001b[49m\u001b[43m)\u001b[49m\n",
      "Input \u001b[0;32mIn [2]\u001b[0m, in \u001b[0;36mbenchmark_function\u001b[0;34m(target_function)\u001b[0m\n\u001b[1;32m     10\u001b[0m partial_function \u001b[38;5;241m=\u001b[39m partial(target_function, image)\n\u001b[1;32m     11\u001b[0m \u001b[38;5;66;03m# warmup       \u001b[39;00m\n\u001b[0;32m---> 12\u001b[0m warm_up_time_in_s \u001b[38;5;241m=\u001b[39m \u001b[43mtimeit\u001b[49m\u001b[38;5;241;43m.\u001b[39;49m\u001b[43mtimeit\u001b[49m\u001b[43m(\u001b[49m\u001b[43mpartial_function\u001b[49m\u001b[43m,\u001b[49m\u001b[43m \u001b[49m\u001b[43mnumber\u001b[49m\u001b[38;5;241;43m=\u001b[39;49m\u001b[43mwarmup_iter\u001b[49m\u001b[43m)\u001b[49m\n\u001b[1;32m     13\u001b[0m \u001b[38;5;66;03m# measure execution time\u001b[39;00m\n\u001b[1;32m     14\u001b[0m time_in_s \u001b[38;5;241m=\u001b[39m timeit\u001b[38;5;241m.\u001b[39mtimeit(partial_function, number\u001b[38;5;241m=\u001b[39meval_iter)\n",
      "File \u001b[0;32m~/Libraries/anaconda3/envs/opencl/lib/python3.9/timeit.py:233\u001b[0m, in \u001b[0;36mtimeit\u001b[0;34m(stmt, setup, timer, number, globals)\u001b[0m\n\u001b[1;32m    230\u001b[0m \u001b[38;5;28;01mdef\u001b[39;00m \u001b[38;5;21mtimeit\u001b[39m(stmt\u001b[38;5;241m=\u001b[39m\u001b[38;5;124m\"\u001b[39m\u001b[38;5;124mpass\u001b[39m\u001b[38;5;124m\"\u001b[39m, setup\u001b[38;5;241m=\u001b[39m\u001b[38;5;124m\"\u001b[39m\u001b[38;5;124mpass\u001b[39m\u001b[38;5;124m\"\u001b[39m, timer\u001b[38;5;241m=\u001b[39mdefault_timer,\n\u001b[1;32m    231\u001b[0m            number\u001b[38;5;241m=\u001b[39mdefault_number, \u001b[38;5;28mglobals\u001b[39m\u001b[38;5;241m=\u001b[39m\u001b[38;5;28;01mNone\u001b[39;00m):\n\u001b[1;32m    232\u001b[0m     \u001b[38;5;124;03m\"\"\"Convenience function to create Timer object and call timeit method.\"\"\"\u001b[39;00m\n\u001b[0;32m--> 233\u001b[0m     \u001b[38;5;28;01mreturn\u001b[39;00m \u001b[43mTimer\u001b[49m\u001b[43m(\u001b[49m\u001b[43mstmt\u001b[49m\u001b[43m,\u001b[49m\u001b[43m \u001b[49m\u001b[43msetup\u001b[49m\u001b[43m,\u001b[49m\u001b[43m \u001b[49m\u001b[43mtimer\u001b[49m\u001b[43m,\u001b[49m\u001b[43m \u001b[49m\u001b[38;5;28;43mglobals\u001b[39;49m\u001b[43m)\u001b[49m\u001b[38;5;241;43m.\u001b[39;49m\u001b[43mtimeit\u001b[49m\u001b[43m(\u001b[49m\u001b[43mnumber\u001b[49m\u001b[43m)\u001b[49m\n",
      "File \u001b[0;32m~/Libraries/anaconda3/envs/opencl/lib/python3.9/timeit.py:177\u001b[0m, in \u001b[0;36mTimer.timeit\u001b[0;34m(self, number)\u001b[0m\n\u001b[1;32m    175\u001b[0m gc\u001b[38;5;241m.\u001b[39mdisable()\n\u001b[1;32m    176\u001b[0m \u001b[38;5;28;01mtry\u001b[39;00m:\n\u001b[0;32m--> 177\u001b[0m     timing \u001b[38;5;241m=\u001b[39m \u001b[38;5;28;43mself\u001b[39;49m\u001b[38;5;241;43m.\u001b[39;49m\u001b[43minner\u001b[49m\u001b[43m(\u001b[49m\u001b[43mit\u001b[49m\u001b[43m,\u001b[49m\u001b[43m \u001b[49m\u001b[38;5;28;43mself\u001b[39;49m\u001b[38;5;241;43m.\u001b[39;49m\u001b[43mtimer\u001b[49m\u001b[43m)\u001b[49m\n\u001b[1;32m    178\u001b[0m \u001b[38;5;28;01mfinally\u001b[39;00m:\n\u001b[1;32m    179\u001b[0m     \u001b[38;5;28;01mif\u001b[39;00m gcold:\n",
      "File \u001b[0;32m<timeit-src>:6\u001b[0m, in \u001b[0;36minner\u001b[0;34m(_it, _timer, _stmt)\u001b[0m\n",
      "Input \u001b[0;32mIn [5]\u001b[0m, in \u001b[0;36mprototype_function\u001b[0;34m(image)\u001b[0m\n\u001b[1;32m      1\u001b[0m \u001b[38;5;28;01mdef\u001b[39;00m \u001b[38;5;21mprototype_function\u001b[39m(image):\n\u001b[0;32m----> 2\u001b[0m     \u001b[43mprototype\u001b[49m\u001b[38;5;241;43m.\u001b[39;49m\u001b[43mhistogram\u001b[49m\u001b[43m(\u001b[49m\u001b[43msource\u001b[49m\u001b[38;5;241;43m=\u001b[39;49m\u001b[43mimage\u001b[49m\u001b[43m)\u001b[49m\n",
      "File \u001b[0;32m~/Libraries/anaconda3/envs/opencl/lib/python3.9/site-packages/pyclesperanto_prototype/_tier0/_plugin_function.py:65\u001b[0m, in \u001b[0;36mplugin_function.<locals>.worker_function\u001b[0;34m(*args, **kwargs)\u001b[0m\n\u001b[1;32m     63\u001b[0m \u001b[38;5;28;01mfor\u001b[39;00m key, value \u001b[38;5;129;01min\u001b[39;00m bound\u001b[38;5;241m.\u001b[39marguments\u001b[38;5;241m.\u001b[39mitems():\n\u001b[1;32m     64\u001b[0m     \u001b[38;5;28;01mif\u001b[39;00m is_image(value) \u001b[38;5;129;01mand\u001b[39;00m key \u001b[38;5;129;01min\u001b[39;00m sig\u001b[38;5;241m.\u001b[39mparameters \u001b[38;5;129;01mand\u001b[39;00m sig\u001b[38;5;241m.\u001b[39mparameters[key]\u001b[38;5;241m.\u001b[39mannotation \u001b[38;5;129;01mis\u001b[39;00m Image:\n\u001b[0;32m---> 65\u001b[0m         bound\u001b[38;5;241m.\u001b[39marguments[key] \u001b[38;5;241m=\u001b[39m \u001b[43mpush\u001b[49m\u001b[43m(\u001b[49m\u001b[43mvalue\u001b[49m\u001b[43m)\u001b[49m\n\u001b[1;32m     66\u001b[0m     \u001b[38;5;28;01mif\u001b[39;00m key \u001b[38;5;129;01min\u001b[39;00m sig\u001b[38;5;241m.\u001b[39mparameters \u001b[38;5;129;01mand\u001b[39;00m sig\u001b[38;5;241m.\u001b[39mparameters[key]\u001b[38;5;241m.\u001b[39mannotation \u001b[38;5;129;01mis\u001b[39;00m Image \u001b[38;5;129;01mand\u001b[39;00m value \u001b[38;5;129;01mis\u001b[39;00m \u001b[38;5;28;01mNone\u001b[39;00m:\n\u001b[1;32m     67\u001b[0m         sig2 \u001b[38;5;241m=\u001b[39m inspect\u001b[38;5;241m.\u001b[39msignature(output_creator)\n",
      "File \u001b[0;32m~/Libraries/anaconda3/envs/opencl/lib/python3.9/site-packages/pyclesperanto_prototype/_tier0/_push.py:37\u001b[0m, in \u001b[0;36mpush\u001b[0;34m(any_array)\u001b[0m\n\u001b[1;32m     34\u001b[0m \u001b[38;5;28;01mif\u001b[39;00m \u001b[38;5;28mhasattr\u001b[39m(any_array, \u001b[38;5;124m'\u001b[39m\u001b[38;5;124mshape\u001b[39m\u001b[38;5;124m'\u001b[39m) \u001b[38;5;129;01mand\u001b[39;00m \u001b[38;5;28mhasattr\u001b[39m(any_array, \u001b[38;5;124m'\u001b[39m\u001b[38;5;124mdtype\u001b[39m\u001b[38;5;124m'\u001b[39m) \u001b[38;5;129;01mand\u001b[39;00m \u001b[38;5;28mhasattr\u001b[39m(any_array, \u001b[38;5;124m'\u001b[39m\u001b[38;5;124mget\u001b[39m\u001b[38;5;124m'\u001b[39m):\n\u001b[1;32m     35\u001b[0m     any_array \u001b[38;5;241m=\u001b[39m np\u001b[38;5;241m.\u001b[39masarray(any_array\u001b[38;5;241m.\u001b[39mget())\n\u001b[0;32m---> 37\u001b[0m \u001b[38;5;28;01mreturn\u001b[39;00m \u001b[43mBackend\u001b[49m\u001b[38;5;241;43m.\u001b[39;49m\u001b[43mget_instance\u001b[49m\u001b[43m(\u001b[49m\u001b[43m)\u001b[49m\u001b[38;5;241;43m.\u001b[39;49m\u001b[43mget\u001b[49m\u001b[43m(\u001b[49m\u001b[43m)\u001b[49m\u001b[38;5;241;43m.\u001b[39;49m\u001b[43mfrom_array\u001b[49m\u001b[43m(\u001b[49m\u001b[43mnp\u001b[49m\u001b[38;5;241;43m.\u001b[39;49m\u001b[43mfloat32\u001b[49m\u001b[43m(\u001b[49m\u001b[43many_array\u001b[49m\u001b[43m)\u001b[49m\u001b[43m)\u001b[49m\n",
      "File \u001b[0;32m~/Libraries/anaconda3/envs/opencl/lib/python3.9/site-packages/pyclesperanto_prototype/_tier0/_opencl_backend.py:44\u001b[0m, in \u001b[0;36mOpenCLBackend.from_array\u001b[0;34m(self, *args, **kwargs)\u001b[0m\n\u001b[1;32m     43\u001b[0m \u001b[38;5;28;01mdef\u001b[39;00m \u001b[38;5;21mfrom_array\u001b[39m(\u001b[38;5;28mself\u001b[39m, \u001b[38;5;241m*\u001b[39margs, \u001b[38;5;241m*\u001b[39m\u001b[38;5;241m*\u001b[39mkwargs):\n\u001b[0;32m---> 44\u001b[0m     \u001b[38;5;28;01mreturn\u001b[39;00m \u001b[43mOCLArray\u001b[49m\u001b[38;5;241;43m.\u001b[39;49m\u001b[43mfrom_array\u001b[49m\u001b[43m(\u001b[49m\u001b[38;5;241;43m*\u001b[39;49m\u001b[43margs\u001b[49m\u001b[43m,\u001b[49m\u001b[43m \u001b[49m\u001b[38;5;241;43m*\u001b[39;49m\u001b[38;5;241;43m*\u001b[39;49m\u001b[43mkwargs\u001b[49m\u001b[43m)\u001b[49m\n",
      "File \u001b[0;32m~/Libraries/anaconda3/envs/opencl/lib/python3.9/site-packages/pyclesperanto_prototype/_tier0/_pycl.py:70\u001b[0m, in \u001b[0;36mOCLArray.from_array\u001b[0;34m(cls, arr, *args, **kwargs)\u001b[0m\n\u001b[1;32m     68\u001b[0m assert_supported_ndarray_type(arr\u001b[38;5;241m.\u001b[39mdtype\u001b[38;5;241m.\u001b[39mtype)\n\u001b[1;32m     69\u001b[0m queue \u001b[38;5;241m=\u001b[39m get_device()\u001b[38;5;241m.\u001b[39mqueue\n\u001b[0;32m---> 70\u001b[0m \u001b[38;5;28;01mreturn\u001b[39;00m \u001b[43mOCLArray\u001b[49m\u001b[38;5;241;43m.\u001b[39;49m\u001b[43mto_device\u001b[49m\u001b[43m(\u001b[49m\u001b[43mqueue\u001b[49m\u001b[43m,\u001b[49m\u001b[43m \u001b[49m\u001b[43mprepare\u001b[49m\u001b[43m(\u001b[49m\u001b[43marr\u001b[49m\u001b[43m)\u001b[49m\u001b[43m,\u001b[49m\u001b[43m \u001b[49m\u001b[38;5;241;43m*\u001b[39;49m\u001b[43margs\u001b[49m\u001b[43m,\u001b[49m\u001b[43m \u001b[49m\u001b[38;5;241;43m*\u001b[39;49m\u001b[38;5;241;43m*\u001b[39;49m\u001b[43mkwargs\u001b[49m\u001b[43m)\u001b[49m\n",
      "File \u001b[0;32m~/Libraries/anaconda3/envs/opencl/lib/python3.9/site-packages/pyclesperanto_prototype/_tier0/_pycl.py:120\u001b[0m, in \u001b[0;36mOCLArray.to_device\u001b[0;34m(cls, queue, ary, *args, **kwargs)\u001b[0m\n\u001b[1;32m    118\u001b[0m     \u001b[38;5;28;01mreturn\u001b[39;00m ary\n\u001b[1;32m    119\u001b[0m cl_a \u001b[38;5;241m=\u001b[39m OCLArray(queue, ary\u001b[38;5;241m.\u001b[39mshape, ary\u001b[38;5;241m.\u001b[39mdtype, strides\u001b[38;5;241m=\u001b[39mary\u001b[38;5;241m.\u001b[39mstrides)\n\u001b[0;32m--> 120\u001b[0m \u001b[43mcl_a\u001b[49m\u001b[38;5;241;43m.\u001b[39;49m\u001b[43mset\u001b[49m\u001b[43m(\u001b[49m\u001b[43mary\u001b[49m\u001b[43m,\u001b[49m\u001b[43m \u001b[49m\u001b[43mqueue\u001b[49m\u001b[38;5;241;43m=\u001b[39;49m\u001b[43mqueue\u001b[49m\u001b[43m)\u001b[49m\n\u001b[1;32m    121\u001b[0m \u001b[38;5;28;01mreturn\u001b[39;00m cl_a\n",
      "File \u001b[0;32m~/Libraries/anaconda3/envs/opencl/lib/python3.9/site-packages/pyopencl/array.py:721\u001b[0m, in \u001b[0;36mArray.set\u001b[0;34m(self, ary, queue, async_, **kwargs)\u001b[0m\n\u001b[1;32m    715\u001b[0m     warn(\u001b[38;5;124m\"\u001b[39m\u001b[38;5;124mSetting array from one with different \u001b[39m\u001b[38;5;124m\"\u001b[39m\n\u001b[1;32m    716\u001b[0m             \u001b[38;5;124m\"\u001b[39m\u001b[38;5;124mstrides/storage order. This will cease to work \u001b[39m\u001b[38;5;124m\"\u001b[39m\n\u001b[1;32m    717\u001b[0m             \u001b[38;5;124m\"\u001b[39m\u001b[38;5;124min 2013.x.\u001b[39m\u001b[38;5;124m\"\u001b[39m,\n\u001b[1;32m    718\u001b[0m             stacklevel\u001b[38;5;241m=\u001b[39m\u001b[38;5;241m2\u001b[39m)\n\u001b[1;32m    720\u001b[0m \u001b[38;5;28;01mif\u001b[39;00m \u001b[38;5;28mself\u001b[39m\u001b[38;5;241m.\u001b[39msize:\n\u001b[0;32m--> 721\u001b[0m     event1 \u001b[38;5;241m=\u001b[39m \u001b[43mcl\u001b[49m\u001b[38;5;241;43m.\u001b[39;49m\u001b[43menqueue_copy\u001b[49m\u001b[43m(\u001b[49m\u001b[43mqueue\u001b[49m\u001b[43m \u001b[49m\u001b[38;5;129;43;01mor\u001b[39;49;00m\u001b[43m \u001b[49m\u001b[38;5;28;43mself\u001b[39;49m\u001b[38;5;241;43m.\u001b[39;49m\u001b[43mqueue\u001b[49m\u001b[43m,\u001b[49m\u001b[43m \u001b[49m\u001b[38;5;28;43mself\u001b[39;49m\u001b[38;5;241;43m.\u001b[39;49m\u001b[43mbase_data\u001b[49m\u001b[43m,\u001b[49m\u001b[43m \u001b[49m\u001b[43mary\u001b[49m\u001b[43m,\u001b[49m\n\u001b[1;32m    722\u001b[0m \u001b[43m            \u001b[49m\u001b[43mdevice_offset\u001b[49m\u001b[38;5;241;43m=\u001b[39;49m\u001b[38;5;28;43mself\u001b[39;49m\u001b[38;5;241;43m.\u001b[39;49m\u001b[43moffset\u001b[49m\u001b[43m,\u001b[49m\n\u001b[1;32m    723\u001b[0m \u001b[43m            \u001b[49m\u001b[43mis_blocking\u001b[49m\u001b[38;5;241;43m=\u001b[39;49m\u001b[38;5;129;43;01mnot\u001b[39;49;00m\u001b[43m \u001b[49m\u001b[43masync_\u001b[49m\u001b[43m)\u001b[49m\n\u001b[1;32m    724\u001b[0m     \u001b[38;5;28mself\u001b[39m\u001b[38;5;241m.\u001b[39madd_event(event1)\n",
      "File \u001b[0;32m~/Libraries/anaconda3/envs/opencl/lib/python3.9/site-packages/pyopencl/__init__.py:1749\u001b[0m, in \u001b[0;36menqueue_copy\u001b[0;34m(queue, dest, src, **kwargs)\u001b[0m\n\u001b[1;32m   1747\u001b[0m             \u001b[38;5;28;01mreturn\u001b[39;00m _cl\u001b[38;5;241m.\u001b[39m_enqueue_write_buffer_rect(queue, dest, src, \u001b[38;5;241m*\u001b[39m\u001b[38;5;241m*\u001b[39mkwargs)\n\u001b[1;32m   1748\u001b[0m         \u001b[38;5;28;01melse\u001b[39;00m:\n\u001b[0;32m-> 1749\u001b[0m             \u001b[38;5;28;01mreturn\u001b[39;00m \u001b[43m_cl\u001b[49m\u001b[38;5;241;43m.\u001b[39;49m\u001b[43m_enqueue_write_buffer\u001b[49m\u001b[43m(\u001b[49m\u001b[43mqueue\u001b[49m\u001b[43m,\u001b[49m\u001b[43m \u001b[49m\u001b[43mdest\u001b[49m\u001b[43m,\u001b[49m\u001b[43m \u001b[49m\u001b[43msrc\u001b[49m\u001b[43m,\u001b[49m\u001b[43m \u001b[49m\u001b[38;5;241;43m*\u001b[39;49m\u001b[38;5;241;43m*\u001b[39;49m\u001b[43mkwargs\u001b[49m\u001b[43m)\u001b[49m\n\u001b[1;32m   1751\u001b[0m \u001b[38;5;28;01melif\u001b[39;00m dest\u001b[38;5;241m.\u001b[39mtype \u001b[38;5;129;01min\u001b[39;00m [mem_object_type\u001b[38;5;241m.\u001b[39mIMAGE2D, mem_object_type\u001b[38;5;241m.\u001b[39mIMAGE3D]:\n\u001b[1;32m   1752\u001b[0m     \u001b[38;5;28;01mif\u001b[39;00m \u001b[38;5;28misinstance\u001b[39m(src, MemoryObjectHolder):\n",
      "\u001b[0;31mMemoryError\u001b[0m: clEnqueueWriteBuffer failed: MEM_OBJECT_ALLOCATION_FAILURE"
     ]
    }
   ],
   "source": [
    "prototype_benchmark_data = benchmark_function(prototype_function)"
   ]
  },
  {
   "cell_type": "markdown",
   "metadata": {},
   "source": [
    "### Skimage"
   ]
  },
  {
   "cell_type": "code",
   "execution_count": 7,
   "metadata": {},
   "outputs": [],
   "source": [
    "def skimage_function(image):\n",
    "    h, bc = histogram(image)"
   ]
  },
  {
   "cell_type": "code",
   "execution_count": 8,
   "metadata": {},
   "outputs": [],
   "source": [
    "skimage_benchmark_data = benchmark_function(skimage_function)"
   ]
  },
  {
   "cell_type": "markdown",
   "metadata": {},
   "source": [
    "# Results"
   ]
  },
  {
   "cell_type": "code",
   "execution_count": 6,
   "metadata": {},
   "outputs": [
    {
     "data": {
      "image/png": "[encoded data removed]",
      "text/plain": [
       "<Figure size 432x288 with 1 Axes>"
      ]
     },
     "metadata": {
      "needs_background": "light"
     },
     "output_type": "display_data"
    }
   ],
   "source": [
    "plt.scatter(time_pyclic_size[:,0] ** 2, time_pyclic_size[:,1])\n",
    "plt.scatter(time_prototype_size[:,0] ** 2, time_prototype_size[:,1])\n",
    "plt.scatter(time_skimage_size[:,0] ** 2, time_skimage_size[:,1])\n",
    "\n",
    "plt.legend([\"pyclic\", \"prototype\", \"skimage\"])\n",
    "plt.xlabel(\"Image size in pixels\")\n",
    "plt.ylabel(\"Compute time in s\")\n",
    "plt.show()"
   ]
  }
 ],
 "metadata": {
  "kernelspec": {
   "display_name": "Python (opencl)",
   "language": "python",
   "name": "opencl"
  },
  "language_info": {
   "codemirror_mode": {
    "name": "ipython",
    "version": 3
   },
   "file_extension": ".py",
   "mimetype": "text/x-python",
   "name": "python",
   "nbconvert_exporter": "python",
   "pygments_lexer": "ipython3",
   "version": "3.9.12"
  }
 },
 "nbformat": 4,
 "nbformat_minor": 4
}
