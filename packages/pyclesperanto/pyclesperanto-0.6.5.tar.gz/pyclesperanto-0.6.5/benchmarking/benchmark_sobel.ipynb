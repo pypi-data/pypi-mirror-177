{
 "cells": [
  {
   "cell_type": "code",
   "execution_count": 9,
   "metadata": {},
   "outputs": [],
   "source": [
    "import timeit\n",
    "import numpy as np\n",
    "from functools import partial\n",
    "import matplotlib.pyplot as plt\n",
    "\n",
    "from skimage.filters import sobel\n",
    "import pyclesperanto_prototype as prototype\n",
    "from pyclesperanto import cle\n",
    "\n",
    "cle.set_wait_for_kernel_to_finish(True)\n",
    "\n",
    "prototype.select_device()\n",
    "prototype.set_wait_for_kernel_finish(True)\n",
    "\n",
    "sizes = [128, 256, 512, 1024, 2048, 4096, 8192]\n",
    "\n",
    "warmup_iter = 3\n",
    "eval_iter = 5"
   ]
  },
  {
   "cell_type": "code",
   "execution_count": 10,
   "metadata": {},
   "outputs": [],
   "source": [
    "def benchmark_function(target_function):\n",
    "    \"\"\"\n",
    "    Tests a function on a couple of image sizes and returns times taken for processing.\n",
    "    \"\"\"\n",
    "    benchmark_data = []\n",
    "    for size in sizes:\n",
    "        # make new data\n",
    "        image = np.random.rand(size, size)\n",
    "        # bind target function to given image\n",
    "        partial_function = partial(target_function, image)\n",
    "        # warmup       \n",
    "        warm_up_time_in_s = timeit.timeit(partial_function, number=warmup_iter)\n",
    "        # measure execution time\n",
    "        time_in_s = timeit.timeit(partial_function, number=eval_iter)\n",
    "        # store results\n",
    "        benchmark_data.append([size*4, time_in_s])\n",
    "    return np.asarray(benchmark_data)"
   ]
  },
  {
   "cell_type": "markdown",
   "metadata": {},
   "source": [
    "# Gaussian Blur"
   ]
  },
  {
   "cell_type": "markdown",
   "metadata": {},
   "source": [
    "### pyclesperanto-prototype"
   ]
  },
  {
   "cell_type": "code",
   "execution_count": 11,
   "metadata": {},
   "outputs": [],
   "source": [
    "def prototype_function(image):\n",
    "    prototype.sobel(source=image)"
   ]
  },
  {
   "cell_type": "code",
   "execution_count": 12,
   "metadata": {},
   "outputs": [],
   "source": [
    "prototype_benchmark_data = benchmark_function(prototype_function)"
   ]
  },
  {
   "cell_type": "markdown",
   "metadata": {},
   "source": [
    "### pyclesperanto"
   ]
  },
  {
   "cell_type": "code",
   "execution_count": 13,
   "metadata": {},
   "outputs": [],
   "source": [
    "def pyclic_function(image):\n",
    "    cle.sobel(input_image=image)"
   ]
  },
  {
   "cell_type": "code",
   "execution_count": 14,
   "metadata": {},
   "outputs": [],
   "source": [
    "pyclic_benchmark_data = benchmark_function(pyclic_function)"
   ]
  },
  {
   "cell_type": "markdown",
   "metadata": {},
   "source": [
    "### Skimage"
   ]
  },
  {
   "cell_type": "code",
   "execution_count": 15,
   "metadata": {},
   "outputs": [],
   "source": [
    "def skimage_function(image):\n",
    "    sobel(image)"
   ]
  },
  {
   "cell_type": "code",
   "execution_count": 16,
   "metadata": {},
   "outputs": [],
   "source": [
    "skimage_benchmark_data = benchmark_function(skimage_function)"
   ]
  },
  {
   "cell_type": "markdown",
   "metadata": {},
   "source": [
    "## Results"
   ]
  },
  {
   "cell_type": "code",
   "execution_count": 17,
   "metadata": {},
   "outputs": [
    {
     "data": {
      "image/png": "[encoded data removed]",
      "text/plain": [
       "<Figure size 432x288 with 1 Axes>"
      ]
     },
     "metadata": {
      "needs_background": "light"
     },
     "output_type": "display_data"
    }
   ],
   "source": [
    "plt.scatter(pyclic_benchmark_data[:,0] ** 2, pyclic_benchmark_data[:,1])\n",
    "plt.scatter(prototype_benchmark_data[:,0] ** 2, prototype_benchmark_data[:,1])\n",
    "plt.scatter(skimage_benchmark_data[:,0] ** 2, skimage_benchmark_data[:,1])\n",
    "\n",
    "plt.legend([\"pyclic\", \"clesp-prototype\", \"skimage\"])\n",
    "plt.xlabel(\"Image size Bytes\")\n",
    "plt.ylabel(\"Compute time in s\")\n",
    "plt.title(\"Sobel filter\")\n",
    "plt.show()"
   ]
  }
 ],
 "metadata": {
  "interpreter": {
   "hash": "3f81421c7fa4506b6b6de9206cb9f08306df987a32be10fdb055af11fc9f5235"
  },
  "kernelspec": {
   "display_name": "Python (opencl)",
   "language": "python",
   "name": "python3"
  },
  "language_info": {
   "codemirror_mode": {
    "name": "ipython",
    "version": 3
   },
   "file_extension": ".py",
   "mimetype": "text/x-python",
   "name": "python",
   "nbconvert_exporter": "python",
   "pygments_lexer": "ipython3",
   "version": "3.9.12"
  }
 },
 "nbformat": 4,
 "nbformat_minor": 4
}
