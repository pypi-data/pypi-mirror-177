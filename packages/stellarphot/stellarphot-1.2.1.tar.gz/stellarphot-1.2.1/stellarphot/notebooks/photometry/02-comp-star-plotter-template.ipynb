{
 "cells": [
  {
   "cell_type": "markdown",
   "metadata": {},
   "source": [
    "# Comparison star generator"
   ]
  },
  {
   "cell_type": "code",
   "execution_count": null,
   "metadata": {},
   "outputs": [],
   "source": [
    "import re\n",
    "\n",
    "import requests\n",
    "\n",
    "from astropy.coordinates import SkyCoord\n",
    "\n",
    "from stellarphot.visualization.comparison_functions import read_file, ComparisonViewer\n"
   ]
  },
  {
   "cell_type": "markdown",
   "metadata": {},
   "source": [
    "## Change the settings in this cell as needed"
   ]
  },
  {
   "cell_type": "code",
   "execution_count": null,
   "metadata": {},
   "outputs": [],
   "source": [
    "directory_with_images = '..'\n",
    "\n",
    "# 👉 This could be any image\n",
    "sample_image_for_finding_stars = 'TIC_237205154.01-S001-R013-C001-rp.fit'\n",
    "\n",
    "# 👉 You will be able to use this name later to pull out the data you want\n",
    "object_of_interest = ''\n",
    "\n",
    "# 👉 Enter the coordinates of your object \n",
    "ra_object = '19:34:19.97'\n",
    "dec_object = '76:39:39.91'\n",
    "\n",
    "bright_mag_limit = 9\n",
    "dim_mag_limit = 16\n",
    "Cmag = 10\n",
    "\n",
    "# 👉 File to save apertures in\n",
    "aperture_output_file = 'aperture_locations.csv'"
   ]
  },
  {
   "cell_type": "code",
   "execution_count": null,
   "metadata": {},
   "outputs": [],
   "source": [
    "try:\n",
    "    coordinate = SkyCoord.from_name(object_of_interest)\n",
    "except:\n",
    "    coordinate = SkyCoord(ra=ra_object, dec=dec_object, unit=(\"hour\", \"degree\"))"
   ]
  },
  {
   "cell_type": "code",
   "execution_count": null,
   "metadata": {},
   "outputs": [],
   "source": [
    "comp_viewer = ComparisonViewer(sample_image_for_finding_stars,\n",
    "                           directory=directory_with_images,\n",
    "                           target_mag=Cmag,\n",
    "                           bright_mag_limit=bright_mag_limit,\n",
    "                           dim_mag_limit=dim_mag_limit,\n",
    "                           targets_from_file=None,\n",
    "                           object_coordinate=coordinate,\n",
    "                             aperture_output_file=aperture_output_file\n",
    "                          )\n",
    "comp_viewer.box"
   ]
  },
  {
   "cell_type": "code",
   "execution_count": null,
   "metadata": {},
   "outputs": [],
   "source": []
  }
 ],
 "metadata": {
  "kernelspec": {
   "display_name": "Python 3 (ipykernel)",
   "language": "python",
   "name": "python3"
  },
  "language_info": {
   "codemirror_mode": {
    "name": "ipython",
    "version": 3
   },
   "file_extension": ".py",
   "mimetype": "text/x-python",
   "name": "python",
   "nbconvert_exporter": "python",
   "pygments_lexer": "ipython3",
   "version": "3.10.5"
  }
 },
 "nbformat": 4,
 "nbformat_minor": 4
}
